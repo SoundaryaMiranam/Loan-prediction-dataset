{
  "nbformat": 4,
  "nbformat_minor": 0,
  "metadata": {
    "colab": {
      "name": "Introduction.ipynb",
      "provenance": [],
      "collapsed_sections": []
    },
    "kernelspec": {
      "name": "python3",
      "display_name": "Python 3"
    },
    "language_info": {
      "name": "python"
    }
  },
  "cells": [
    {
      "cell_type": "markdown",
      "metadata": {
        "id": "XwABbGrBp_GI"
      },
      "source": [
        "Numpy is a general-purpose array processing package which provides tools for handling the n-dimensional arrays.List is used for single dimension array operation where as numpy for multi dimension.\n",
        "\n",
        "ref:https://www.geeksforgeeks.org/python-programming-language/?ref=ghm"
      ]
    },
    {
      "cell_type": "markdown",
      "metadata": {
        "id": "hgB3FOIUlQMJ"
      },
      "source": [
        "#NUMPY"
      ]
    },
    {
      "cell_type": "code",
      "metadata": {
        "id": "jGbivuuNY-9r"
      },
      "source": [
        "#Any module in python is a class.\n",
        "#import a module with alias name (np).\n",
        "import numpy as np "
      ],
      "execution_count": 1,
      "outputs": []
    },
    {
      "cell_type": "code",
      "metadata": {
        "colab": {
          "base_uri": "https://localhost:8080/"
        },
        "id": "xrJ_-D8-0Oon",
        "outputId": "72c68d6f-2fa6-4e87-d8d6-ff995395baad"
      },
      "source": [
        "# Creating array object\n",
        "#function np.array converts lists into array\n",
        "arr = np.array( [[ 1, 2, 3],\n",
        "                 [ 4, 2, 5],\n",
        "                 [ 6, 1, 7]])\n",
        "print(\"Array is: \\n\", (arr))\n",
        "\n",
        "# Printing type of arr object\n",
        "print(\"Array is of type: \", type(arr)) \n",
        "\n",
        "# Printing array dimensions (axes)\n",
        "print(\"\\nNo. of dimensions: \", arr.ndim)\n",
        "  \n",
        "# Printing shape of array\n",
        "print(\"\\nShape of array: \", arr.shape)\n",
        "  \n",
        "# Printing size (total number of elements) of array\n",
        "print(\"\\nSize of array: \", arr.size)\n",
        "  \n",
        "# Printing type of elements in array\n",
        "print(\"\\nArray stores elements of type: \", arr.dtype)\n",
        "\n",
        "# Changing the datatype of array\n",
        "b = np.array([[ 1, 2, 3],[ 4, 2, 5],[ 6, 1, 7]] , dtype = 'complex')\n",
        "print(\"\\n\",b)\n",
        "print(\"Array stores elements of type: \", b.dtype)\n",
        "\n",
        "###NOTE: LOOK FOR DIM. AND SHAPE OF THE ARRAY###\n",
        "###no of square brackets denotes DIM. and "
      ],
      "execution_count": 2,
      "outputs": [
        {
          "output_type": "stream",
          "text": [
            "Array is: \n",
            " [[1 2 3]\n",
            " [4 2 5]\n",
            " [6 1 7]]\n",
            "Array is of type:  <class 'numpy.ndarray'>\n",
            "\n",
            "No. of dimensions:  2\n",
            "\n",
            "Shape of array:  (3, 3)\n",
            "\n",
            "Size of array:  9\n",
            "\n",
            "Array stores elements of type:  int64\n",
            "\n",
            " [[1.+0.j 2.+0.j 3.+0.j]\n",
            " [4.+0.j 2.+0.j 5.+0.j]\n",
            " [6.+0.j 1.+0.j 7.+0.j]]\n",
            "Array stores elements of type:  complex128\n"
          ],
          "name": "stdout"
        }
      ]
    },
    {
      "cell_type": "code",
      "metadata": {
        "colab": {
          "base_uri": "https://localhost:8080/"
        },
        "id": "IRpyi40LvHQI",
        "outputId": "6dd4722e-0cec-4e6e-ed5d-480db42eeca1"
      },
      "source": [
        "#Array creation ways \n",
        "# Creating array from list with type float\n",
        "a = np.array([[1, 2, 4], [5, 8, 7]], dtype = 'float')\n",
        "print(\"Array created using passed list:\\n\", a)\n",
        "\n",
        "# Creating array from tuple\n",
        "b = np.array((1, 3, 2))\n",
        "print(\"\\nArray created using passed tuple:\\n\", b)\n",
        "  \n",
        "# Creating a array with all zeros\n",
        "c = np.zeros((2, 3))\n",
        "print(\"\\nAn array initialized with all zeros:\\n\" ,format(c))\n",
        "\n",
        "# Creating a array with all ones\n",
        "d = np.ones((2, 3))\n",
        "print(\"\\nAn array initialized with all ones:\\n\" ,format(d))\n",
        "\n",
        "# Create an array with random values\n",
        "# Sometimes it stores null values or random values\n",
        "e = np.random.random((2, 2))\n",
        "print(\"\\nA random array:\\n\", format(e))\n",
        "\n",
        "# Creating a identity array \n",
        "f = np.eye(3)\n",
        "print(\"\\nA identity array:\\n\" ,format(f))\n",
        "\n",
        "# Creating an array of ones with the same size of passed array. Here, (c).\n",
        "g = np.ones_like(c) # np.zeros_like\n",
        "print(\"\\nA ones_like array:\\n\" ,format(g))\n",
        "\n",
        "# Create a constant value array with inf values\n",
        "h = np.full((3, 3),  np.inf) # np.inf denotes a large number \n",
        "print(\"\\nArray with inf values:\\n\",format(h))\n",
        "i = np.full((3, 3), 6,dtype = 'complex')\n",
        "print(\"\\nArray type is complex:\\n\",format(i))"
      ],
      "execution_count": 3,
      "outputs": [
        {
          "output_type": "stream",
          "text": [
            "Array created using passed list:\n",
            " [[1. 2. 4.]\n",
            " [5. 8. 7.]]\n",
            "\n",
            "Array created using passed tuple:\n",
            " [1 3 2]\n",
            "\n",
            "An array initialized with all zeros:\n",
            " [[0. 0. 0.]\n",
            " [0. 0. 0.]]\n",
            "\n",
            "An array initialized with all ones:\n",
            " [[1. 1. 1.]\n",
            " [1. 1. 1.]]\n",
            "\n",
            "A random array:\n",
            " [[0.22635115 0.43775529]\n",
            " [0.32396039 0.12365252]]\n",
            "\n",
            "A identity array:\n",
            " [[1. 0. 0.]\n",
            " [0. 1. 0.]\n",
            " [0. 0. 1.]]\n",
            "\n",
            "A ones_like array:\n",
            " [[1. 1. 1.]\n",
            " [1. 1. 1.]]\n",
            "\n",
            "Array with inf values:\n",
            " [[inf inf inf]\n",
            " [inf inf inf]\n",
            " [inf inf inf]]\n",
            "\n",
            "Array type is complex:\n",
            " [[6.+0.j 6.+0.j 6.+0.j]\n",
            " [6.+0.j 6.+0.j 6.+0.j]\n",
            " [6.+0.j 6.+0.j 6.+0.j]]\n"
          ],
          "name": "stdout"
        }
      ]
    },
    {
      "cell_type": "code",
      "metadata": {
        "colab": {
          "base_uri": "https://localhost:8080/"
        },
        "id": "lVhTxxCq_Xkz",
        "outputId": "3c3f5661-96ea-4569-f291-1091ca57a948"
      },
      "source": [
        "a = np.array( [[ 1, 2, 3],\n",
        "                 [ 4, 6, 5],\n",
        "                 [ 8, 9, 7]])\n",
        "print(\"Array is: \\n\", (a))\n",
        "print(\"-\"*40)\n",
        "\n",
        "# Diagonal of array\n",
        "# It takes square matrix as an input \n",
        "b = np.diag(a)\n",
        "print(\"Main diagonal of array a :{}\".format(b))\n",
        "\n",
        "# Finding the diagonals above and below the main diagonal\n",
        "c = np.diag(a, k = 1)\n",
        "print('The diagonals above the main diagonal:{}'.format(c))\n",
        "d = np.diag(a, k=-1)\n",
        "print(\"The diagonals below the main diagonal:{}\".format(d))"
      ],
      "execution_count": 4,
      "outputs": [
        {
          "output_type": "stream",
          "text": [
            "Array is: \n",
            " [[1 2 3]\n",
            " [4 6 5]\n",
            " [8 9 7]]\n",
            "----------------------------------------\n",
            "Main diagonal of array a :[1 6 7]\n",
            "The diagonals above the main diagonal:[2 5]\n",
            "The diagonals below the main diagonal:[4 9]\n"
          ],
          "name": "stdout"
        }
      ]
    },
    {
      "cell_type": "code",
      "metadata": {
        "colab": {
          "base_uri": "https://localhost:8080/"
        },
        "id": "c5UFL2UoCwUO",
        "outputId": "61c6752c-8864-442c-8358-595e60da5cd3"
      },
      "source": [
        "# Creating a sequence of numbers\n",
        "\n",
        "# Create a sequence of integers \n",
        "# from 0 to 30 with steps of 5\n",
        "a = np.arange(0, 30, 5)\n",
        "print (\"A sequential array with steps of 5:\\n\", a)\n",
        "\n",
        "# Create a sequence of 10 values in range 0 to 5\n",
        "b = np.linspace(0, 5, 10)\n",
        "print (\"\\nA sequential array with 10 values between 0 and 5:\\n\", b)\n",
        "\n",
        "# Create a sequence of numbers with stride 0.5\n",
        "c = np.arange(0, 7, 0.5)\n",
        "print (\"\\nA sequential array with stride 0.5:\\n\", c)"
      ],
      "execution_count": 5,
      "outputs": [
        {
          "output_type": "stream",
          "text": [
            "A sequential array with steps of 5:\n",
            " [ 0  5 10 15 20 25]\n",
            "\n",
            "A sequential array with 10 values between 0 and 5:\n",
            " [0.         0.55555556 1.11111111 1.66666667 2.22222222 2.77777778\n",
            " 3.33333333 3.88888889 4.44444444 5.        ]\n",
            "\n",
            "A sequential array with stride 0.5:\n",
            " [0.  0.5 1.  1.5 2.  2.5 3.  3.5 4.  4.5 5.  5.5 6.  6.5]\n"
          ],
          "name": "stdout"
        }
      ]
    },
    {
      "cell_type": "code",
      "metadata": {
        "colab": {
          "base_uri": "https://localhost:8080/"
        },
        "id": "M8LGb6HzFSCM",
        "outputId": "f6d2109b-ff9f-440c-d753-a056da6dfe86"
      },
      "source": [
        "# Create a vector and reshape it into array(5,2)\n",
        "a = np.arange(10)\n",
        "new = a.reshape(5,2)\n",
        "print(\"\\nOriginal vector:\\n\", a)\n",
        "print(\"Reshaped array:\\n\", new)\n",
        "print(\"-\"*40)\n",
        "\n",
        "# Reshaping 3X4 array to 2X2X3 array\n",
        "arr = np.array([[1, 2, 3, 4],\n",
        "                [5, 2, 4, 2],\n",
        "                [1, 2, 0, 1]])\n",
        "\n",
        "print (\"\\nOriginal array:\\n\", arr)\n",
        "print(\"Shape of array: \", arr.shape)\n",
        "\n",
        "newarr = arr.reshape(2, 2, 3)\n",
        "print(\"Reshaped array:\\n\", newarr)\n",
        "print(\"Shape of array: \", newarr.shape)\n",
        "print(\"-\"*40)\n",
        "\n",
        "# Flatten array\n",
        "arr = np.array([[1, 2, 3], [4, 5, 6]])\n",
        "flarr = arr.flatten()\n",
        "  \n",
        "print (\"\\nOriginal array:\\n\", arr)\n",
        "print (\"Fattened array:\\n\", flarr)\n",
        "print(\"Shape of array: \", flarr.shape)"
      ],
      "execution_count": 6,
      "outputs": [
        {
          "output_type": "stream",
          "text": [
            "\n",
            "Original vector:\n",
            " [0 1 2 3 4 5 6 7 8 9]\n",
            "Reshaped array:\n",
            " [[0 1]\n",
            " [2 3]\n",
            " [4 5]\n",
            " [6 7]\n",
            " [8 9]]\n",
            "----------------------------------------\n",
            "\n",
            "Original array:\n",
            " [[1 2 3 4]\n",
            " [5 2 4 2]\n",
            " [1 2 0 1]]\n",
            "Shape of array:  (3, 4)\n",
            "Reshaped array:\n",
            " [[[1 2 3]\n",
            "  [4 5 2]]\n",
            "\n",
            " [[4 2 1]\n",
            "  [2 0 1]]]\n",
            "Shape of array:  (2, 2, 3)\n",
            "----------------------------------------\n",
            "\n",
            "Original array:\n",
            " [[1 2 3]\n",
            " [4 5 6]]\n",
            "Fattened array:\n",
            " [1 2 3 4 5 6]\n",
            "Shape of array:  (6,)\n"
          ],
          "name": "stdout"
        }
      ]
    },
    {
      "cell_type": "markdown",
      "metadata": {
        "id": "-UFKxDgfP0hf"
      },
      "source": [
        "2-d or 3-d is matrix but higher demensions are called tensors."
      ]
    },
    {
      "cell_type": "code",
      "metadata": {
        "id": "CkDYXe4sBn6f",
        "colab": {
          "base_uri": "https://localhost:8080/"
        },
        "outputId": "3561d87b-4af4-4e86-a6f0-eca31608cfb4"
      },
      "source": [
        "# transpose of array\n",
        "a = np.array([[1, 2, 3], [3, 4, 5], [9, 6, 0]])\n",
        "  \n",
        "print (\"Original 2-D array:\\n\", a)\n",
        "print (\"Transpose of array:\\n\", a.T)\n",
        "\n",
        "print(\"-\"*50)\n",
        "b = np.array([[[1, 2, 3], [3, 4, 5], [9, 6, 0]]])\n",
        "print (\"Original 3-D array:\\n\", b)\n",
        "print (\"Transpose of array:\\n\", b.transpose(0, 2, 1)) # b.swapaxes(1,2)"
      ],
      "execution_count": 7,
      "outputs": [
        {
          "output_type": "stream",
          "text": [
            "Original 2-D array:\n",
            " [[1 2 3]\n",
            " [3 4 5]\n",
            " [9 6 0]]\n",
            "Transpose of array:\n",
            " [[1 3 9]\n",
            " [2 4 6]\n",
            " [3 5 0]]\n",
            "--------------------------------------------------\n",
            "Original 3-D array:\n",
            " [[[1 2 3]\n",
            "  [3 4 5]\n",
            "  [9 6 0]]]\n",
            "Transpose of array:\n",
            " [[[1 3 9]\n",
            "  [2 4 6]\n",
            "  [3 5 0]]]\n"
          ],
          "name": "stdout"
        }
      ]
    },
    {
      "cell_type": "code",
      "metadata": {
        "colab": {
          "base_uri": "https://localhost:8080/"
        },
        "id": "lmY6Eq8ix6RA",
        "outputId": "3d7aff3a-638d-4f60-dd25-f8600480699a"
      },
      "source": [
        "# Creating a random array\n",
        "np.random.seed(4) #seed fixes the randomness when ever run returns the same values(pseudo-randomness).\n",
        "a = np.random.random_sample((3,2))\n",
        "print(a)"
      ],
      "execution_count": 8,
      "outputs": [
        {
          "output_type": "stream",
          "text": [
            "[[0.96702984 0.54723225]\n",
            " [0.97268436 0.71481599]\n",
            " [0.69772882 0.2160895 ]]\n"
          ],
          "name": "stdout"
        }
      ]
    },
    {
      "cell_type": "code",
      "metadata": {
        "colab": {
          "base_uri": "https://localhost:8080/"
        },
        "id": "re670DG0zKbs",
        "outputId": "8ccf32ee-2c17-4232-d792-ad842e8007d9"
      },
      "source": [
        "arr = np.array([[1, 5, 6],\n",
        "                [4, 7, 2],\n",
        "                [3, 1, 9]])\n",
        "  \n",
        "# maximum element of array  or other way for multi-D (np.argmax(arr,1))\n",
        "print(\"Largest element is:\", arr.max()) # arr.min()\n",
        "print(\"Largest element index value is:\",np.argmax(arr)) #np.argmin(arr)\n",
        "print(\"Row-wise maximum elements:\",arr.max(axis = 1))  #1 -cloumn\n",
        "  \n",
        "# minimum element of array\n",
        "print(\"Column-wise minimum elements:\",arr.min(axis = 0)) #0-row\n",
        "\n",
        "# min and max of row 1 and 2\n",
        "print(\"Max of row 1 and row 2\",np.maximum(arr[0],arr[1]))\n",
        "print(np.where(arr[0]>=arr[1],arr[0],arr[1]))"
      ],
      "execution_count": 9,
      "outputs": [
        {
          "output_type": "stream",
          "text": [
            "Largest element is: 9\n",
            "Largest element index value is: 8\n",
            "Row-wise maximum elements: [6 7 9]\n",
            "Column-wise minimum elements: [1 1 2]\n",
            "Max of row 1 and row 2 [4 7 6]\n",
            "[4 7 6]\n"
          ],
          "name": "stdout"
        }
      ]
    },
    {
      "cell_type": "code",
      "metadata": {
        "colab": {
          "base_uri": "https://localhost:8080/"
        },
        "id": "NxKeOZOdsn0I",
        "outputId": "b7a41271-68c7-4336-aef1-6e7e704d18af"
      },
      "source": [
        "# Statistical functions\n",
        "arr = np.array([[1, 5, 6],\n",
        "                [4, 7, 2],\n",
        "                [3, 1, 9]])\n",
        "print(\"Array is: \\n\", (arr))\n",
        "print(\"-\"*50)\n",
        "print(\"mean of array is: \",np.mean(arr))\n",
        "print(\"mean of array is: \",(arr[0]))\n",
        "print(\"mean of array is: \",(arr[:,0]))\n",
        "print(\"Varience of array is: \",np.var(arr))\n",
        "print(\"standard devience of array is: \",np.std(arr))"
      ],
      "execution_count": 10,
      "outputs": [
        {
          "output_type": "stream",
          "text": [
            "Array is: \n",
            " [[1 5 6]\n",
            " [4 7 2]\n",
            " [3 1 9]]\n",
            "--------------------------------------------------\n",
            "mean of array is:  4.222222222222222\n",
            "mean of array is:  [1 5 6]\n",
            "mean of array is:  [1 4 3]\n",
            "Varience of array is:  6.839506172839506\n",
            "standard devience of array is:  2.6152449546532934\n"
          ],
          "name": "stdout"
        }
      ]
    },
    {
      "cell_type": "code",
      "metadata": {
        "colab": {
          "base_uri": "https://localhost:8080/"
        },
        "id": "foj7Ow-Tsn4D",
        "outputId": "5f7f8627-e8d6-47ae-ce97-816711b23d0e"
      },
      "source": [
        "# Linear algebra functions (linalg)\n",
        "arr = np.array([[1, 5, 6],\n",
        "                [4, 7, 2],\n",
        "                [3, 1, 9]])\n",
        "print(\"Array is: \\n\", (arr))\n",
        "print(\"Exponent of matrix:\\n\",np.exp(arr))\n",
        "print(\"determint of matrix:\\n\",np.linalg.det(arr))\n",
        "print(\"Trace of matrix:\\n\",np.trace(arr))\n",
        "\n",
        "# Eigen values and eigen vector\n",
        "eig_val, eig_vec = np.linalg.eig(arr)\n",
        "print(\"Eigen values of matrix:\\n\",eig_val)\n",
        "print(\"Eigen vector of matrix:\\n\",eig_vec)"
      ],
      "execution_count": 11,
      "outputs": [
        {
          "output_type": "stream",
          "text": [
            "Array is: \n",
            " [[1 5 6]\n",
            " [4 7 2]\n",
            " [3 1 9]]\n",
            "Exponent of matrix:\n",
            " [[2.71828183e+00 1.48413159e+02 4.03428793e+02]\n",
            " [5.45981500e+01 1.09663316e+03 7.38905610e+00]\n",
            " [2.00855369e+01 2.71828183e+00 8.10308393e+03]]\n",
            "determint of matrix:\n",
            " -191.0\n",
            "Trace of matrix:\n",
            " 17\n",
            "Eigen values of matrix:\n",
            " [-2.29400422 12.77815567  6.51584854]\n",
            "Eigen vector of matrix:\n",
            " [[ 0.91342069 -0.55124584 -0.1676286 ]\n",
            " [-0.34753222 -0.58687809 -0.82765877]\n",
            " [-0.21185842 -0.5930448   0.53561331]]\n"
          ],
          "name": "stdout"
        }
      ]
    },
    {
      "cell_type": "code",
      "metadata": {
        "colab": {
          "base_uri": "https://localhost:8080/"
        },
        "id": "mD3qBP2gPUGS",
        "outputId": "ac517f63-9013-4521-fad5-bd4204803f17"
      },
      "source": [
        "# Single value decomposition\n",
        "u,s, vh = np.linalg.svd(arr)\n",
        "print(\"The u values of matrix:\\n\",u )\n",
        "print(\"The v  values of matrix:\\n\",vh)\n",
        "print(\"The svd of matrix:\\n\",s)"
      ],
      "execution_count": 12,
      "outputs": [
        {
          "output_type": "stream",
          "text": [
            "The u values of matrix:\n",
            " [[ 0.57774962 -0.06004814  0.81400221]\n",
            " [ 0.50109829 -0.76112661 -0.41180918]\n",
            " [ 0.64428712  0.64581771 -0.40965059]]\n",
            "The v  values of matrix:\n",
            " [[ 0.34093806  0.53166076  0.77530515]\n",
            " [-0.18088837 -0.77220519  0.60908008]\n",
            " [-0.92251864  0.34790226  0.16710289]]\n",
            "The svd of matrix:\n",
            " [13.24288675  6.45205356  2.23538709]\n"
          ],
          "name": "stdout"
        }
      ]
    },
    {
      "cell_type": "code",
      "metadata": {
        "colab": {
          "base_uri": "https://localhost:8080/"
        },
        "id": "dZVudc8fsn99",
        "outputId": "c6e40427-efc9-44ea-9fa8-aadb78e66fdd"
      },
      "source": [
        "# Generate two matrix and compose dot product(element wise multiplication),matmul and matrix multiplication(normal multiplication)\n",
        "a = np.array([[1,2],[3,4]])\n",
        "b = np.array([[5,6],[7,8]])\n",
        "c = np.dot(a,b)\n",
        "d = np.matmul(a,b)\n",
        "print(\"dot product with dot function:\\n\",c)\n",
        "print(\"dot product with matmul:\\n\",d)\n",
        "print(\"matrix multiplication of two array:\\n\",(a*b))"
      ],
      "execution_count": 13,
      "outputs": [
        {
          "output_type": "stream",
          "text": [
            "dot product with dot function:\n",
            " [[19 22]\n",
            " [43 50]]\n",
            "dot product with matmul:\n",
            " [[19 22]\n",
            " [43 50]]\n",
            "matrix multiplication of two array:\n",
            " [[ 5 12]\n",
            " [21 32]]\n"
          ],
          "name": "stdout"
        }
      ]
    },
    {
      "cell_type": "code",
      "metadata": {
        "colab": {
          "base_uri": "https://localhost:8080/"
        },
        "id": "WnWmxIpEj0zw",
        "outputId": "00defeb2-05f5-404b-c0f4-780ed200da78"
      },
      "source": [
        "# Inverse and pseudo inverse\n",
        "a = np.array([[1,2],[3,4]])\n",
        "print(\"dot product with matmul:\\n\",np.linalg.inv(a))\n",
        "print(\"dot product with matmul:\\n\",np.linalg.pinv(a))"
      ],
      "execution_count": 14,
      "outputs": [
        {
          "output_type": "stream",
          "text": [
            "dot product with matmul:\n",
            " [[-2.   1. ]\n",
            " [ 1.5 -0.5]]\n",
            "dot product with matmul:\n",
            " [[-2.   1. ]\n",
            " [ 1.5 -0.5]]\n"
          ],
          "name": "stdout"
        }
      ]
    },
    {
      "cell_type": "code",
      "metadata": {
        "id": "PxXtdGF9j09d"
      },
      "source": [
        "import random #(if munpy is imported no need to mention this library)"
      ],
      "execution_count": 15,
      "outputs": []
    },
    {
      "cell_type": "markdown",
      "metadata": {
        "id": "0tuPMYVrlT9Q"
      },
      "source": [
        "#PANDAS"
      ]
    },
    {
      "cell_type": "code",
      "metadata": {
        "id": "DxBUcPNutSpO"
      },
      "source": [
        "import pandas as pd #(handles series and dataframes)\n",
        "#used to work on different datatypes"
      ],
      "execution_count": 16,
      "outputs": []
    },
    {
      "cell_type": "code",
      "metadata": {
        "colab": {
          "base_uri": "https://localhost:8080/",
          "height": 142
        },
        "id": "9cXR3KV_zTmA",
        "outputId": "99d961bc-82f7-4d01-a34a-025e0ea7bcd1"
      },
      "source": [
        "CustomerData = pd.DataFrame({\n",
        "    \"Name\": [\"Sahar\",\n",
        "             \"Nisha\",\n",
        "             \"Lokesh\"],\n",
        "    \"age\":[28, 30, 25],\n",
        "    \"Sex\":[\"female\",\"female\",\"male\"]\n",
        "})\n",
        "\n",
        "CustomerData"
      ],
      "execution_count": 17,
      "outputs": [
        {
          "output_type": "execute_result",
          "data": {
            "text/html": [
              "<div>\n",
              "<style scoped>\n",
              "    .dataframe tbody tr th:only-of-type {\n",
              "        vertical-align: middle;\n",
              "    }\n",
              "\n",
              "    .dataframe tbody tr th {\n",
              "        vertical-align: top;\n",
              "    }\n",
              "\n",
              "    .dataframe thead th {\n",
              "        text-align: right;\n",
              "    }\n",
              "</style>\n",
              "<table border=\"1\" class=\"dataframe\">\n",
              "  <thead>\n",
              "    <tr style=\"text-align: right;\">\n",
              "      <th></th>\n",
              "      <th>Name</th>\n",
              "      <th>age</th>\n",
              "      <th>Sex</th>\n",
              "    </tr>\n",
              "  </thead>\n",
              "  <tbody>\n",
              "    <tr>\n",
              "      <th>0</th>\n",
              "      <td>Sahar</td>\n",
              "      <td>28</td>\n",
              "      <td>female</td>\n",
              "    </tr>\n",
              "    <tr>\n",
              "      <th>1</th>\n",
              "      <td>Nisha</td>\n",
              "      <td>30</td>\n",
              "      <td>female</td>\n",
              "    </tr>\n",
              "    <tr>\n",
              "      <th>2</th>\n",
              "      <td>Lokesh</td>\n",
              "      <td>25</td>\n",
              "      <td>male</td>\n",
              "    </tr>\n",
              "  </tbody>\n",
              "</table>\n",
              "</div>"
            ],
            "text/plain": [
              "     Name  age     Sex\n",
              "0   Sahar   28  female\n",
              "1   Nisha   30  female\n",
              "2  Lokesh   25    male"
            ]
          },
          "metadata": {
            "tags": []
          },
          "execution_count": 17
        }
      ]
    },
    {
      "cell_type": "code",
      "metadata": {
        "colab": {
          "base_uri": "https://localhost:8080/"
        },
        "id": "UwQBrtgz0HF_",
        "outputId": "015a8eb4-e45f-41dc-d42b-af696df017fa"
      },
      "source": [
        "CustomerData[\"age\"]\n",
        "(CustomerData[\"age\"]==0)\n",
        "CustomerData[\"age\"].max()"
      ],
      "execution_count": 18,
      "outputs": [
        {
          "output_type": "execute_result",
          "data": {
            "text/plain": [
              "30"
            ]
          },
          "metadata": {
            "tags": []
          },
          "execution_count": 18
        }
      ]
    },
    {
      "cell_type": "code",
      "metadata": {
        "colab": {
          "base_uri": "https://localhost:8080/"
        },
        "id": "sQOIK8d-0Jdp",
        "outputId": "35c6a8fa-31b3-4e3e-97a5-0c9cb92351be"
      },
      "source": [
        "CustomerData.describe()\n",
        "CustomerData.head(5)\n",
        "CustomerData.dtypes\n",
        "CustomerData.info #technical summary"
      ],
      "execution_count": 19,
      "outputs": [
        {
          "output_type": "execute_result",
          "data": {
            "text/plain": [
              "<bound method DataFrame.info of      Name  age     Sex\n",
              "0   Sahar   28  female\n",
              "1   Nisha   30  female\n",
              "2  Lokesh   25    male>"
            ]
          },
          "metadata": {
            "tags": []
          },
          "execution_count": 19
        }
      ]
    },
    {
      "cell_type": "code",
      "metadata": {
        "colab": {
          "base_uri": "https://localhost:8080/"
        },
        "id": "eRnEto6B0LXU",
        "outputId": "1fe135e9-d3dd-41c0-d502-15b50c21e545"
      },
      "source": [
        "age = CustomerData[\"age\"] #df.age\n",
        "age.shape"
      ],
      "execution_count": 20,
      "outputs": [
        {
          "output_type": "execute_result",
          "data": {
            "text/plain": [
              "(3,)"
            ]
          },
          "metadata": {
            "tags": []
          },
          "execution_count": 20
        }
      ]
    },
    {
      "cell_type": "code",
      "metadata": {
        "colab": {
          "base_uri": "https://localhost:8080/",
          "height": 80
        },
        "id": "ET_wviCO0M8i",
        "outputId": "3aff450d-1752-49dc-99cc-19680e904b4e"
      },
      "source": [
        "CustomerData[[\"age\", \"Name\"]] #To access multiple columns\n",
        "adult = CustomerData[CustomerData[\"age\"]>28]  #entire dataframe with age above 29\n",
        "adult.head()"
      ],
      "execution_count": 21,
      "outputs": [
        {
          "output_type": "execute_result",
          "data": {
            "text/html": [
              "<div>\n",
              "<style scoped>\n",
              "    .dataframe tbody tr th:only-of-type {\n",
              "        vertical-align: middle;\n",
              "    }\n",
              "\n",
              "    .dataframe tbody tr th {\n",
              "        vertical-align: top;\n",
              "    }\n",
              "\n",
              "    .dataframe thead th {\n",
              "        text-align: right;\n",
              "    }\n",
              "</style>\n",
              "<table border=\"1\" class=\"dataframe\">\n",
              "  <thead>\n",
              "    <tr style=\"text-align: right;\">\n",
              "      <th></th>\n",
              "      <th>Name</th>\n",
              "      <th>age</th>\n",
              "      <th>Sex</th>\n",
              "    </tr>\n",
              "  </thead>\n",
              "  <tbody>\n",
              "    <tr>\n",
              "      <th>1</th>\n",
              "      <td>Nisha</td>\n",
              "      <td>30</td>\n",
              "      <td>female</td>\n",
              "    </tr>\n",
              "  </tbody>\n",
              "</table>\n",
              "</div>"
            ],
            "text/plain": [
              "    Name  age     Sex\n",
              "1  Nisha   30  female"
            ]
          },
          "metadata": {
            "tags": []
          },
          "execution_count": 21
        }
      ]
    },
    {
      "cell_type": "code",
      "metadata": {
        "colab": {
          "base_uri": "https://localhost:8080/"
        },
        "id": "GVfPFDce0O23",
        "outputId": "f213395b-2baf-4fa9-c44c-bda3fc2783b1"
      },
      "source": [
        "name_adult = CustomerData.loc[CustomerData[\"age\"]>28, \"Name\"]  # here we get the names only\n",
        "name_adult.head()"
      ],
      "execution_count": 22,
      "outputs": [
        {
          "output_type": "execute_result",
          "data": {
            "text/plain": [
              "1    Nisha\n",
              "Name: Name, dtype: object"
            ]
          },
          "metadata": {
            "tags": []
          },
          "execution_count": 22
        }
      ]
    },
    {
      "cell_type": "code",
      "metadata": {
        "colab": {
          "base_uri": "https://localhost:8080/",
          "height": 80
        },
        "id": "K-IewDKdtSv2",
        "outputId": "97bd53d0-d5cd-4718-ad1d-9dba77738e8f"
      },
      "source": [
        "# Select rows 1 to 3 and columns 1 and 2\n",
        "CustomerData.iloc[0:3,0:2] \n",
        "#iloc is used from intergers call whereas loc accepts string names\n",
        "CustomerData.sample()\n",
        "\n",
        "### Select specific row and/or column using loc when using row and column names.\n",
        "### Select specific row and/or column using iloc when using the position in the table."
      ],
      "execution_count": 23,
      "outputs": [
        {
          "output_type": "execute_result",
          "data": {
            "text/html": [
              "<div>\n",
              "<style scoped>\n",
              "    .dataframe tbody tr th:only-of-type {\n",
              "        vertical-align: middle;\n",
              "    }\n",
              "\n",
              "    .dataframe tbody tr th {\n",
              "        vertical-align: top;\n",
              "    }\n",
              "\n",
              "    .dataframe thead th {\n",
              "        text-align: right;\n",
              "    }\n",
              "</style>\n",
              "<table border=\"1\" class=\"dataframe\">\n",
              "  <thead>\n",
              "    <tr style=\"text-align: right;\">\n",
              "      <th></th>\n",
              "      <th>Name</th>\n",
              "      <th>age</th>\n",
              "      <th>Sex</th>\n",
              "    </tr>\n",
              "  </thead>\n",
              "  <tbody>\n",
              "    <tr>\n",
              "      <th>2</th>\n",
              "      <td>Lokesh</td>\n",
              "      <td>25</td>\n",
              "      <td>male</td>\n",
              "    </tr>\n",
              "  </tbody>\n",
              "</table>\n",
              "</div>"
            ],
            "text/plain": [
              "     Name  age   Sex\n",
              "2  Lokesh   25  male"
            ]
          },
          "metadata": {
            "tags": []
          },
          "execution_count": 23
        }
      ]
    },
    {
      "cell_type": "code",
      "metadata": {
        "id": "imquFcxoswS-",
        "colab": {
          "base_uri": "https://localhost:8080/"
        },
        "outputId": "a48910b2-b8fe-4896-dec9-3a23916580b7"
      },
      "source": [
        "CustomerData['age'].mean() #median(), mode(), max(), min(), skew(), var(), std()"
      ],
      "execution_count": 24,
      "outputs": [
        {
          "output_type": "execute_result",
          "data": {
            "text/plain": [
              "27.666666666666668"
            ]
          },
          "metadata": {
            "tags": []
          },
          "execution_count": 24
        }
      ]
    },
    {
      "cell_type": "code",
      "metadata": {
        "id": "gkGMd69D0Jjv",
        "colab": {
          "base_uri": "https://localhost:8080/"
        },
        "outputId": "4f2991be-6a7a-4138-f6d4-588bdbb241a7"
      },
      "source": [
        "CustomerData.sum(axis=1,skipna=True) #to exclude missing value in the dataframe"
      ],
      "execution_count": 25,
      "outputs": [
        {
          "output_type": "execute_result",
          "data": {
            "text/plain": [
              "0    28\n",
              "1    30\n",
              "2    25\n",
              "dtype: int64"
            ]
          },
          "metadata": {
            "tags": []
          },
          "execution_count": 25
        }
      ]
    },
    {
      "cell_type": "code",
      "metadata": {
        "colab": {
          "base_uri": "https://localhost:8080/"
        },
        "id": "zYTzeTXluK93",
        "outputId": "6c8443cc-91e7-4abd-bdf7-0b70b5677f28"
      },
      "source": [
        "# Combining and overlapping datasets\n",
        "df1 = pd.DataFrame({'A' : [1., np.nan, 3., 5., np.nan, 6.],\n",
        "                     'B' : [np.nan,2., 3., np.nan, 6.,5.]})\n",
        "df2 = pd.DataFrame({'A' : [5.,2.,4., np.nan, 3., 7.],\n",
        "                     'B' : [np.nan,np.nan, 3.,4., 6., 8.]})\n",
        "print(df1)\n",
        "print(df2)\n",
        "# combines two dataframes objects where missing values in one datframe are conditionally filled with like-labeled values from other datframe.\n",
        "df3 = df1.combine_first(df2) \n",
        "print(df3)\n",
        "\n",
        "# Filling with a function - this worked when same size of dataframe are combined\n",
        "def combiner(x,y):\n",
        "  return np.where(pd.isna(x),y,x)\n",
        "\n",
        "df4 = combiner(df1,df2)  \n",
        "print(df4)"
      ],
      "execution_count": 26,
      "outputs": [
        {
          "output_type": "stream",
          "text": [
            "     A    B\n",
            "0  1.0  NaN\n",
            "1  NaN  2.0\n",
            "2  3.0  3.0\n",
            "3  5.0  NaN\n",
            "4  NaN  6.0\n",
            "5  6.0  5.0\n",
            "     A    B\n",
            "0  5.0  NaN\n",
            "1  2.0  NaN\n",
            "2  4.0  3.0\n",
            "3  NaN  4.0\n",
            "4  3.0  6.0\n",
            "5  7.0  8.0\n",
            "     A    B\n",
            "0  1.0  NaN\n",
            "1  2.0  2.0\n",
            "2  3.0  3.0\n",
            "3  5.0  4.0\n",
            "4  3.0  6.0\n",
            "5  6.0  5.0\n",
            "[[ 1. nan]\n",
            " [ 2.  2.]\n",
            " [ 3.  3.]\n",
            " [ 5.  4.]\n",
            " [ 3.  6.]\n",
            " [ 6.  5.]]\n"
          ],
          "name": "stdout"
        }
      ]
    },
    {
      "cell_type": "code",
      "metadata": {
        "colab": {
          "base_uri": "https://localhost:8080/",
          "height": 421
        },
        "id": "MAc19fM1u6EK",
        "outputId": "9e2d97af-93cf-4e1b-c7f3-6c373ce7bcd6"
      },
      "source": [
        "raw_data = {'regiment': ['Nighthawks', 'Nighthawks', 'Nighthawks', 'Nighthawks', 'Dragoons', 'Dragoons', 'Dragoons', 'Dragoons', 'Scouts', 'Scouts', 'Scouts', 'Scouts'], \n",
        "        'company': ['infantry', 'infantry', 'cavalry', 'cavalry', 'infantry', 'infantry', 'cavalry', 'cavalry','infantry', 'infantry', 'cavalry', 'cavalry'], \n",
        "        'experience': ['veteran', 'rookie', 'veteran', 'rookie', 'veteran', 'rookie', 'veteran', 'rookie','veteran', 'rookie', 'veteran', 'rookie'],\n",
        "        'name': ['Miller', 'Jacobson', 'Ali', 'Milner', 'Cooze', 'Jacon', 'Ryaner', 'Sone', 'Sloan', 'Piger', 'Riani', 'Ali'], \n",
        "        'preTestScore': [4, 24, 31, 2, 3, 4, 24, 31, 2, 3, 2, 3],\n",
        "        'postTestScore': [25, 94, 57, 62, 70, 25, 94, 57, 62, 70, 62, 70]}\n",
        "df = pd.DataFrame(raw_data, columns = ['regiment', 'company', 'experience', 'name', 'preTestScore', 'postTestScore'])\n",
        "df"
      ],
      "execution_count": 27,
      "outputs": [
        {
          "output_type": "execute_result",
          "data": {
            "text/html": [
              "<div>\n",
              "<style scoped>\n",
              "    .dataframe tbody tr th:only-of-type {\n",
              "        vertical-align: middle;\n",
              "    }\n",
              "\n",
              "    .dataframe tbody tr th {\n",
              "        vertical-align: top;\n",
              "    }\n",
              "\n",
              "    .dataframe thead th {\n",
              "        text-align: right;\n",
              "    }\n",
              "</style>\n",
              "<table border=\"1\" class=\"dataframe\">\n",
              "  <thead>\n",
              "    <tr style=\"text-align: right;\">\n",
              "      <th></th>\n",
              "      <th>regiment</th>\n",
              "      <th>company</th>\n",
              "      <th>experience</th>\n",
              "      <th>name</th>\n",
              "      <th>preTestScore</th>\n",
              "      <th>postTestScore</th>\n",
              "    </tr>\n",
              "  </thead>\n",
              "  <tbody>\n",
              "    <tr>\n",
              "      <th>0</th>\n",
              "      <td>Nighthawks</td>\n",
              "      <td>infantry</td>\n",
              "      <td>veteran</td>\n",
              "      <td>Miller</td>\n",
              "      <td>4</td>\n",
              "      <td>25</td>\n",
              "    </tr>\n",
              "    <tr>\n",
              "      <th>1</th>\n",
              "      <td>Nighthawks</td>\n",
              "      <td>infantry</td>\n",
              "      <td>rookie</td>\n",
              "      <td>Jacobson</td>\n",
              "      <td>24</td>\n",
              "      <td>94</td>\n",
              "    </tr>\n",
              "    <tr>\n",
              "      <th>2</th>\n",
              "      <td>Nighthawks</td>\n",
              "      <td>cavalry</td>\n",
              "      <td>veteran</td>\n",
              "      <td>Ali</td>\n",
              "      <td>31</td>\n",
              "      <td>57</td>\n",
              "    </tr>\n",
              "    <tr>\n",
              "      <th>3</th>\n",
              "      <td>Nighthawks</td>\n",
              "      <td>cavalry</td>\n",
              "      <td>rookie</td>\n",
              "      <td>Milner</td>\n",
              "      <td>2</td>\n",
              "      <td>62</td>\n",
              "    </tr>\n",
              "    <tr>\n",
              "      <th>4</th>\n",
              "      <td>Dragoons</td>\n",
              "      <td>infantry</td>\n",
              "      <td>veteran</td>\n",
              "      <td>Cooze</td>\n",
              "      <td>3</td>\n",
              "      <td>70</td>\n",
              "    </tr>\n",
              "    <tr>\n",
              "      <th>5</th>\n",
              "      <td>Dragoons</td>\n",
              "      <td>infantry</td>\n",
              "      <td>rookie</td>\n",
              "      <td>Jacon</td>\n",
              "      <td>4</td>\n",
              "      <td>25</td>\n",
              "    </tr>\n",
              "    <tr>\n",
              "      <th>6</th>\n",
              "      <td>Dragoons</td>\n",
              "      <td>cavalry</td>\n",
              "      <td>veteran</td>\n",
              "      <td>Ryaner</td>\n",
              "      <td>24</td>\n",
              "      <td>94</td>\n",
              "    </tr>\n",
              "    <tr>\n",
              "      <th>7</th>\n",
              "      <td>Dragoons</td>\n",
              "      <td>cavalry</td>\n",
              "      <td>rookie</td>\n",
              "      <td>Sone</td>\n",
              "      <td>31</td>\n",
              "      <td>57</td>\n",
              "    </tr>\n",
              "    <tr>\n",
              "      <th>8</th>\n",
              "      <td>Scouts</td>\n",
              "      <td>infantry</td>\n",
              "      <td>veteran</td>\n",
              "      <td>Sloan</td>\n",
              "      <td>2</td>\n",
              "      <td>62</td>\n",
              "    </tr>\n",
              "    <tr>\n",
              "      <th>9</th>\n",
              "      <td>Scouts</td>\n",
              "      <td>infantry</td>\n",
              "      <td>rookie</td>\n",
              "      <td>Piger</td>\n",
              "      <td>3</td>\n",
              "      <td>70</td>\n",
              "    </tr>\n",
              "    <tr>\n",
              "      <th>10</th>\n",
              "      <td>Scouts</td>\n",
              "      <td>cavalry</td>\n",
              "      <td>veteran</td>\n",
              "      <td>Riani</td>\n",
              "      <td>2</td>\n",
              "      <td>62</td>\n",
              "    </tr>\n",
              "    <tr>\n",
              "      <th>11</th>\n",
              "      <td>Scouts</td>\n",
              "      <td>cavalry</td>\n",
              "      <td>rookie</td>\n",
              "      <td>Ali</td>\n",
              "      <td>3</td>\n",
              "      <td>70</td>\n",
              "    </tr>\n",
              "  </tbody>\n",
              "</table>\n",
              "</div>"
            ],
            "text/plain": [
              "      regiment   company experience      name  preTestScore  postTestScore\n",
              "0   Nighthawks  infantry    veteran    Miller             4             25\n",
              "1   Nighthawks  infantry     rookie  Jacobson            24             94\n",
              "2   Nighthawks   cavalry    veteran       Ali            31             57\n",
              "3   Nighthawks   cavalry     rookie    Milner             2             62\n",
              "4     Dragoons  infantry    veteran     Cooze             3             70\n",
              "5     Dragoons  infantry     rookie     Jacon             4             25\n",
              "6     Dragoons   cavalry    veteran    Ryaner            24             94\n",
              "7     Dragoons   cavalry     rookie      Sone            31             57\n",
              "8       Scouts  infantry    veteran     Sloan             2             62\n",
              "9       Scouts  infantry     rookie     Piger             3             70\n",
              "10      Scouts   cavalry    veteran     Riani             2             62\n",
              "11      Scouts   cavalry     rookie       Ali             3             70"
            ]
          },
          "metadata": {
            "tags": []
          },
          "execution_count": 27
        }
      ]
    },
    {
      "cell_type": "code",
      "metadata": {
        "colab": {
          "base_uri": "https://localhost:8080/",
          "height": 235
        },
        "id": "bVZSdOzH0b8K",
        "outputId": "ca31df2b-75d5-4605-ed84-84121db222a9"
      },
      "source": [
        "# Crosstabs\n",
        "pd.crosstab(df.regiment, df.company, margins=True) #counting the number of observtaions by address(rows)  and surname(column)\n",
        "pd.crosstab([df.company, df.experience], df.regiment,  margins=True) #adress and name will be rows and surname will be the column"
      ],
      "execution_count": 28,
      "outputs": [
        {
          "output_type": "execute_result",
          "data": {
            "text/html": [
              "<div>\n",
              "<style scoped>\n",
              "    .dataframe tbody tr th:only-of-type {\n",
              "        vertical-align: middle;\n",
              "    }\n",
              "\n",
              "    .dataframe tbody tr th {\n",
              "        vertical-align: top;\n",
              "    }\n",
              "\n",
              "    .dataframe thead th {\n",
              "        text-align: right;\n",
              "    }\n",
              "</style>\n",
              "<table border=\"1\" class=\"dataframe\">\n",
              "  <thead>\n",
              "    <tr style=\"text-align: right;\">\n",
              "      <th></th>\n",
              "      <th>regiment</th>\n",
              "      <th>Dragoons</th>\n",
              "      <th>Nighthawks</th>\n",
              "      <th>Scouts</th>\n",
              "      <th>All</th>\n",
              "    </tr>\n",
              "    <tr>\n",
              "      <th>company</th>\n",
              "      <th>experience</th>\n",
              "      <th></th>\n",
              "      <th></th>\n",
              "      <th></th>\n",
              "      <th></th>\n",
              "    </tr>\n",
              "  </thead>\n",
              "  <tbody>\n",
              "    <tr>\n",
              "      <th rowspan=\"2\" valign=\"top\">cavalry</th>\n",
              "      <th>rookie</th>\n",
              "      <td>1</td>\n",
              "      <td>1</td>\n",
              "      <td>1</td>\n",
              "      <td>3</td>\n",
              "    </tr>\n",
              "    <tr>\n",
              "      <th>veteran</th>\n",
              "      <td>1</td>\n",
              "      <td>1</td>\n",
              "      <td>1</td>\n",
              "      <td>3</td>\n",
              "    </tr>\n",
              "    <tr>\n",
              "      <th rowspan=\"2\" valign=\"top\">infantry</th>\n",
              "      <th>rookie</th>\n",
              "      <td>1</td>\n",
              "      <td>1</td>\n",
              "      <td>1</td>\n",
              "      <td>3</td>\n",
              "    </tr>\n",
              "    <tr>\n",
              "      <th>veteran</th>\n",
              "      <td>1</td>\n",
              "      <td>1</td>\n",
              "      <td>1</td>\n",
              "      <td>3</td>\n",
              "    </tr>\n",
              "    <tr>\n",
              "      <th>All</th>\n",
              "      <th></th>\n",
              "      <td>4</td>\n",
              "      <td>4</td>\n",
              "      <td>4</td>\n",
              "      <td>12</td>\n",
              "    </tr>\n",
              "  </tbody>\n",
              "</table>\n",
              "</div>"
            ],
            "text/plain": [
              "regiment             Dragoons  Nighthawks  Scouts  All\n",
              "company  experience                                   \n",
              "cavalry  rookie             1           1       1    3\n",
              "         veteran            1           1       1    3\n",
              "infantry rookie             1           1       1    3\n",
              "         veteran            1           1       1    3\n",
              "All                         4           4       4   12"
            ]
          },
          "metadata": {
            "tags": []
          },
          "execution_count": 28
        }
      ]
    },
    {
      "cell_type": "code",
      "metadata": {
        "colab": {
          "base_uri": "https://localhost:8080/",
          "height": 363
        },
        "id": "w7JNtdTxRBcO",
        "outputId": "2c0a23eb-1bb7-4615-f5ec-59ad0b2ffebe"
      },
      "source": [
        "# Get_dummies - used to convert categorical varibles into numeric (one-hot encoding method)\n",
        "\n",
        "dr = pd.get_dummies(df.regiment)\n",
        "print(dr)\n",
        "List = list(\"Hello World\")\n",
        "pd.get_dummies(List)\n",
        "pd.get_dummies(pd.Series(list('abc')),drop_first = True)\n",
        "pd.get_dummies(pd.Series(list('abc')),dtype=float)"
      ],
      "execution_count": 29,
      "outputs": [
        {
          "output_type": "stream",
          "text": [
            "    Dragoons  Nighthawks  Scouts\n",
            "0          0           1       0\n",
            "1          0           1       0\n",
            "2          0           1       0\n",
            "3          0           1       0\n",
            "4          1           0       0\n",
            "5          1           0       0\n",
            "6          1           0       0\n",
            "7          1           0       0\n",
            "8          0           0       1\n",
            "9          0           0       1\n",
            "10         0           0       1\n",
            "11         0           0       1\n"
          ],
          "name": "stdout"
        },
        {
          "output_type": "execute_result",
          "data": {
            "text/html": [
              "<div>\n",
              "<style scoped>\n",
              "    .dataframe tbody tr th:only-of-type {\n",
              "        vertical-align: middle;\n",
              "    }\n",
              "\n",
              "    .dataframe tbody tr th {\n",
              "        vertical-align: top;\n",
              "    }\n",
              "\n",
              "    .dataframe thead th {\n",
              "        text-align: right;\n",
              "    }\n",
              "</style>\n",
              "<table border=\"1\" class=\"dataframe\">\n",
              "  <thead>\n",
              "    <tr style=\"text-align: right;\">\n",
              "      <th></th>\n",
              "      <th>a</th>\n",
              "      <th>b</th>\n",
              "      <th>c</th>\n",
              "    </tr>\n",
              "  </thead>\n",
              "  <tbody>\n",
              "    <tr>\n",
              "      <th>0</th>\n",
              "      <td>1.0</td>\n",
              "      <td>0.0</td>\n",
              "      <td>0.0</td>\n",
              "    </tr>\n",
              "    <tr>\n",
              "      <th>1</th>\n",
              "      <td>0.0</td>\n",
              "      <td>1.0</td>\n",
              "      <td>0.0</td>\n",
              "    </tr>\n",
              "    <tr>\n",
              "      <th>2</th>\n",
              "      <td>0.0</td>\n",
              "      <td>0.0</td>\n",
              "      <td>1.0</td>\n",
              "    </tr>\n",
              "  </tbody>\n",
              "</table>\n",
              "</div>"
            ],
            "text/plain": [
              "     a    b    c\n",
              "0  1.0  0.0  0.0\n",
              "1  0.0  1.0  0.0\n",
              "2  0.0  0.0  1.0"
            ]
          },
          "metadata": {
            "tags": []
          },
          "execution_count": 29
        }
      ]
    },
    {
      "cell_type": "code",
      "metadata": {
        "colab": {
          "base_uri": "https://localhost:8080/"
        },
        "id": "JyfZqAbOZuw8",
        "outputId": "4a0d251c-fe1a-4036-83a1-2c90534ee178"
      },
      "source": [
        "# Convert array into dataframe\n",
        "array = np.array([[1,2,3],[4,5,6]])\n",
        "print(array)\n",
        "ds = pd.DataFrame(array)\n",
        "print(ds)\n",
        "arr = ds.to_numpy()\n",
        "print(arr)"
      ],
      "execution_count": 30,
      "outputs": [
        {
          "output_type": "stream",
          "text": [
            "[[1 2 3]\n",
            " [4 5 6]]\n",
            "   0  1  2\n",
            "0  1  2  3\n",
            "1  4  5  6\n",
            "[[1 2 3]\n",
            " [4 5 6]]\n"
          ],
          "name": "stdout"
        }
      ]
    },
    {
      "cell_type": "markdown",
      "metadata": {
        "id": "ma4RiBt2cr0q"
      },
      "source": [
        "#Matplotlib"
      ]
    },
    {
      "cell_type": "code",
      "metadata": {
        "id": "o9bKfXlFcu8S",
        "colab": {
          "base_uri": "https://localhost:8080/",
          "height": 282
        },
        "outputId": "741d55e3-f85b-42fa-ec08-dd33efe908d3"
      },
      "source": [
        "import matplotlib.pyplot as plt   #from matplotlib import pyplot as plt\n",
        "#df.plot() #plots all the numeric data columns from the dataframe\n",
        "df[\"preTestScore\"].plot() # Plots a particular column"
      ],
      "execution_count": 31,
      "outputs": [
        {
          "output_type": "execute_result",
          "data": {
            "text/plain": [
              "<matplotlib.axes._subplots.AxesSubplot at 0x7fd842a463d0>"
            ]
          },
          "metadata": {
            "tags": []
          },
          "execution_count": 31
        },
        {
          "output_type": "display_data",
          "data": {
            "image/png": "[encoded data removed]",
            "text/plain": [
              "<Figure size 432x288 with 1 Axes>"
            ]
          },
          "metadata": {
            "tags": [],
            "needs_background": "light"
          }
        }
      ]
    },
    {
      "cell_type": "code",
      "metadata": {
        "colab": {
          "base_uri": "https://localhost:8080/",
          "height": 296
        },
        "id": "mN_SAP8i0gXx",
        "outputId": "cf4e4d54-99f2-43d2-a16f-98784688bdd1"
      },
      "source": [
        "df.plot.scatter(x='preTestScore', y='postTestScore') # Two variable plot {id and age}"
      ],
      "execution_count": 32,
      "outputs": [
        {
          "output_type": "execute_result",
          "data": {
            "text/plain": [
              "<matplotlib.axes._subplots.AxesSubplot at 0x7fd833aaed90>"
            ]
          },
          "metadata": {
            "tags": []
          },
          "execution_count": 32
        },
        {
          "output_type": "display_data",
          "data": {
            "image/png": "[encoded data removed]",
            "text/plain": [
              "<Figure size 432x288 with 1 Axes>"
            ]
          },
          "metadata": {
            "tags": [],
            "needs_background": "light"
          }
        }
      ]
    },
    {
      "cell_type": "code",
      "metadata": {
        "colab": {
          "base_uri": "https://localhost:8080/",
          "height": 282
        },
        "id": "isay8R_A0ing",
        "outputId": "a0f9a9ad-5690-4270-9138-d698be935d0e"
      },
      "source": [
        "df.plot.box()"
      ],
      "execution_count": 33,
      "outputs": [
        {
          "output_type": "execute_result",
          "data": {
            "text/plain": [
              "<matplotlib.axes._subplots.AxesSubplot at 0x7fd83356d150>"
            ]
          },
          "metadata": {
            "tags": []
          },
          "execution_count": 33
        },
        {
          "output_type": "display_data",
          "data": {
            "image/png": "[encoded data removed]",
            "text/plain": [
              "<Figure size 432x288 with 1 Axes>"
            ]
          },
          "metadata": {
            "tags": [],
            "needs_background": "light"
          }
        }
      ]
    },
    {
      "cell_type": "code",
      "metadata": {
        "colab": {
          "base_uri": "https://localhost:8080/",
          "height": 281
        },
        "id": "Qgq-MZe1vPha",
        "outputId": "84729f6f-8299-43dc-ac8b-0462913a5d2d"
      },
      "source": [
        "x = np.linspace(-3*np.pi,3*np.pi,300) # pi = 3.14...\n",
        "y = np.divide(np.sin(x),x) #(a,b) # sin(x)/x\n",
        "plt.title(r'$\\alpha$')\n",
        "plt.plot(x,y) \n",
        "plt.show()"
      ],
      "execution_count": 34,
      "outputs": [
        {
          "output_type": "display_data",
          "data": {
            "image/png": "[encoded data removed]",
            "text/plain": [
              "<Figure size 432x288 with 1 Axes>"
            ]
          },
          "metadata": {
            "tags": [],
            "needs_background": "light"
          }
        }
      ]
    },
    {
      "cell_type": "code",
      "metadata": {
        "colab": {
          "base_uri": "https://localhost:8080/",
          "height": 295
        },
        "id": "E4BScVSVp4IX",
        "outputId": "547263e7-0ebc-42bc-823b-783e9a18db96"
      },
      "source": [
        "x = np.linspace(-2*np.pi,2*np.pi,300) \n",
        "y = np.sin(x)\n",
        "z = np.cos(x)\n",
        "plt.plot(x,y,x,z)\n",
        "plt.xlabel('x values from 0 to 4pi')  \n",
        "plt.ylabel('sin(x) and cos(x)')\n",
        "plt.title('Plot of sin and cos from 0 to 4pi')\n",
        "plt.legend(['sin(x)', 'cos(x)'])  \n",
        "plt.show()"
      ],
      "execution_count": 35,
      "outputs": [
        {
          "output_type": "display_data",
          "data": {
            "image/png": "[encoded data removed]",
            "text/plain": [
              "<Figure size 432x288 with 1 Axes>"
            ]
          },
          "metadata": {
            "tags": [],
            "needs_background": "light"
          }
        }
      ]
    },
    {
      "cell_type": "code",
      "metadata": {
        "colab": {
          "base_uri": "https://localhost:8080/",
          "height": 265
        },
        "id": "OdMotEOi8oV9",
        "outputId": "f79f8000-fdfd-4f4c-92c7-08f61792ec21"
      },
      "source": [
        "x = np.arange(-np.pi,np.pi,0.1) \n",
        "y = np.sin(x)\n",
        "plt.plot(x,y,'o')   #'o' represents marker.Other types of marker (go/bo/ro/r-)etc\n",
        "plt.plot(x,np.cos(x))\n",
        "plt.legend(['sin(x)', 'cos(x)'])  \n",
        "plt.show()"
      ],
      "execution_count": 39,
      "outputs": [
        {
          "output_type": "display_data",
          "data": {
            "image/png": "[encoded data removed]",
            "text/plain": [
              "<Figure size 432x288 with 1 Axes>"
            ]
          },
          "metadata": {
            "tags": [],
            "needs_background": "light"
          }
        }
      ]
    },
    {
      "cell_type": "code",
      "metadata": {
        "colab": {
          "base_uri": "https://localhost:8080/",
          "height": 295
        },
        "id": "zFlKEGB8_4aO",
        "outputId": "520b94cf-3c81-4cf0-eb4f-d7e715347777"
      },
      "source": [
        "# Line plots\n",
        "x = [1,3,6]\n",
        "y= [2,4,5]\n",
        "z = [4,6,8]\n",
        "plt.plot(x,y)\n",
        "plt.plot(x,z)\n",
        "plt.title('Test Plot')\n",
        "plt.xlabel('X values ')  \n",
        "plt.ylabel('Y and Z values')\n",
        "plt.legend(['Y values', 'Z values'])  \n",
        "plt.show()"
      ],
      "execution_count": 41,
      "outputs": [
        {
          "output_type": "display_data",
          "data": {
            "image/png": "[encoded data removed]",
            "text/plain": [
              "<Figure size 432x288 with 1 Axes>"
            ]
          },
          "metadata": {
            "tags": [],
            "needs_background": "light"
          }
        }
      ]
    },
    {
      "cell_type": "code",
      "metadata": {
        "colab": {
          "base_uri": "https://localhost:8080/",
          "height": 265
        },
        "id": "qKP3lqn6vSfZ",
        "outputId": "b3f0bf15-d834-4755-b0c6-8dfafa02a7fb"
      },
      "source": [
        "plt.figure()\n",
        "plt.subplot(1,2,1)\n",
        "plt.plot(x,y)\n",
        "plt.subplot(1,2,2)\n",
        "plt.plot(x,y)\n",
        "plt.show()"
      ],
      "execution_count": 36,
      "outputs": [
        {
          "output_type": "display_data",
          "data": {
            "image/png": "[encoded data removed]",
            "text/plain": [
              "<Figure size 432x288 with 2 Axes>"
            ]
          },
          "metadata": {
            "tags": [],
            "needs_background": "light"
          }
        }
      ]
    },
    {
      "cell_type": "code",
      "metadata": {
        "id": "78nIP0Tb5C-c"
      },
      "source": [
        ""
      ],
      "execution_count": 36,
      "outputs": []
    }
  ]
}
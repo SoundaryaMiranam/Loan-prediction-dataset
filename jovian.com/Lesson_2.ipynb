{
  "nbformat": 4,
  "nbformat_minor": 0,
  "metadata": {
    "colab": {
      "name": "Lesson-2.ipynb",
      "provenance": [],
      "collapsed_sections": []
    },
    "kernelspec": {
      "name": "python3",
      "display_name": "Python 3"
    },
    "language_info": {
      "name": "python"
    }
  },
  "cells": [
    {
      "cell_type": "markdown",
      "metadata": {
        "id": "XrcRLKVL7tni"
      },
      "source": [
        "#Variables and Data Types in Python\n",
        "\n",
        "![](https://i.imgur.com/6cg2E9Q.png)\n",
        "\n",
        "\n",
        "\n"
      ]
    },
    {
      "cell_type": "markdown",
      "metadata": {
        "id": "IhrEWAEB8Arz"
      },
      "source": [
        "# Storing information using  multi - variables"
      ]
    },
    {
      "cell_type": "code",
      "metadata": {
        "id": "U11bzBA673vt"
      },
      "source": [
        "my_favorite_color = \"blue\""
      ],
      "execution_count": 1,
      "outputs": []
    },
    {
      "cell_type": "code",
      "metadata": {
        "colab": {
          "base_uri": "https://localhost:8080/"
        },
        "id": "3fr3ONzq73yY",
        "outputId": "924c7231-1aa7-43d1-97f1-3dca6565fb18"
      },
      "source": [
        "# You can also assign values to multiple variables in a single statement by separating the variable names and values with commas.\n",
        "\n",
        "color1, color2, color3 = \"red\", \"green\", \"blue\"\n",
        "\n",
        "print(color1)\n",
        "print(color2)\n",
        "print(color3)\n",
        "\n",
        "print('-'*20)\n",
        "#You can assign the same value to multiple variables by chaining multiple assignment operations within a single statement.\n",
        "# when you assign a new value to the variable, the old value is lost and no longer accessible.\n",
        "\n",
        "color3 = color5 = color6 = \"magenta\"\n",
        "\n",
        "print(color3)"
      ],
      "execution_count": 2,
      "outputs": [
        {
          "output_type": "stream",
          "text": [
            "red\n",
            "green\n",
            "blue\n",
            "--------------------\n",
            "magenta\n"
          ],
          "name": "stdout"
        }
      ]
    },
    {
      "cell_type": "code",
      "metadata": {
        "colab": {
          "base_uri": "https://localhost:8080/"
        },
        "id": "A-3pimaE8xrs",
        "outputId": "3e20fc11-7b29-4796-8447-cc216c637a8d"
      },
      "source": [
        "# While reassigning a variable, you can also use the variable's previous value to compute the new value.\n",
        "counter = 10\n",
        "counter = counter + 1\n",
        "print(counter)\n",
        "\n",
        "#The pattern var = var op something (where op is an arithmetic operator like +, -, *, /) is very common, so Python provides a shorthand syntax for it.\n",
        "counter = 10\n",
        "# Same as `counter = counter + 4`\n",
        "counter += 4\n",
        "print(counter)"
      ],
      "execution_count": 3,
      "outputs": [
        {
          "output_type": "stream",
          "text": [
            "11\n",
            "14\n"
          ],
          "name": "stdout"
        }
      ]
    },
    {
      "cell_type": "markdown",
      "metadata": {
        "id": "38rnB6picwWi"
      },
      "source": [
        "## Built-in data types in Python\n",
        "\n",
        "Any data or information stored within a Python variable has a *type*. You can view the type of data stored within a variable using the `type` function."
      ]
    },
    {
      "cell_type": "code",
      "metadata": {
        "id": "ZwJpo5XLfZUv"
      },
      "source": [
        "# some variables\n",
        "a_variable = 23\n",
        "is_today_Saturday = False\n",
        "my_favorite_car = \"Delorean\"\n",
        "the_3_musketeers = [\"Athos\", \"Porthos\", \"Aramis\"] "
      ],
      "execution_count": 4,
      "outputs": []
    },
    {
      "cell_type": "code",
      "metadata": {
        "colab": {
          "base_uri": "https://localhost:8080/"
        },
        "id": "TjeUnn4Tc2QX",
        "outputId": "dfdb00c7-8c94-4356-f241-bed7bc6113ba"
      },
      "source": [
        "print(a_variable)\n",
        "type(a_variable)"
      ],
      "execution_count": 5,
      "outputs": [
        {
          "output_type": "stream",
          "text": [
            "23\n"
          ],
          "name": "stdout"
        },
        {
          "output_type": "execute_result",
          "data": {
            "text/plain": [
              "int"
            ]
          },
          "metadata": {
            "tags": []
          },
          "execution_count": 5
        }
      ]
    },
    {
      "cell_type": "code",
      "metadata": {
        "colab": {
          "base_uri": "https://localhost:8080/"
        },
        "id": "vgPpP9A7c2S8",
        "outputId": "e12e5dfb-7e37-47e9-bb66-992cff31848b"
      },
      "source": [
        "print(is_today_Saturday)\n",
        "type(is_today_Saturday)"
      ],
      "execution_count": 6,
      "outputs": [
        {
          "output_type": "stream",
          "text": [
            "False\n"
          ],
          "name": "stdout"
        },
        {
          "output_type": "execute_result",
          "data": {
            "text/plain": [
              "bool"
            ]
          },
          "metadata": {
            "tags": []
          },
          "execution_count": 6
        }
      ]
    },
    {
      "cell_type": "code",
      "metadata": {
        "colab": {
          "base_uri": "https://localhost:8080/"
        },
        "id": "BTeGAi7uc2Vx",
        "outputId": "da9ede7d-9741-4a0b-d275-6ca4e9c54f05"
      },
      "source": [
        "print(my_favorite_car)\n",
        "type(my_favorite_car)"
      ],
      "execution_count": 7,
      "outputs": [
        {
          "output_type": "stream",
          "text": [
            "Delorean\n"
          ],
          "name": "stdout"
        },
        {
          "output_type": "execute_result",
          "data": {
            "text/plain": [
              "str"
            ]
          },
          "metadata": {
            "tags": []
          },
          "execution_count": 7
        }
      ]
    },
    {
      "cell_type": "code",
      "metadata": {
        "colab": {
          "base_uri": "https://localhost:8080/"
        },
        "id": "wqkk304-dY7P",
        "outputId": "90f0d732-d7c5-4209-c19e-eb5c5464e8e7"
      },
      "source": [
        "print(the_3_musketeers)\n",
        "type(the_3_musketeers)"
      ],
      "execution_count": 8,
      "outputs": [
        {
          "output_type": "stream",
          "text": [
            "['Athos', 'Porthos', 'Aramis']\n"
          ],
          "name": "stdout"
        },
        {
          "output_type": "execute_result",
          "data": {
            "text/plain": [
              "list"
            ]
          },
          "metadata": {
            "tags": []
          },
          "execution_count": 8
        }
      ]
    },
    {
      "cell_type": "markdown",
      "metadata": {
        "id": "lvnfIHG4dlqx"
      },
      "source": [
        "Python has several built-in data types for storing different kinds of information in variables. Following are some commonly used data types:\n",
        "\n",
        "1. Integer\n",
        "2. Float\n",
        "3. Boolean\n",
        "4. None\n",
        "5. String\n",
        "6. List\n",
        "7. Tuple\n",
        "8. Dictionary\n",
        "\n",
        "Integer, float, boolean, None, and string are *primitive data types* because they represent a single value. Other data types like list, tuple, and dictionary are often called *data structures* or *containers* because they hold multiple pieces of data together."
      ]
    },
    {
      "cell_type": "markdown",
      "metadata": {
        "id": "SMzeZoAtQH6n"
      },
      "source": [
        "#primitive data types"
      ]
    },
    {
      "cell_type": "markdown",
      "metadata": {
        "id": "HpPJWSzNhOui"
      },
      "source": [
        "# Integer\n",
        "\n",
        "Integers represent positive or negative whole numbers, from negative infinity to infinity. Note that integers should not include decimal points. Integers have the type `int`."
      ]
    },
    {
      "cell_type": "markdown",
      "metadata": {
        "id": "8O-5Gh2yhuSU"
      },
      "source": [
        "Unlike some other programming languages, integers in Python can be arbitrarily large (or small). There's no lowest or highest value for integers, and there's just one `int` type (as opposed to `short`, `int`, `long`, `long long`, `unsigned int`, etc. in C/C++/Java)."
      ]
    },
    {
      "cell_type": "code",
      "metadata": {
        "colab": {
          "base_uri": "https://localhost:8080/"
        },
        "id": "M2Hia3EshfxJ",
        "outputId": "8428ff44-b422-4890-c280-36f2ffb4d4fa"
      },
      "source": [
        "current_year = 2020\n",
        "type(current_year)"
      ],
      "execution_count": 9,
      "outputs": [
        {
          "output_type": "execute_result",
          "data": {
            "text/plain": [
              "int"
            ]
          },
          "metadata": {
            "tags": []
          },
          "execution_count": 9
        }
      ]
    },
    {
      "cell_type": "code",
      "metadata": {
        "colab": {
          "base_uri": "https://localhost:8080/"
        },
        "id": "Q_Qzb5NMhf4s",
        "outputId": "628c6371-eda5-47bd-d11e-786c10eab324"
      },
      "source": [
        "a_large_negative_number = -23374038374832934334234317348343\n",
        "type(a_large_negative_number)"
      ],
      "execution_count": 10,
      "outputs": [
        {
          "output_type": "execute_result",
          "data": {
            "text/plain": [
              "int"
            ]
          },
          "metadata": {
            "tags": []
          },
          "execution_count": 10
        }
      ]
    },
    {
      "cell_type": "markdown",
      "metadata": {
        "id": "lJNMAA8XdT0Q"
      },
      "source": [
        "# Float\n",
        "\n",
        "Floats (or floating-point numbers) are numbers with a decimal point. There are no limits on the value or the number of digits before or after the decimal point. Floating-point numbers have the type `float`."
      ]
    },
    {
      "cell_type": "code",
      "metadata": {
        "colab": {
          "base_uri": "https://localhost:8080/"
        },
        "id": "ZxSq0-SGdfRv",
        "outputId": "4a9cab39-550d-4b30-d305-284b9020a16a"
      },
      "source": [
        "pi = 3.141592653589793238\n",
        "type(pi)"
      ],
      "execution_count": 11,
      "outputs": [
        {
          "output_type": "execute_result",
          "data": {
            "text/plain": [
              "float"
            ]
          },
          "metadata": {
            "tags": []
          },
          "execution_count": 11
        }
      ]
    },
    {
      "cell_type": "code",
      "metadata": {
        "colab": {
          "base_uri": "https://localhost:8080/"
        },
        "id": "pHC3gWthdfUm",
        "outputId": "f3d831c2-1dc4-4291-dac3-66750f2007fd"
      },
      "source": [
        "#A whole number is treated as a float if written with a decimal point, even though the decimal portion of the number is zero.\n",
        "a_number = 3.0\n",
        "type(a_number)"
      ],
      "execution_count": 12,
      "outputs": [
        {
          "output_type": "execute_result",
          "data": {
            "text/plain": [
              "float"
            ]
          },
          "metadata": {
            "tags": []
          },
          "execution_count": 12
        }
      ]
    },
    {
      "cell_type": "code",
      "metadata": {
        "colab": {
          "base_uri": "https://localhost:8080/"
        },
        "id": "FXWK368PdfXV",
        "outputId": "af61b045-1ec0-4963-ffcc-090f549dc2e5"
      },
      "source": [
        "another_number = 4.\n",
        "type(another_number)"
      ],
      "execution_count": 13,
      "outputs": [
        {
          "output_type": "execute_result",
          "data": {
            "text/plain": [
              "float"
            ]
          },
          "metadata": {
            "tags": []
          },
          "execution_count": 13
        }
      ]
    },
    {
      "cell_type": "code",
      "metadata": {
        "colab": {
          "base_uri": "https://localhost:8080/"
        },
        "id": "rH1Q63Tne_Zo",
        "outputId": "621de12e-30fa-412e-c092-50960e706a10"
      },
      "source": [
        "# Floating point numbers can also be written using the scientific notation with an \"e\" to indicate the power of 10.\n",
        "\n",
        "one_hundredth = 1e-2\n",
        "print(one_hundredth)\n",
        "print(type(one_hundredth))\n",
        "\n",
        "pt = 1e+2\n",
        "print(pt)\n",
        "print(type(pt))"
      ],
      "execution_count": 14,
      "outputs": [
        {
          "output_type": "stream",
          "text": [
            "0.01\n",
            "<class 'float'>\n",
            "100.0\n",
            "<class 'float'>\n"
          ],
          "name": "stdout"
        }
      ]
    },
    {
      "cell_type": "code",
      "metadata": {
        "colab": {
          "base_uri": "https://localhost:8080/"
        },
        "id": "AMSsg138e_jC",
        "outputId": "e1513087-b0bc-423a-d05b-869d0017773b"
      },
      "source": [
        "avogadro_number = 6.02214076e23\n",
        "print(avogadro_number)\n",
        "type(avogadro_number)"
      ],
      "execution_count": 15,
      "outputs": [
        {
          "output_type": "stream",
          "text": [
            "6.02214076e+23\n"
          ],
          "name": "stdout"
        },
        {
          "output_type": "execute_result",
          "data": {
            "text/plain": [
              "float"
            ]
          },
          "metadata": {
            "tags": []
          },
          "execution_count": 15
        }
      ]
    },
    {
      "cell_type": "code",
      "metadata": {
        "colab": {
          "base_uri": "https://localhost:8080/"
        },
        "id": "WPzGwtWghAW8",
        "outputId": "e792e67b-362d-4327-ca80-4b471c8a80ed"
      },
      "source": [
        "# convert floats into integers and vice versa using the float and int functions.\n",
        "# The operation of converting one type of value into another is called casting.\n",
        "print(float(current_year))\n",
        "\n",
        "print(int(pi))\n",
        "\n",
        "int(avogadro_number)"
      ],
      "execution_count": 16,
      "outputs": [
        {
          "output_type": "stream",
          "text": [
            "2020.0\n",
            "3\n"
          ],
          "name": "stdout"
        },
        {
          "output_type": "execute_result",
          "data": {
            "text/plain": [
              "602214075999999987023872"
            ]
          },
          "metadata": {
            "tags": []
          },
          "execution_count": 16
        }
      ]
    },
    {
      "cell_type": "code",
      "metadata": {
        "colab": {
          "base_uri": "https://localhost:8080/"
        },
        "id": "KNuLD2pGhAZ5",
        "outputId": "65450716-56a6-4fa2-ab59-d7890d6170d5"
      },
      "source": [
        "#While performing arithmetic operations, integers are automatically converted to `float`s if any of the operands is a `float`. \n",
        "#Also, the division operator `/` always returns a `float`, even if both operands are integers.\n",
        "# Use the `//` operator if you want the result of the division to be an `int`.\n",
        "print(type(45 * 3.0))\n",
        "\n",
        "print(type(45 * 3))\n",
        "\n",
        "print(type(10/3))\n",
        "\n",
        "print(type(10//2))"
      ],
      "execution_count": 17,
      "outputs": [
        {
          "output_type": "stream",
          "text": [
            "<class 'float'>\n",
            "<class 'int'>\n",
            "<class 'float'>\n",
            "<class 'int'>\n"
          ],
          "name": "stdout"
        }
      ]
    },
    {
      "cell_type": "markdown",
      "metadata": {
        "id": "qkikrvxnjVMv"
      },
      "source": [
        "# Boolean\n",
        "\n",
        "Booleans represent one of 2 values: `True` and `False`. Booleans have the type `bool`."
      ]
    },
    {
      "cell_type": "code",
      "metadata": {
        "colab": {
          "base_uri": "https://localhost:8080/"
        },
        "id": "8DotNQ-4jWiD",
        "outputId": "9f537d70-3ece-43dc-8ace-33ba1fda1da0"
      },
      "source": [
        "is_today_Sunday = True\n",
        "type(is_today_Sunday)"
      ],
      "execution_count": 18,
      "outputs": [
        {
          "output_type": "execute_result",
          "data": {
            "text/plain": [
              "bool"
            ]
          },
          "metadata": {
            "tags": []
          },
          "execution_count": 18
        }
      ]
    },
    {
      "cell_type": "code",
      "metadata": {
        "colab": {
          "base_uri": "https://localhost:8080/"
        },
        "id": "CosZJRiTjWlC",
        "outputId": "b1b21a06-7179-43c1-afbc-0c2753d0e240"
      },
      "source": [
        "#Booleans are generally the result of a comparison operation, e.g., `==`, `>=`, etc.\n",
        "cost_of_ice_bag = 1.25\n",
        "is_ice_bag_expensive = cost_of_ice_bag >= 10\n",
        "\n",
        "print(is_ice_bag_expensive)\n",
        "\n",
        "type(is_ice_bag_expensive)"
      ],
      "execution_count": 19,
      "outputs": [
        {
          "output_type": "stream",
          "text": [
            "False\n"
          ],
          "name": "stdout"
        },
        {
          "output_type": "execute_result",
          "data": {
            "text/plain": [
              "bool"
            ]
          },
          "metadata": {
            "tags": []
          },
          "execution_count": 19
        }
      ]
    },
    {
      "cell_type": "code",
      "metadata": {
        "colab": {
          "base_uri": "https://localhost:8080/"
        },
        "id": "gMEB04pejWnh",
        "outputId": "4ebebed3-c49f-4ae1-dd46-3dc0d0cb6c63"
      },
      "source": [
        "# Booleans are automatically converted to `int`s when used in arithmetic operations. `True` is converted to `1` and `False` is converted to `0`.\n",
        "\n",
        "print(5 + False)\n",
        "\n",
        "print(3. + True)"
      ],
      "execution_count": 20,
      "outputs": [
        {
          "output_type": "stream",
          "text": [
            "5\n",
            "4.0\n"
          ],
          "name": "stdout"
        }
      ]
    },
    {
      "cell_type": "markdown",
      "metadata": {
        "id": "MaHDcW326sTr"
      },
      "source": [
        "Any value in Python can be converted to a Boolean using the `bool` function. \n",
        "\n",
        "Only the following values evaluate to `False` (they are often called *falsy* values):\n",
        "\n",
        "1. The value `False` itself\n",
        "2. The integer `0`\n",
        "3. The float `0.0`\n",
        "4. The empty value `None`\n",
        "5. The empty text `\"\"`\n",
        "6. The empty list `[]`\n",
        "7. The empty tuple `()`\n",
        "8. The empty dictionary `{}`\n",
        "9. The empty set `set()`\n",
        "10. The empty range `range(0)`\n",
        "\n",
        "Everything else evaluates to `True` (a value that evaluates to `True` is often called a *truthy* value)."
      ]
    },
    {
      "cell_type": "code",
      "metadata": {
        "colab": {
          "base_uri": "https://localhost:8080/"
        },
        "id": "QnAsGa1Rj6Nm",
        "outputId": "3e447615-b831-46df-da6d-edfd6288542c"
      },
      "source": [
        "print(bool(False))\n",
        "\n",
        "print(bool(0))\n",
        "\n",
        "print(bool(None))\n",
        "\n",
        "print(bool(\"\"))\n",
        "\n",
        "print(bool([]))\n",
        "\n",
        "print(bool(()))\n",
        "\n",
        "print(bool({}))\n",
        "\n",
        "print(bool(set()))\n",
        "\n",
        "print(bool(range(0)))\n",
        "\n",
        "print(bool(True), bool(1), bool(2.0), bool(\"hello\"), bool([1,2]), bool((2,3)), bool(range(10)))"
      ],
      "execution_count": 21,
      "outputs": [
        {
          "output_type": "stream",
          "text": [
            "False\n",
            "False\n",
            "False\n",
            "False\n",
            "False\n",
            "False\n",
            "False\n",
            "False\n",
            "False\n",
            "True True True True True True True\n"
          ],
          "name": "stdout"
        }
      ]
    },
    {
      "cell_type": "markdown",
      "metadata": {
        "id": "uBgDoraZ_O8L"
      },
      "source": [
        "# None\n",
        "\n",
        "The None type includes a single value `None`, used to indicate the absence of a value. `None` has the type `NoneType`. It is often used to declare a variable whose value may be assigned later."
      ]
    },
    {
      "cell_type": "code",
      "metadata": {
        "colab": {
          "base_uri": "https://localhost:8080/"
        },
        "id": "qMHhyi95j6Qs",
        "outputId": "1ba81fd0-3933-4208-80a3-f28ca25d7284"
      },
      "source": [
        "nothing = None\n",
        "type(nothing)"
      ],
      "execution_count": 22,
      "outputs": [
        {
          "output_type": "execute_result",
          "data": {
            "text/plain": [
              "NoneType"
            ]
          },
          "metadata": {
            "tags": []
          },
          "execution_count": 22
        }
      ]
    },
    {
      "cell_type": "markdown",
      "metadata": {
        "id": "vSL4u_cp_Z3z"
      },
      "source": [
        "# String\n",
        "\n",
        "A string is used to represent text (*a string of characters*) in Python. Strings must be surrounded using quotations (either the single quote `'` or the double quote `\"`). Strings have the type `string`."
      ]
    },
    {
      "cell_type": "code",
      "metadata": {
        "colab": {
          "base_uri": "https://localhost:8080/"
        },
        "id": "YqGgl6Bcj6Ws",
        "outputId": "798a7849-c1c1-48ce-b631-ed69fecfb0ac"
      },
      "source": [
        "today = \"Saturday\"\n",
        "print(type(today))"
      ],
      "execution_count": 23,
      "outputs": [
        {
          "output_type": "stream",
          "text": [
            "<class 'str'>\n"
          ],
          "name": "stdout"
        }
      ]
    },
    {
      "cell_type": "code",
      "metadata": {
        "colab": {
          "base_uri": "https://localhost:8080/",
          "height": 137
        },
        "id": "L1ymVZAwj6ZT",
        "outputId": "0d771141-c15b-43a2-d380-f23ebd835fbd"
      },
      "source": [
        "#You can use single quotes inside a string written with double quotes, and vice versa.\n",
        "my_favorite_movie = \"One Flew over the Cuckoo's Nest\"\n",
        "print(my_favorite_movie)\n",
        "\n",
        "# use '\\' then it considers the preciding single quote\n",
        "my_favorite_movie = 'One Flew over the Cuckoo\\'s Nest'\n",
        "print(my_favorite_movie)\n",
        "\n",
        "another_pun = \"The first time I got a universal remote control, I thought to myself \\\"This changes everything\\\".\"\n",
        "print(another_pun)\n",
        "\n",
        "print('-'*50)\n",
        "#Strings created using single or double quotes must begin and end on the same line. \n",
        "#To create multiline strings, use three single quotes `'''` or three double quotes `\"\"\"` to begin and end the string. \n",
        "#Line breaks are represented using the newline character `\\n`.\n",
        "\n",
        "yet_another_pun = '''Son: \"Dad, can you tell me what a solar eclipse is?\" \n",
        "Dad: \"No sun.\"'''\n",
        "\n",
        "print(yet_another_pun)\n",
        "yet_another_pun # check the difference"
      ],
      "execution_count": 24,
      "outputs": [
        {
          "output_type": "stream",
          "text": [
            "One Flew over the Cuckoo's Nest\n",
            "One Flew over the Cuckoo's Nest\n",
            "The first time I got a universal remote control, I thought to myself \"This changes everything\".\n",
            "--------------------------------------------------\n",
            "Son: \"Dad, can you tell me what a solar eclipse is?\" \n",
            "Dad: \"No sun.\"\n"
          ],
          "name": "stdout"
        },
        {
          "output_type": "execute_result",
          "data": {
            "application/vnd.google.colaboratory.intrinsic+json": {
              "type": "string"
            },
            "text/plain": [
              "'Son: \"Dad, can you tell me what a solar eclipse is?\" \\nDad: \"No sun.\"'"
            ]
          },
          "metadata": {
            "tags": []
          },
          "execution_count": 24
        }
      ]
    },
    {
      "cell_type": "code",
      "metadata": {
        "colab": {
          "base_uri": "https://localhost:8080/"
        },
        "id": "_dO5l0gBj6bb",
        "outputId": "5c04c670-64bc-4a27-e806-5cf93768b558"
      },
      "source": [
        "a_music_pun = \"\"\"\n",
        "Two windmills are standing in a field and one asks the other, \n",
        "\"What kind of music do you like?\"  \n",
        "\n",
        "The other says, \n",
        "\"I'm a big metal fan.\"\n",
        "\"\"\"\n",
        "\n",
        "print(a_music_pun)\n",
        "\n",
        "#check the length of a string using the len function.\n",
        "\n",
        "print(len(a_music_pun))"
      ],
      "execution_count": 25,
      "outputs": [
        {
          "output_type": "stream",
          "text": [
            "\n",
            "Two windmills are standing in a field and one asks the other, \n",
            "\"What kind of music do you like?\"  \n",
            "\n",
            "The other says, \n",
            "\"I'm a big metal fan.\"\n",
            "\n",
            "141\n"
          ],
          "name": "stdout"
        }
      ]
    },
    {
      "cell_type": "code",
      "metadata": {
        "colab": {
          "base_uri": "https://localhost:8080/"
        },
        "id": "Os1wtDpRFBvA",
        "outputId": "9b66730f-3516-48bc-e710-af3ee58ce241"
      },
      "source": [
        "#Note that special characters like `\\n` and escaped characters like `\\\"` count as a single character, \n",
        "#even though they are written and sometimes printed as two characters.\n",
        "multiline_string = \"\"\"a\n",
        "b\"\"\"\n",
        "print(len(multiline_string))\n",
        "print(len(multiline_string))\n",
        "#A string can be converted into a list of characters using `list` function.\n",
        "list(multiline_string)"
      ],
      "execution_count": 26,
      "outputs": [
        {
          "output_type": "stream",
          "text": [
            "3\n",
            "3\n"
          ],
          "name": "stdout"
        },
        {
          "output_type": "execute_result",
          "data": {
            "text/plain": [
              "['a', '\\n', 'b']"
            ]
          },
          "metadata": {
            "tags": []
          },
          "execution_count": 26
        }
      ]
    },
    {
      "cell_type": "markdown",
      "metadata": {
        "id": "F3cHpYJmI6J7"
      },
      "source": [
        "Strings also support several list operations, which are discussed in the next section.\n",
        "\n",
        "You can access individual characters within a string using the `[]` indexing notation. Note the character indices go from `0` to `n-1`, where `n` is the length of the string."
      ]
    },
    {
      "cell_type": "code",
      "metadata": {
        "colab": {
          "base_uri": "https://localhost:8080/"
        },
        "id": "7Tw-l9dsI88w",
        "outputId": "0b53bf0c-1edb-434b-b377-c40f724cc77f"
      },
      "source": [
        "today = \"Saturday\"\n",
        "print(today[0])\n",
        "\n",
        "print(today[7])\n",
        "\n",
        "#You can access a part of a string using by providing a `start:end` range instead of a single index in `[]`.\n",
        "print(today[5:7])\n",
        "print(today[5:8])\n",
        "\n",
        "print('-'*50)\n",
        "#You can also check whether a string contains a some text using the `in` operator. \n",
        "print('day' in today)\n",
        "print('Sun' in today)\n",
        "\n",
        "#Two or more strings can be joined or *concatenated* using the `+` operator. Be careful while concatenating strings, \n",
        "#sometimes you may need to add a space character `\" \"` between words.\n",
        "full_name = \"Derek O'Brien\"\n",
        "\n",
        "greeting = \"Hello\"\n",
        "\n",
        "print(greeting + full_name)\n",
        "print(greeting + \" \" + full_name + \"!\")  # additional space"
      ],
      "execution_count": 27,
      "outputs": [
        {
          "output_type": "stream",
          "text": [
            "S\n",
            "y\n",
            "da\n",
            "day\n",
            "--------------------------------------------------\n",
            "True\n",
            "False\n",
            "HelloDerek O'Brien\n",
            "Hello Derek O'Brien!\n"
          ],
          "name": "stdout"
        }
      ]
    },
    {
      "cell_type": "markdown",
      "metadata": {
        "id": "ob65VUmpM89T"
      },
      "source": [
        "Strings in Python have many built-in *methods* that are used to manipulate them. Let's try out some common string methods.\n",
        "\n",
        "> **Methods**: Methods are functions associated with data types and are accessed using the `.` notation e.g. `variable_name.method()` or `\"a string\".method()`. Methods are a powerful technique for associating common operations with values of specific data types.\n",
        "\n",
        "The `.lower()`, `.upper()` and `.capitalize()` methods are used to change the case of the characters."
      ]
    },
    {
      "cell_type": "code",
      "metadata": {
        "colab": {
          "base_uri": "https://localhost:8080/"
        },
        "id": "K6gW-d6l00AV",
        "outputId": "3c31b177-447a-4c47-ceaf-6fb979550b11"
      },
      "source": [
        "print(today.lower())\n",
        "print(\"saturday\".upper())\n",
        "print(\"monday\".capitalize()) # changes first character to uppercase"
      ],
      "execution_count": 28,
      "outputs": [
        {
          "output_type": "stream",
          "text": [
            "saturday\n",
            "SATURDAY\n",
            "Monday\n"
          ],
          "name": "stdout"
        }
      ]
    },
    {
      "cell_type": "code",
      "metadata": {
        "colab": {
          "base_uri": "https://localhost:8080/"
        },
        "id": "qhSJ3B5YI8_z",
        "outputId": "a902bf48-5f37-4618-d9d0-7ba564e6065e"
      },
      "source": [
        "#The `.replace` method replaces a part of the string with another string. \n",
        "#It takes the portion to be replaced and the replacement text as *inputs* or *arguments*.\n",
        "another_day = today.replace(\"Satur\", \"Wednes\")\n",
        "print(another_day)\n",
        "\n",
        "#Note that `replace` returns a new string, and the original string is not modified.\n",
        "print(today)\n",
        "\n",
        "#Note that `replace` returns a new string, and the original string is not modified.\n",
        "\n",
        "print(\"Sun,Mon,Tue,Wed,Thu,Fri,Sat\".split(\",\"))\n",
        "\n",
        "#The `.strip` method removes whitespace characters from the beginning and end of a string.\n",
        "a_long_line = \"       This is a long line with some space before, after,     and some space in the middle..    \"\n",
        "a_long_line_stripped = a_long_line.strip()\n",
        "print(a_long_line_stripped)"
      ],
      "execution_count": 29,
      "outputs": [
        {
          "output_type": "stream",
          "text": [
            "Wednesday\n",
            "Saturday\n",
            "['Sun', 'Mon', 'Tue', 'Wed', 'Thu', 'Fri', 'Sat']\n",
            "This is a long line with some space before, after,     and some space in the middle..\n"
          ],
          "name": "stdout"
        }
      ]
    },
    {
      "cell_type": "code",
      "metadata": {
        "colab": {
          "base_uri": "https://localhost:8080/",
          "height": 69
        },
        "id": "Ugi4wLBv30-P",
        "outputId": "8061e30f-299c-4f52-88f0-cd388fd065da"
      },
      "source": [
        "#get rid of all the duplicate whitespaces and newline characters\n",
        "print(\" \".join(a_long_line.split()) )\n",
        "\n",
        "#function\n",
        "def remove(string):\n",
        "    return \" \".join(string.split())\n",
        "      # Driver Program\n",
        "string = ' g e e k '\n",
        "print(remove(a_long_line_stripped))\n",
        "\n",
        "#using regular expression\n",
        "import re\n",
        "re.sub(' +', ' ',a_long_line_stripped)"
      ],
      "execution_count": 30,
      "outputs": [
        {
          "output_type": "stream",
          "text": [
            "This is a long line with some space before, after, and some space in the middle..\n",
            "This is a long line with some space before, after, and some space in the middle..\n"
          ],
          "name": "stdout"
        },
        {
          "output_type": "execute_result",
          "data": {
            "application/vnd.google.colaboratory.intrinsic+json": {
              "type": "string"
            },
            "text/plain": [
              "'This is a long line with some space before, after, and some space in the middle..'"
            ]
          },
          "metadata": {
            "tags": []
          },
          "execution_count": 30
        }
      ]
    },
    {
      "cell_type": "markdown",
      "metadata": {
        "id": "J6UWAJxMPKXf"
      },
      "source": [
        "The `.format` method combines values of other data types, e.g., integers, floats, booleans, lists, etc. with strings. You can use `format` to construct output messages for display."
      ]
    },
    {
      "cell_type": "code",
      "metadata": {
        "colab": {
          "base_uri": "https://localhost:8080/"
        },
        "id": "jYokuMjOI9Cq",
        "outputId": "5874c358-8f07-4b5d-ef10-27cb601ba673"
      },
      "source": [
        "# Input variables\n",
        "cost_of_ice_bag = 1.25\n",
        "profit_margin = .2\n",
        "number_of_bags = 500\n",
        "\n",
        "# Template for output message\n",
        "output_template = \"\"\"If a grocery store sells ice bags at $ {} per bag, with a profit margin of {} %, \n",
        "then the total profit it makes by selling {} ice bags is $ {}.\"\"\"\n",
        "\n",
        "print(output_template)\n",
        "print('-'*100)\n",
        "# Inserting values into the string\n",
        "total_profit = cost_of_ice_bag * profit_margin * number_of_bags\n",
        "output_message = output_template.format(cost_of_ice_bag, profit_margin*100, number_of_bags, total_profit)\n",
        "\n",
        "print(output_message)"
      ],
      "execution_count": 31,
      "outputs": [
        {
          "output_type": "stream",
          "text": [
            "If a grocery store sells ice bags at $ {} per bag, with a profit margin of {} %, \n",
            "then the total profit it makes by selling {} ice bags is $ {}.\n",
            "----------------------------------------------------------------------------------------------------\n",
            "If a grocery store sells ice bags at $ 1.25 per bag, with a profit margin of 20.0 %, \n",
            "then the total profit it makes by selling 500 ice bags is $ 125.0.\n"
          ],
          "name": "stdout"
        }
      ]
    },
    {
      "cell_type": "markdown",
      "metadata": {
        "id": "HGBmOGnzPlhm"
      },
      "source": [
        "Notice how the placeholders `{}` in the `output_template` string are replaced with the arguments provided to the `.format` method.\n",
        "\n",
        "It is also possible to use the string concatenation operator `+` to combine strings with other values. However, those values must first be converted to strings using the `str` function."
      ]
    },
    {
      "cell_type": "code",
      "metadata": {
        "id": "t8LcH4EdPnyb",
        "colab": {
          "base_uri": "https://localhost:8080/",
          "height": 198
        },
        "outputId": "bdd5e8ae-c33f-48b6-f2f5-fa8396f1ed59"
      },
      "source": [
        "\"If a grocery store sells ice bags at $ \" + cost_of_ice_bag + \", with a profit margin of \" + profit_margin\n",
        "\n",
        "\"If a grocery store sells ice bags at $ \" + str(cost_of_ice_bag) + \", with a profit margin of \" + str(profit_margin)"
      ],
      "execution_count": 33,
      "outputs": [
        {
          "output_type": "error",
          "ename": "TypeError",
          "evalue": "ignored",
          "traceback": [
            "\u001b[0;31m---------------------------------------------------------------------------\u001b[0m",
            "\u001b[0;31mTypeError\u001b[0m                                 Traceback (most recent call last)",
            "\u001b[0;32m<ipython-input-33-8ed693d70f74>\u001b[0m in \u001b[0;36m<module>\u001b[0;34m()\u001b[0m\n\u001b[0;32m----> 1\u001b[0;31m \u001b[0;34m\"If a grocery store sells ice bags at $ \"\u001b[0m \u001b[0;34m+\u001b[0m \u001b[0mcost_of_ice_bag\u001b[0m \u001b[0;34m+\u001b[0m \u001b[0;34m\", with a profit margin of \"\u001b[0m \u001b[0;34m+\u001b[0m \u001b[0mprofit_margin\u001b[0m\u001b[0;34m\u001b[0m\u001b[0;34m\u001b[0m\u001b[0m\n\u001b[0m\u001b[1;32m      2\u001b[0m \u001b[0;34m\u001b[0m\u001b[0m\n\u001b[1;32m      3\u001b[0m \u001b[0;34m\"If a grocery store sells ice bags at $ \"\u001b[0m \u001b[0;34m+\u001b[0m \u001b[0mstr\u001b[0m\u001b[0;34m(\u001b[0m\u001b[0mcost_of_ice_bag\u001b[0m\u001b[0;34m)\u001b[0m \u001b[0;34m+\u001b[0m \u001b[0;34m\", with a profit margin of \"\u001b[0m \u001b[0;34m+\u001b[0m \u001b[0mstr\u001b[0m\u001b[0;34m(\u001b[0m\u001b[0mprofit_margin\u001b[0m\u001b[0;34m)\u001b[0m\u001b[0;34m\u001b[0m\u001b[0;34m\u001b[0m\u001b[0m\n",
            "\u001b[0;31mTypeError\u001b[0m: can only concatenate str (not \"float\") to str"
          ]
        }
      ]
    },
    {
      "cell_type": "code",
      "metadata": {
        "colab": {
          "base_uri": "https://localhost:8080/",
          "height": 86
        },
        "id": "m0se8SiXPwB4",
        "outputId": "4a6ec123-8b9a-413b-c83f-6178dfece61c"
      },
      "source": [
        "#You can `str` to convert a value of any data type into a string.\n",
        "print(str(23))\n",
        "\n",
        "print(str(23.45))\n",
        "\n",
        "print(str(True))\n",
        "\n",
        "the_3_musketeers = [\"Athos\", \"Porthos\", \"Aramis\"]\n",
        "str(the_3_musketeers)"
      ],
      "execution_count": 34,
      "outputs": [
        {
          "output_type": "stream",
          "text": [
            "23\n",
            "23.45\n",
            "True\n"
          ],
          "name": "stdout"
        },
        {
          "output_type": "execute_result",
          "data": {
            "application/vnd.google.colaboratory.intrinsic+json": {
              "type": "string"
            },
            "text/plain": [
              "\"['Athos', 'Porthos', 'Aramis']\""
            ]
          },
          "metadata": {
            "tags": []
          },
          "execution_count": 34
        }
      ]
    },
    {
      "cell_type": "markdown",
      "metadata": {
        "id": "m6Cx1k3QQmsg"
      },
      "source": [
        "Note that all string methods return new values and DO NOT change the existing string."
      ]
    },
    {
      "cell_type": "code",
      "metadata": {
        "colab": {
          "base_uri": "https://localhost:8080/"
        },
        "id": "uTtRkQfOQtXy",
        "outputId": "7513c0f6-da2c-4164-8bbd-84769995f2cb"
      },
      "source": [
        "#Strings also support the comparison operators `==` and `!=` for checking whether two strings are equal.\n",
        "first_name = \"John\"\n",
        "print(first_name == \"Doe\")\n",
        "print(first_name == \"John\")\n",
        "print(first_name != \"Jane\")"
      ],
      "execution_count": 35,
      "outputs": [
        {
          "output_type": "stream",
          "text": [
            "False\n",
            "True\n",
            "True\n"
          ],
          "name": "stdout"
        }
      ]
    },
    {
      "cell_type": "markdown",
      "metadata": {
        "id": "ve9QXQpLRITf"
      },
      "source": [
        "#non-primitive data structures, also known as containers"
      ]
    },
    {
      "cell_type": "markdown",
      "metadata": {
        "id": "IQSyg-FaRMXg"
      },
      "source": [
        "### List\n",
        "\n",
        "A list in Python is an ordered collection of values. Lists can hold values of different data types and support operations to add, remove, and change values. Lists have the type `list`.\n",
        "\n",
        "To create a list, enclose a sequence of values within square brackets `[` and `]`, separated by commas."
      ]
    },
    {
      "cell_type": "code",
      "metadata": {
        "colab": {
          "base_uri": "https://localhost:8080/"
        },
        "id": "PXQAHjEpRPVa",
        "outputId": "5e0789c9-6730-430a-e910-9bc5627b2bc3"
      },
      "source": [
        "fruits = ['apple', 'banana', 'cherry']\n",
        "print(type(fruits))\n",
        "\n",
        "#creating a list containing values of different data types, including another list.\n",
        "a_list = [23, 'hello', None, 3.14, fruits, 3 <= 5]\n",
        "\n",
        "print(a_list)\n",
        "\n",
        "#creating a empty list\n",
        "empty_list = []\n",
        "print(empty_list)\n",
        "\n",
        "#To determine the number of values in a list, use the `len` function. \n",
        "#You can use `len`  to determine the number of values in several other data types.\n",
        "print(\"Number of fruits:\", len(fruits))\n",
        "\n",
        "print(len(a_list))\n",
        "\n",
        "\n",
        "print(len(empty_list))"
      ],
      "execution_count": 36,
      "outputs": [
        {
          "output_type": "stream",
          "text": [
            "<class 'list'>\n",
            "[23, 'hello', None, 3.14, ['apple', 'banana', 'cherry'], True]\n",
            "[]\n",
            "Number of fruits: 3\n",
            "6\n",
            "0\n"
          ],
          "name": "stdout"
        }
      ]
    },
    {
      "cell_type": "code",
      "metadata": {
        "colab": {
          "base_uri": "https://localhost:8080/"
        },
        "id": "cebLgTJJRPbC",
        "outputId": "a7f74441-f543-4e61-e984-cf6f293fd222"
      },
      "source": [
        "#You can access an element from the list using its *index*, e.g., `fruits[2]` returns the element at index 2 within the list `fruits`.\n",
        "# The starting index of a list is 0.\n",
        "\n",
        "print(fruits[0])\n",
        "\n",
        "#use negative indices to access elements from the end of a list, e.g., fruits[-1] returns the last element,\n",
        "# fruits[-2] returns the second last element, and so on.\n",
        "print(fruits[-1])\n",
        "#print(fruits[-4])\n",
        "\n",
        "\n",
        "#If you try to access an index equal to or higher than the length of the list, Python returns an IndexError.\n",
        "#print(fruits[3])"
      ],
      "execution_count": 37,
      "outputs": [
        {
          "output_type": "stream",
          "text": [
            "apple\n",
            "cherry\n"
          ],
          "name": "stdout"
        }
      ]
    },
    {
      "cell_type": "code",
      "metadata": {
        "colab": {
          "base_uri": "https://localhost:8080/"
        },
        "id": "1frn8tKXPpx7",
        "outputId": "40f33654-030c-49bc-b3a4-9bd8b3a13f11"
      },
      "source": [
        "#You can also access a range of values from the list. The result is itself a list. Let us look at some examples.\n",
        "a_list = [23, 'hello', None, 3.14, fruits, 3 <= 5]\n",
        "print(len(a_list))\n",
        "print(a_list[2:5])"
      ],
      "execution_count": 38,
      "outputs": [
        {
          "output_type": "stream",
          "text": [
            "6\n",
            "[None, 3.14, ['apple', 'banana', 'cherry']]\n"
          ],
          "name": "stdout"
        }
      ]
    },
    {
      "cell_type": "markdown",
      "metadata": {
        "id": "jsuFIvinPjYn"
      },
      "source": [
        "Note that the range `2:5` includes the element at the start index `2` but does not include the element at the end index `5`. So, the result has 3 values (index `2`, `3`, and `4`).\n",
        "\n",
        "Here are some experiments you should try out (use the empty cells below):\n",
        "\n",
        "* Try setting one or both indices of the range are larger than the size of the list, e.g., `a_list[2:10]`\n",
        "* Try setting the start index of the range to be larger than the end index, e.g., `a_list[12:10]`\n",
        "* Try leaving out the start or end index of a range, e.g., `a_list[2:]` or `a_list[:5]`\n",
        "* Try using negative indices for the range, e.g., `a_list[-2:-5]` or `a_list[-5:-2]` (can you explain the results?)\n",
        "\n",
        "> "
      ]
    },
    {
      "cell_type": "code",
      "metadata": {
        "colab": {
          "base_uri": "https://localhost:8080/"
        },
        "id": "58aGusdxRPeD",
        "outputId": "8e794851-a6e1-44b2-9049-b1bb7833516d"
      },
      "source": [
        "print(a_list)\n",
        "\n",
        "print(a_list[2:10])\n",
        "\n",
        "print(a_list[2:])\n",
        "\n",
        "print(a_list[-5:-2])"
      ],
      "execution_count": 39,
      "outputs": [
        {
          "output_type": "stream",
          "text": [
            "[23, 'hello', None, 3.14, ['apple', 'banana', 'cherry'], True]\n",
            "[None, 3.14, ['apple', 'banana', 'cherry'], True]\n",
            "[None, 3.14, ['apple', 'banana', 'cherry'], True]\n",
            "['hello', None, 3.14]\n"
          ],
          "name": "stdout"
        }
      ]
    },
    {
      "cell_type": "code",
      "metadata": {
        "colab": {
          "base_uri": "https://localhost:8080/"
        },
        "id": "8rgV7WRFQDtW",
        "outputId": "6423967b-a11f-4795-8e25-b789f8146e58"
      },
      "source": [
        "#You can also change the value at a specific index within a list using the assignment operation.\n",
        "print(fruits)\n",
        "\n",
        "fruits[1] = 'blueberry'\n",
        "print(fruits)"
      ],
      "execution_count": 40,
      "outputs": [
        {
          "output_type": "stream",
          "text": [
            "['apple', 'banana', 'cherry']\n",
            "['apple', 'blueberry', 'cherry']\n"
          ],
          "name": "stdout"
        }
      ]
    },
    {
      "cell_type": "code",
      "metadata": {
        "colab": {
          "base_uri": "https://localhost:8080/"
        },
        "id": "e_vah_paQQPb",
        "outputId": "2194f698-d4df-4bf4-dbc5-84f2288b2b73"
      },
      "source": [
        "#A new value can be added to the end of a list using the `append` method.\n",
        "print(fruits)\n",
        "\n",
        "fruits.append('dates')\n",
        "fruits"
      ],
      "execution_count": 41,
      "outputs": [
        {
          "output_type": "stream",
          "text": [
            "['apple', 'blueberry', 'cherry']\n"
          ],
          "name": "stdout"
        },
        {
          "output_type": "execute_result",
          "data": {
            "text/plain": [
              "['apple', 'blueberry', 'cherry', 'dates']"
            ]
          },
          "metadata": {
            "tags": []
          },
          "execution_count": 41
        }
      ]
    },
    {
      "cell_type": "code",
      "metadata": {
        "colab": {
          "base_uri": "https://localhost:8080/"
        },
        "id": "kH8QnItzQcgM",
        "outputId": "87c803da-a07e-4b73-a07f-147c7dcacddf"
      },
      "source": [
        "#A new value can also be inserted at a specific index using the `insert` method.\n",
        "print(fruits)\n",
        "\n",
        "fruits.insert(1, 'banana')\n",
        "fruits"
      ],
      "execution_count": 42,
      "outputs": [
        {
          "output_type": "stream",
          "text": [
            "['apple', 'blueberry', 'cherry', 'dates']\n"
          ],
          "name": "stdout"
        },
        {
          "output_type": "execute_result",
          "data": {
            "text/plain": [
              "['apple', 'banana', 'blueberry', 'cherry', 'dates']"
            ]
          },
          "metadata": {
            "tags": []
          },
          "execution_count": 42
        }
      ]
    },
    {
      "cell_type": "code",
      "metadata": {
        "colab": {
          "base_uri": "https://localhost:8080/"
        },
        "id": "ZfirJWkEQcjM",
        "outputId": "4060e176-ee79-4e4e-a8ac-309b73663231"
      },
      "source": [
        "#You can remove a value from a list using the `remove` method. it can only be run once after that it removes the item.\n",
        "print(fruits)\n",
        "fruits.remove('blueberry')\n",
        "print(fruits)\n",
        "\n",
        "\n",
        "#list has multiple instances of the value passed to remove? \n",
        "new_list = [e for e in fruits if e not in ('apple', 'banana')]\n",
        "print(new_list)\n",
        "\n",
        "unwanted = {'cherry', 'dates'}\n",
        "item_list = [e for e in new_list if e not in unwanted]\n",
        "print(item_list)\n"
      ],
      "execution_count": 43,
      "outputs": [
        {
          "output_type": "stream",
          "text": [
            "['apple', 'banana', 'blueberry', 'cherry', 'dates']\n",
            "['apple', 'banana', 'cherry', 'dates']\n",
            "['cherry', 'dates']\n",
            "[]\n"
          ],
          "name": "stdout"
        }
      ]
    },
    {
      "cell_type": "code",
      "metadata": {
        "colab": {
          "base_uri": "https://localhost:8080/"
        },
        "id": "UQvqaQMg3Ch5",
        "outputId": "2cb63544-7f8f-4dff-c13d-5cbd94136ec1"
      },
      "source": [
        "#To remove an element from a specific index, use the `pop` method. The method also returns the removed element.\n",
        "print(fruits)\n",
        "fruits.pop(1)\n",
        "print(fruits)\n",
        "\n",
        "#If no index is provided, the `pop` method removes the last element of the list.\n",
        "fruits.pop()\n",
        "print(fruits)"
      ],
      "execution_count": 44,
      "outputs": [
        {
          "output_type": "stream",
          "text": [
            "['apple', 'banana', 'cherry', 'dates']\n",
            "['apple', 'cherry', 'dates']\n",
            "['apple', 'cherry']\n"
          ],
          "name": "stdout"
        }
      ]
    },
    {
      "cell_type": "code",
      "metadata": {
        "colab": {
          "base_uri": "https://localhost:8080/"
        },
        "id": "Az9OgF773f6C",
        "outputId": "03327767-b835-4079-fbca-52d938c611cb"
      },
      "source": [
        "#You can test whether a list contains a value using the `in` operator.\n",
        "print('pineapple' in fruits)\n",
        "print('apple' in fruits)"
      ],
      "execution_count": 45,
      "outputs": [
        {
          "output_type": "stream",
          "text": [
            "False\n",
            "True\n"
          ],
          "name": "stdout"
        }
      ]
    },
    {
      "cell_type": "code",
      "metadata": {
        "colab": {
          "base_uri": "https://localhost:8080/"
        },
        "id": "8kCNpJ6F3wMU",
        "outputId": "bbcd33fd-8655-4b34-c5c5-225e0c0d0f14"
      },
      "source": [
        "#To combine two or more lists, use the `+` operator. This operation is also called *concatenation*.\n",
        "print(fruits)\n",
        "more_fruits = fruits + ['pineapple', 'tomato', 'guava'] + ['dates', 'banana']\n",
        "print(more_fruits)"
      ],
      "execution_count": 46,
      "outputs": [
        {
          "output_type": "stream",
          "text": [
            "['apple', 'cherry']\n",
            "['apple', 'cherry', 'pineapple', 'tomato', 'guava', 'dates', 'banana']\n"
          ],
          "name": "stdout"
        }
      ]
    },
    {
      "cell_type": "code",
      "metadata": {
        "colab": {
          "base_uri": "https://localhost:8080/"
        },
        "id": "Q1c7Kqwo4BF6",
        "outputId": "65299e8a-727d-495f-8fd2-d15cd3d495f0"
      },
      "source": [
        "#To create a copy of a list, use the `copy` method. Modifying the copied list does not affect the original.\n",
        "more_fruits_copy = more_fruits.copy()\n",
        "print(more_fruits_copy)\n",
        "\n",
        "# Modify the copy\n",
        "more_fruits_copy.remove('pineapple')\n",
        "more_fruits_copy.pop()\n",
        "print(more_fruits_copy)"
      ],
      "execution_count": 47,
      "outputs": [
        {
          "output_type": "stream",
          "text": [
            "['apple', 'cherry', 'pineapple', 'tomato', 'guava', 'dates', 'banana']\n",
            "['apple', 'cherry', 'tomato', 'guava', 'dates']\n"
          ],
          "name": "stdout"
        }
      ]
    },
    {
      "cell_type": "code",
      "metadata": {
        "colab": {
          "base_uri": "https://localhost:8080/"
        },
        "id": "d301YHvN4SRy",
        "outputId": "6a8118dd-e898-4792-e466-cd7cb5ed8380"
      },
      "source": [
        "# Original list remains unchanged\n",
        "print(more_fruits)"
      ],
      "execution_count": 48,
      "outputs": [
        {
          "output_type": "stream",
          "text": [
            "['apple', 'cherry', 'pineapple', 'tomato', 'guava', 'dates', 'banana']\n"
          ],
          "name": "stdout"
        }
      ]
    },
    {
      "cell_type": "markdown",
      "metadata": {
        "id": "NbgiygG04sjo"
      },
      "source": [
        "Note that you cannot create a copy of a list by simply creating a new variable using the assignment operator `=`. The new variable will point to the same list, and any modifications performed using either variable will affect the other."
      ]
    },
    {
      "cell_type": "code",
      "metadata": {
        "colab": {
          "base_uri": "https://localhost:8080/"
        },
        "id": "rFM2K51_4uVn",
        "outputId": "0fb8ef99-7dd9-4d83-bd9b-0c3128f07407"
      },
      "source": [
        "more_fruits_not_a_copy = more_fruits\n",
        "more_fruits_not_a_copy.remove('pineapple')\n",
        "more_fruits_not_a_copy.pop()\n",
        "\n",
        "print(more_fruits_not_a_copy)\n",
        "print(more_fruits)"
      ],
      "execution_count": 49,
      "outputs": [
        {
          "output_type": "stream",
          "text": [
            "['apple', 'cherry', 'tomato', 'guava', 'dates']\n",
            "['apple', 'cherry', 'tomato', 'guava', 'dates']\n"
          ],
          "name": "stdout"
        }
      ]
    },
    {
      "cell_type": "markdown",
      "metadata": {
        "id": "W7VqrGrV5Dhd"
      },
      "source": [
        "Questions to solve:\n",
        "\n",
        "* Reverse the order of elements in a list\n",
        "* Add the elements of one list at the end of another list\n",
        "* Sort a list of strings in alphabetical order\n",
        "* Sort a list of numbers in decreasing order"
      ]
    },
    {
      "cell_type": "code",
      "metadata": {
        "id": "9_I_ILcnDa6U",
        "colab": {
          "base_uri": "https://localhost:8080/"
        },
        "outputId": "99c7260d-dc91-4c79-bb24-47d2cccd8157"
      },
      "source": [
        "print(more_fruits)\n",
        "more_fruits.reverse()\n",
        "print(more_fruits)\n",
        "\n",
        "\n",
        "#Note: reverse() returns None\n",
        "print(more_fruits.reverse())\n",
        "\n",
        "\n",
        "#Note: returns not a list - use reversed function\n",
        "org_list = reversed(more_fruits)\n",
        "print(org_list)\n",
        "\n",
        "new_org_list = list(reversed(more_fruits))\n",
        "print(new_org_list)"
      ],
      "execution_count": 50,
      "outputs": [
        {
          "output_type": "stream",
          "text": [
            "['apple', 'cherry', 'tomato', 'guava', 'dates']\n",
            "['dates', 'guava', 'tomato', 'cherry', 'apple']\n",
            "None\n",
            "<list_reverseiterator object at 0x7f898e0bc890>\n",
            "['dates', 'guava', 'tomato', 'cherry', 'apple']\n"
          ],
          "name": "stdout"
        }
      ]
    },
    {
      "cell_type": "code",
      "metadata": {
        "colab": {
          "base_uri": "https://localhost:8080/"
        },
        "id": "xsPZ0biaWDtF",
        "outputId": "f5dee07b-4d3c-49a8-b7fb-ff04f264ceef"
      },
      "source": [
        "#append works for strings \n",
        "my_list = ['geeks', 'for']\n",
        "my_list.append('geeks')\n",
        "print(my_list)\n",
        "my_list.extend('geeks')\n",
        "print(my_list)\n",
        "\n",
        "#NOTE: A list is an object. If you append another list onto a list, the parameter list will be a single object at the end of the list.\n",
        "my_list = ['geeks', 'for', 'geeks']\n",
        "another_list = [6, 0, 4, 1]\n",
        "my_list.append(another_list)\n",
        "print(my_list)\n",
        "\n",
        "\n",
        "#NoTe: check how to store new list values after extending it.\n",
        "my_list.extend(another_list)\n",
        "new_list = list(my_list)\n",
        "print(new_list)"
      ],
      "execution_count": 51,
      "outputs": [
        {
          "output_type": "stream",
          "text": [
            "['geeks', 'for', 'geeks']\n",
            "['geeks', 'for', 'geeks', 'g', 'e', 'e', 'k', 's']\n",
            "['geeks', 'for', 'geeks', [6, 0, 4, 1]]\n",
            "['geeks', 'for', 'geeks', [6, 0, 4, 1], 6, 0, 4, 1]\n"
          ],
          "name": "stdout"
        }
      ]
    },
    {
      "cell_type": "code",
      "metadata": {
        "id": "xnPcMjtoDa8j",
        "colab": {
          "base_uri": "https://localhost:8080/"
        },
        "outputId": "9019e3c9-d2b0-47db-e85c-dafd8f2250eb"
      },
      "source": [
        "fruits = ['apple', 'banana', 'cherry', 'tomato','dates', 'guava']\n",
        "print(fruits)\n",
        "fruits.sort()\n",
        "print(fruits)\n",
        "\n",
        "#print(fruits.sort())\n",
        "#Note: returns not a list - use sorted function\n",
        "new_org_list = list(sorted(fruits))\n",
        "print(new_org_list)"
      ],
      "execution_count": 52,
      "outputs": [
        {
          "output_type": "stream",
          "text": [
            "['apple', 'banana', 'cherry', 'tomato', 'dates', 'guava']\n",
            "['apple', 'banana', 'cherry', 'dates', 'guava', 'tomato']\n",
            "['apple', 'banana', 'cherry', 'dates', 'guava', 'tomato']\n"
          ],
          "name": "stdout"
        }
      ]
    },
    {
      "cell_type": "code",
      "metadata": {
        "colab": {
          "base_uri": "https://localhost:8080/"
        },
        "id": "9OzMcq9dc4pu",
        "outputId": "69c3a2ee-e322-4e48-e1aa-43fe90a04fc3"
      },
      "source": [
        "lst = ['23', '33', '11', '7', '55']\n",
        "  \n",
        "# Using sort() function with key as int\n",
        "lst.sort(key = int)\n",
        "  \n",
        "print(lst)"
      ],
      "execution_count": 53,
      "outputs": [
        {
          "output_type": "stream",
          "text": [
            "['7', '11', '23', '33', '55']\n"
          ],
          "name": "stdout"
        }
      ]
    },
    {
      "cell_type": "code",
      "metadata": {
        "colab": {
          "base_uri": "https://localhost:8080/"
        },
        "id": "iY1g1U_Jc4x9",
        "outputId": "e1f0dd2c-0570-4c78-8b22-2654bc29a79b"
      },
      "source": [
        "fruits = ['apple', 'banana', 'cherry', 'tomato','dates', 'guava']\n",
        "print(fruits)\n",
        "\n",
        "# Using sort() function\n",
        "fruits.sort(reverse = True)\n",
        "  \n",
        "print(fruits)"
      ],
      "execution_count": 54,
      "outputs": [
        {
          "output_type": "stream",
          "text": [
            "['apple', 'banana', 'cherry', 'tomato', 'dates', 'guava']\n",
            "['tomato', 'guava', 'dates', 'cherry', 'banana', 'apple']\n"
          ],
          "name": "stdout"
        }
      ]
    },
    {
      "cell_type": "code",
      "metadata": {
        "id": "S12j__XFc46F"
      },
      "source": [
        ""
      ],
      "execution_count": 54,
      "outputs": []
    },
    {
      "cell_type": "markdown",
      "metadata": {
        "id": "zSrTPlLqDdJV"
      },
      "source": [
        "# Tuple\n",
        "\n",
        "A tuple is an ordered collection of values, similar to a list. However, it is not possible to add, remove, or modify values in a tuple. A tuple is created by enclosing values within parentheses `(` and `)`, separated by commas.\n",
        "\n",
        "> Any data structure that cannot be modified after creation is called *immutable*. You can think of tuples as immutable lists."
      ]
    },
    {
      "cell_type": "code",
      "metadata": {
        "colab": {
          "base_uri": "https://localhost:8080/"
        },
        "id": "qxXLaH-XDlqI",
        "outputId": "ccfd09a6-9dac-4fd3-e666-16b04ad9d940"
      },
      "source": [
        "fruits = ('apple', 'cherry', 'dates')\n",
        "print(fruits)\n",
        "print(len(fruits))\n",
        "# check if it contains an element\n",
        "print('dates' in fruits)"
      ],
      "execution_count": 55,
      "outputs": [
        {
          "output_type": "stream",
          "text": [
            "('apple', 'cherry', 'dates')\n",
            "3\n",
            "True\n"
          ],
          "name": "stdout"
        }
      ]
    },
    {
      "cell_type": "code",
      "metadata": {
        "colab": {
          "base_uri": "https://localhost:8080/",
          "height": 232
        },
        "id": "zzxdBbdjeJDw",
        "outputId": "5572b99b-ba42-44cf-a51b-32d25110a5ae"
      },
      "source": [
        "# try to change an element\n",
        "fruits[0] = 'avocado'\n",
        "\n",
        "# try to append an element\n",
        "fruits.append('blueberry')\n",
        "\n",
        "# try to remove an element\n",
        "fruits.remove('apple')"
      ],
      "execution_count": 58,
      "outputs": [
        {
          "output_type": "error",
          "ename": "TypeError",
          "evalue": "ignored",
          "traceback": [
            "\u001b[0;31m---------------------------------------------------------------------------\u001b[0m",
            "\u001b[0;31mTypeError\u001b[0m                                 Traceback (most recent call last)",
            "\u001b[0;32m<ipython-input-58-2edac2557717>\u001b[0m in \u001b[0;36m<module>\u001b[0;34m()\u001b[0m\n\u001b[1;32m      1\u001b[0m \u001b[0;31m# try to change an element\u001b[0m\u001b[0;34m\u001b[0m\u001b[0;34m\u001b[0m\u001b[0;34m\u001b[0m\u001b[0m\n\u001b[0;32m----> 2\u001b[0;31m \u001b[0mfruits\u001b[0m\u001b[0;34m[\u001b[0m\u001b[0;36m0\u001b[0m\u001b[0;34m]\u001b[0m \u001b[0;34m=\u001b[0m \u001b[0;34m'avocado'\u001b[0m\u001b[0;34m\u001b[0m\u001b[0;34m\u001b[0m\u001b[0m\n\u001b[0m\u001b[1;32m      3\u001b[0m \u001b[0;34m\u001b[0m\u001b[0m\n\u001b[1;32m      4\u001b[0m \u001b[0;31m# try to append an element\u001b[0m\u001b[0;34m\u001b[0m\u001b[0;34m\u001b[0m\u001b[0;34m\u001b[0m\u001b[0m\n\u001b[1;32m      5\u001b[0m \u001b[0mfruits\u001b[0m\u001b[0;34m.\u001b[0m\u001b[0mappend\u001b[0m\u001b[0;34m(\u001b[0m\u001b[0;34m'blueberry'\u001b[0m\u001b[0;34m)\u001b[0m\u001b[0;34m\u001b[0m\u001b[0;34m\u001b[0m\u001b[0m\n",
            "\u001b[0;31mTypeError\u001b[0m: 'tuple' object does not support item assignment"
          ]
        }
      ]
    },
    {
      "cell_type": "code",
      "metadata": {
        "colab": {
          "base_uri": "https://localhost:8080/"
        },
        "id": "RfxX8ToAeJG7",
        "outputId": "27ad928d-a7b2-41f1-e7d6-2135665700d5"
      },
      "source": [
        "#You can also skip the parantheses `(` and `)` while creating a tuple. Python automatically converts comma-separated values into a tuple.\n",
        "the_3_musketeers = 'Athos', 'Porthos', 'Aramis'\n",
        "print(the_3_musketeers)\n",
        "\n",
        "#You can also create a tuple with just one element by typing a comma after it. Just wrapping it with parentheses `(` and `)` won't make it a tuple.\n",
        "single_element_tuple = 4,\n",
        "print(single_element_tuple)\n",
        "print(type(single_element_tuple))\n",
        "\n",
        "not_a_tuple = (4)\n",
        "print(not_a_tuple)\n",
        "print(type(not_a_tuple))\n",
        "\n",
        "#Tuples are often used to create multiple variables with a single statement.\n",
        "point = (3, 4)\n",
        "print(type(point))\n",
        "point_x, point_y = point\n",
        "\n",
        "print(point_x)\n",
        "print(point_y)"
      ],
      "execution_count": 59,
      "outputs": [
        {
          "output_type": "stream",
          "text": [
            "('Athos', 'Porthos', 'Aramis')\n",
            "(4,)\n",
            "<class 'tuple'>\n",
            "4\n",
            "<class 'int'>\n",
            "<class 'tuple'>\n",
            "3\n",
            "4\n"
          ],
          "name": "stdout"
        }
      ]
    },
    {
      "cell_type": "code",
      "metadata": {
        "id": "pFMHg2gyfcxS",
        "colab": {
          "base_uri": "https://localhost:8080/"
        },
        "outputId": "a5920f68-9e4c-4281-d6d4-0e7b1f59f96b"
      },
      "source": [
        "#You can convert a list into a tuple using the `tuple` function, and vice versa using the `list` function\n",
        "tuple_eg = tuple(['one', 'two', 'three'])\n",
        "print(tuple_eg)\n",
        "print(type(tuple_eg))\n",
        "\n",
        "list_eg = list(('Athos', 'Porthos', 'Aramis'))\n",
        "print(list_eg)\n",
        "print(type(list_eg))"
      ],
      "execution_count": 60,
      "outputs": [
        {
          "output_type": "stream",
          "text": [
            "('one', 'two', 'three')\n",
            "<class 'tuple'>\n",
            "['Athos', 'Porthos', 'Aramis']\n",
            "<class 'list'>\n"
          ],
          "name": "stdout"
        }
      ]
    },
    {
      "cell_type": "code",
      "metadata": {
        "colab": {
          "base_uri": "https://localhost:8080/"
        },
        "id": "JOKssLENf62T",
        "outputId": "d62e4ee8-77c9-4d9f-bfab-0570cd064f20"
      },
      "source": [
        "#Tuples have just two built-in methods: `count` and `index`. \n",
        "#Can you figure out what they do? While you look could look for documentation and examples online, \n",
        "#there's an easier way to check a method's documentation, using the `help` function.\n",
        "\n",
        "a_tuple = 23, \"hello\", False, None, 23, 37, \"hello\"\n",
        "help(a_tuple.count)"
      ],
      "execution_count": 61,
      "outputs": [
        {
          "output_type": "stream",
          "text": [
            "Help on built-in function count:\n",
            "\n",
            "count(value, /) method of builtins.tuple instance\n",
            "    Return number of occurrences of value.\n",
            "\n"
          ],
          "name": "stdout"
        }
      ]
    },
    {
      "cell_type": "code",
      "metadata": {
        "id": "-kdpT4tLr0wW"
      },
      "source": [
        "#start a code cell with `?` and type the name of a function or method. When you execute this cell, you will see the function/method's documentation in a pop-up window.\n",
        "?a_tuple.index"
      ],
      "execution_count": 62,
      "outputs": []
    },
    {
      "cell_type": "markdown",
      "metadata": {
        "id": "Y1UX8g-Ukf_X"
      },
      "source": [
        "# Dictionary\n",
        "\n",
        "A dictionary is an unordered collection of items. Each item stored in a dictionary has a key and value. You can use a key to retrieve the corresponding value from the dictionary.  Dictionaries have the type `dict`.\n",
        "\n",
        "Dictionaries are often used to store many pieces of information e.g. details about a person, in a single variable. Dictionaries are created by enclosing key-value pairs within braces or curly brackets `{` and `}`."
      ]
    },
    {
      "cell_type": "code",
      "metadata": {
        "colab": {
          "base_uri": "https://localhost:8080/"
        },
        "id": "z2aF6iR4kuT9",
        "outputId": "c408472c-7abb-4895-947d-a429fbf08a3f"
      },
      "source": [
        "person1 = {\n",
        "    'name': 'John Doe',\n",
        "    'sex': 'Male',\n",
        "    'age': 32,\n",
        "    'married': True\n",
        "}\n",
        "\n",
        "print(person1)\n",
        "print(type(person1))\n",
        "\n",
        "#Dictionaries can also be created using the dict function.\n",
        "person2 = dict(name='Jane Judy', sex='Female', age=28, married=False)\n",
        "\n",
        "print(person2)\n",
        "print(type(person2))"
      ],
      "execution_count": 63,
      "outputs": [
        {
          "output_type": "stream",
          "text": [
            "{'name': 'John Doe', 'sex': 'Male', 'age': 32, 'married': True}\n",
            "<class 'dict'>\n",
            "{'name': 'Jane Judy', 'sex': 'Female', 'age': 28, 'married': False}\n",
            "<class 'dict'>\n"
          ],
          "name": "stdout"
        }
      ]
    },
    {
      "cell_type": "code",
      "metadata": {
        "colab": {
          "base_uri": "https://localhost:8080/"
        },
        "id": "4UB274QTkuWj",
        "outputId": "a56f21cf-eb10-4e92-ce3e-0433987b391c"
      },
      "source": [
        "#Keys can be used to access values using square brackets [ and ].\n",
        "print(person1['name'])\n",
        "\n",
        "print(person1['married'])\n",
        "\n",
        "print(person2['name'])\n",
        "\n",
        "\n",
        "#If a key isn't present in the dictionary, then a KeyError is thrown.\n",
        "#print(person1['address'])\n",
        "\n",
        "#You can also use the `get` method to access the value associated with a key.\n",
        "print(person1.get('name'))\n",
        "\n",
        "#The `get` method also accepts a default value, returned if the key is not present in the dictionary.\n",
        "print(person2.get(\"address\"))"
      ],
      "execution_count": 64,
      "outputs": [
        {
          "output_type": "stream",
          "text": [
            "John Doe\n",
            "True\n",
            "Jane Judy\n",
            "John Doe\n",
            "None\n"
          ],
          "name": "stdout"
        }
      ]
    },
    {
      "cell_type": "code",
      "metadata": {
        "colab": {
          "base_uri": "https://localhost:8080/"
        },
        "id": "bziybrdekuZm",
        "outputId": "56cbc9fb-f4b9-4f89-900e-d27422e4e7c9"
      },
      "source": [
        "#You can check whether a key is present in a dictionary using the `in` operator.\n",
        "print('name' in person1)\n",
        "print('address' in person1)\n",
        "print('-'*50)\n",
        "#You can change the value associated with a key using the assignment operator.\n",
        "\n",
        "print(person2['married'])\n",
        "\n",
        "person2['married'] = True\n",
        "\n",
        "print(person2['married'])\n",
        "print(person2)"
      ],
      "execution_count": 65,
      "outputs": [
        {
          "output_type": "stream",
          "text": [
            "True\n",
            "False\n",
            "--------------------------------------------------\n",
            "False\n",
            "True\n",
            "{'name': 'Jane Judy', 'sex': 'Female', 'age': 28, 'married': True}\n"
          ],
          "name": "stdout"
        }
      ]
    },
    {
      "cell_type": "code",
      "metadata": {
        "colab": {
          "base_uri": "https://localhost:8080/"
        },
        "id": "Efe4PvuwqJCR",
        "outputId": "51d2e6e8-ad67-49a7-e5c1-01fb114a840a"
      },
      "source": [
        "#The assignment operator can also be used to add new key-value pairs to the dictionary.\n",
        "print(person1)\n",
        "person1['address'] = '1, Penny Lane'\n",
        "print(person1)"
      ],
      "execution_count": 66,
      "outputs": [
        {
          "output_type": "stream",
          "text": [
            "{'name': 'John Doe', 'sex': 'Male', 'age': 32, 'married': True}\n",
            "{'name': 'John Doe', 'sex': 'Male', 'age': 32, 'married': True, 'address': '1, Penny Lane'}\n"
          ],
          "name": "stdout"
        }
      ]
    },
    {
      "cell_type": "code",
      "metadata": {
        "colab": {
          "base_uri": "https://localhost:8080/"
        },
        "id": "YxCylcp_qWt6",
        "outputId": "55d7e0da-74b4-443d-e0ef-969244190a3c"
      },
      "source": [
        "#To remove a key and the associated value from a dictionary, use the `pop` method.\n",
        "person1.pop('address')\n",
        "print(person1)\n",
        "\n",
        "#Dictionaries also provide methods to view the list of keys, values, or key-value pairs inside it.\n",
        "print(\"keys:\",person1.keys())\n",
        "print(\"values:\",person1.values())\n",
        "print(\"itmes:\",person1.items())"
      ],
      "execution_count": 67,
      "outputs": [
        {
          "output_type": "stream",
          "text": [
            "{'name': 'John Doe', 'sex': 'Male', 'age': 32, 'married': True}\n",
            "keys: dict_keys(['name', 'sex', 'age', 'married'])\n",
            "values: dict_values(['John Doe', 'Male', 32, True])\n",
            "itmes: dict_items([('name', 'John Doe'), ('sex', 'Male'), ('age', 32), ('married', True)])\n"
          ],
          "name": "stdout"
        }
      ]
    },
    {
      "cell_type": "code",
      "metadata": {
        "colab": {
          "base_uri": "https://localhost:8080/",
          "height": 198
        },
        "id": "WrGWxl6Lq-iZ",
        "outputId": "f2fb1e82-5664-4839-8ac6-7c947881e9ba"
      },
      "source": [
        "person1.items()[1]\n",
        "#The results of `keys`, `values`, and `items` look like lists. However, they don't support the indexing operator `[]` for retrieving elements. \n",
        "#Can you figure out how to access an element at a specific index from these results? Try it below. *Hint: Use the `list` function*"
      ],
      "execution_count": 68,
      "outputs": [
        {
          "output_type": "error",
          "ename": "TypeError",
          "evalue": "ignored",
          "traceback": [
            "\u001b[0;31m---------------------------------------------------------------------------\u001b[0m",
            "\u001b[0;31mTypeError\u001b[0m                                 Traceback (most recent call last)",
            "\u001b[0;32m<ipython-input-68-3adc1f122a8d>\u001b[0m in \u001b[0;36m<module>\u001b[0;34m()\u001b[0m\n\u001b[0;32m----> 1\u001b[0;31m \u001b[0mperson1\u001b[0m\u001b[0;34m.\u001b[0m\u001b[0mitems\u001b[0m\u001b[0;34m(\u001b[0m\u001b[0;34m)\u001b[0m\u001b[0;34m[\u001b[0m\u001b[0;36m1\u001b[0m\u001b[0;34m]\u001b[0m\u001b[0;34m\u001b[0m\u001b[0;34m\u001b[0m\u001b[0m\n\u001b[0m\u001b[1;32m      2\u001b[0m \u001b[0;31m#The results of `keys`, `values`, and `items` look like lists. However, they don't support the indexing operator `[]` for retrieving elements.\u001b[0m\u001b[0;34m\u001b[0m\u001b[0;34m\u001b[0m\u001b[0;34m\u001b[0m\u001b[0m\n\u001b[1;32m      3\u001b[0m \u001b[0;31m#Can you figure out how to access an element at a specific index from these results? Try it below. *Hint: Use the `list` function*\u001b[0m\u001b[0;34m\u001b[0m\u001b[0;34m\u001b[0m\u001b[0;34m\u001b[0m\u001b[0m\n",
            "\u001b[0;31mTypeError\u001b[0m: 'dict_items' object is not subscriptable"
          ]
        }
      ]
    },
    {
      "cell_type": "markdown",
      "metadata": {
        "id": "KnQSMAXSrKlW"
      },
      "source": [
        "Questions to solve:\n",
        "\n",
        "* What happens if you use the same key multiple times while creating a dictionary?\n",
        "* How can you create a copy of a dictionary (modifying the copy should not change the original)?\n",
        "* Can the value associated with a key itself be a dictionary?\n",
        "* How can you add the key-value pairs from one dictionary into another dictionary? Hint: See the `update` method.\n",
        "* Can the dictionary's keys be something other than a string, e.g., a number, boolean, list, etc.?"
      ]
    },
    {
      "cell_type": "code",
      "metadata": {
        "colab": {
          "base_uri": "https://localhost:8080/"
        },
        "id": "uf4UUvsDrbTt",
        "outputId": "bb6b0d49-380f-409c-d001-a756984d1709"
      },
      "source": [
        "dictionary = {\"key_1\": \"value_1\", \"key_1\": \"value_2\", \"key_2\": \"value_2\"}\n",
        "print(dictionary) \n",
        "\n",
        "#No, each key in a dictionary should be unique. You can't have two keys with the same value. \n",
        "#Attempting to use the same key again will just overwrite the previous value stored. If a key needs to store multiple values, \n",
        "#then the value associated with the key should be a list or another dictionary"
      ],
      "execution_count": 69,
      "outputs": [
        {
          "output_type": "stream",
          "text": [
            "{'key_1': 'value_2', 'key_2': 'value_2'}\n"
          ],
          "name": "stdout"
        }
      ]
    },
    {
      "cell_type": "code",
      "metadata": {
        "colab": {
          "base_uri": "https://localhost:8080/"
        },
        "id": "noz2t2Y8rbWo",
        "outputId": "6e22c3fc-a4b7-4813-99d3-a1db90af14fc"
      },
      "source": [
        "# Python program to demonstrate working\n",
        "# of dictionary copy\n",
        "original = {1:'geeks', 2:'for'}\n",
        "  \n",
        "# copying using copy() function\n",
        "new = original.copy()\n",
        "# removing all elements from the list\n",
        "# Only new list becomes empty as copy()\n",
        "# does shallow copy.\n",
        "new.clear()\n",
        "print('new: ', new)\n",
        "print('original: ', original)"
      ],
      "execution_count": 74,
      "outputs": [
        {
          "output_type": "stream",
          "text": [
            "new:  {}\n",
            "original:  {1: 'geeks', 2: 'for'}\n"
          ],
          "name": "stdout"
        }
      ]
    },
    {
      "cell_type": "code",
      "metadata": {
        "colab": {
          "base_uri": "https://localhost:8080/"
        },
        "id": "ncKF-W_qCOcA",
        "outputId": "bf5e279e-ee99-4d1c-9e76-76351a88e595"
      },
      "source": [
        "# Python program to demonstrate difference\n",
        "# between = and copy()\n",
        "original = {1:'geeks', 2:'for'}\n",
        "  \n",
        "# copying using copy() function\n",
        "new = original.copy()\n",
        "  \n",
        "# removing all elements from new list\n",
        "# and printing both\n",
        "new.clear()\n",
        "print('new: ', new)\n",
        "print('original: ', original)\n",
        "  \n",
        "original = {1:'one', 2:'two'}\n",
        "  \n",
        "# copying using =\n",
        "new = original\n",
        "  \n",
        "# removing all elements from new list\n",
        "# and printing both\n",
        "new.clear()\n",
        "print('new: ', new)\n",
        "print('original: ', original)"
      ],
      "execution_count": 75,
      "outputs": [
        {
          "output_type": "stream",
          "text": [
            "new:  {}\n",
            "original:  {1: 'geeks', 2: 'for'}\n",
            "new:  {}\n",
            "original:  {}\n"
          ],
          "name": "stdout"
        }
      ]
    },
    {
      "cell_type": "code",
      "metadata": {
        "colab": {
          "base_uri": "https://localhost:8080/"
        },
        "id": "hVM2ew7prbZV",
        "outputId": "f9a44f0d-85af-4ba4-f468-285be97ccbc2"
      },
      "source": [
        "# Creating a Nested Dictionary\n",
        "# as shown in the below image\n",
        "Dict = {1: 'Geeks', 2: 'For',\n",
        "        3:{'A' : 'Welcome', 'B' : 'To', 'C' : 'Geeks'}}\n",
        " \n",
        "print(Dict)"
      ],
      "execution_count": 70,
      "outputs": [
        {
          "output_type": "stream",
          "text": [
            "{1: 'Geeks', 2: 'For', 3: {'A': 'Welcome', 'B': 'To', 'C': 'Geeks'}}\n"
          ],
          "name": "stdout"
        }
      ]
    },
    {
      "cell_type": "code",
      "metadata": {
        "colab": {
          "base_uri": "https://localhost:8080/"
        },
        "id": "H8jsFYqTrbcG",
        "outputId": "f1986963-917c-4d49-cbc2-f4814454aed7"
      },
      "source": [
        "# Creating an empty Dictionary\n",
        "Dict = {}\n",
        "print(\"Empty Dictionary: \")\n",
        "print(Dict)\n",
        "\n",
        "# Adding elements one at a time\n",
        "Dict[0] = 'Geeks'\n",
        "Dict[2] = 'For'\n",
        "Dict[3] = 1\n",
        "print(\"\\nDictionary after adding 3 elements: \")\n",
        "print(Dict)\n",
        "\n",
        "# Adding set of values\n",
        "# to a single Key\n",
        "Dict['Value_set'] = 2, 3, 4\n",
        "print(\"\\nDictionary after adding 3 elements: \")\n",
        "print(Dict)\n",
        "\n",
        "# Updating existing Key's Value\n",
        "Dict[2] = 'Welcome'\n",
        "print(\"\\nUpdated key value: \")\n",
        "print(Dict)\n",
        "\n",
        "# Adding Nested Key value to Dictionary\n",
        "Dict[5] = {'Nested' :{'1' : 'Life', '2' : 'Geeks'}}\n",
        "print(\"\\nAdding a Nested Key: \")\n",
        "print(Dict)\n"
      ],
      "execution_count": 71,
      "outputs": [
        {
          "output_type": "stream",
          "text": [
            "Empty Dictionary: \n",
            "{}\n",
            "\n",
            "Dictionary after adding 3 elements: \n",
            "{0: 'Geeks', 2: 'For', 3: 1}\n",
            "\n",
            "Dictionary after adding 3 elements: \n",
            "{0: 'Geeks', 2: 'For', 3: 1, 'Value_set': (2, 3, 4)}\n",
            "\n",
            "Updated key value: \n",
            "{0: 'Geeks', 2: 'Welcome', 3: 1, 'Value_set': (2, 3, 4)}\n",
            "\n",
            "Adding a Nested Key: \n",
            "{0: 'Geeks', 2: 'Welcome', 3: 1, 'Value_set': (2, 3, 4), 5: {'Nested': {'1': 'Life', '2': 'Geeks'}}}\n"
          ],
          "name": "stdout"
        }
      ]
    },
    {
      "cell_type": "code",
      "metadata": {
        "colab": {
          "base_uri": "https://localhost:8080/"
        },
        "id": "PN39QSkerKDt",
        "outputId": "24fe2f97-4ebe-484b-8419-e075b391f932"
      },
      "source": [
        "# Python program to show working\n",
        "# of update() method in Dictionary\n",
        "  \n",
        "# Dictionary with three items \n",
        "Dictionary1 = { 'A': 'Geeks', 'B': 'For', }\n",
        "Dictionary2 = { 'B': 'Geeks' }\n",
        "  \n",
        "# Dictionary before Updation\n",
        "print(\"Original Dictionary:\")\n",
        "print(Dictionary1)\n",
        "  \n",
        "# update the value of key 'B'\n",
        "Dictionary1.update(Dictionary2)\n",
        "print(\"Dictionary after updation:\")\n",
        "print(Dictionary1)\n",
        "\n",
        "\n",
        "print('-'*100)\n",
        "\n",
        "# Python program to show working\n",
        "# of update() method in Dictionary\n",
        "  \n",
        "# Dictionary with single item \n",
        "Dictionary1 = { 'A': 'Geeks'}\n",
        "  \n",
        "# Dictionary before Updation\n",
        "print(\"Original Dictionary:\")\n",
        "print(Dictionary1)\n",
        "  \n",
        "# update the Dictionary with iterable\n",
        "Dictionary1.update(B = 'For', C = 'Geeks')\n",
        "print(\"Dictionary after updation:\")\n",
        "print(Dictionary1)"
      ],
      "execution_count": 72,
      "outputs": [
        {
          "output_type": "stream",
          "text": [
            "Original Dictionary:\n",
            "{'A': 'Geeks', 'B': 'For'}\n",
            "Dictionary after updation:\n",
            "{'A': 'Geeks', 'B': 'Geeks'}\n",
            "----------------------------------------------------------------------------------------------------\n",
            "Original Dictionary:\n",
            "{'A': 'Geeks'}\n",
            "Dictionary after updation:\n",
            "{'A': 'Geeks', 'B': 'For', 'C': 'Geeks'}\n"
          ],
          "name": "stdout"
        }
      ]
    }
  ]
}
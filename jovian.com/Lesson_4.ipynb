{
  "nbformat": 4,
  "nbformat_minor": 0,
  "metadata": {
    "colab": {
      "name": "Lesson-4.ipynb",
      "provenance": [],
      "collapsed_sections": []
    },
    "kernelspec": {
      "name": "python3",
      "display_name": "Python 3"
    },
    "language_info": {
      "name": "python"
    }
  },
  "cells": [
    {
      "cell_type": "markdown",
      "metadata": {
        "id": "2Lh2iWpCoE8F"
      },
      "source": [
        "# Writing Reusable Code using Functions in Python\n",
        "\n",
        "![](https://i.imgur.com/TvNf5Jp.png)\n",
        "\n"
      ]
    },
    {
      "cell_type": "markdown",
      "metadata": {
        "id": "N-uGbOKIth7_"
      },
      "source": [
        "## Creating and using functions\n",
        "\n",
        "A function is a reusable set of instructions that takes one or more inputs, performs some operations, and often returns an output. Python contains many in-built functions like `print`, `len`, etc., and provides the ability to define new ones."
      ]
    },
    {
      "cell_type": "code",
      "metadata": {
        "colab": {
          "base_uri": "https://localhost:8080/"
        },
        "id": "imCfIerJtjDM",
        "outputId": "bf9e51a1-9a08-4f35-c79e-0243069e8561"
      },
      "source": [
        "#Method-1\n",
        "today = \"Saturday\"\n",
        "print(\"Today is\", today)\n",
        "\n",
        "\n",
        "print('-'*50)\n",
        "#Method-2\n",
        "#You can define a new function using the def keyword.\n",
        "def say_hello():\n",
        "    print('Hello there!')\n",
        "    print('How are you?')\n",
        "\n",
        "say_hello()\n",
        "\n",
        "#Note: the round brackets or parentheses `()` and colon `:` after the function's name. \n",
        "#Both are essential parts of the syntax. The function's *body* contains an indented block of statements. \n",
        "#The statements inside a function's body are not executed when the function is defined.\n",
        "# To execute the statements, we need to *call* or *invoke* the function."
      ],
      "execution_count": 1,
      "outputs": [
        {
          "output_type": "stream",
          "text": [
            "Today is Saturday\n",
            "--------------------------------------------------\n",
            "Hello there!\n",
            "How are you?\n"
          ],
          "name": "stdout"
        }
      ]
    },
    {
      "cell_type": "markdown",
      "metadata": {
        "id": "noIOzoLtuAv6"
      },
      "source": [
        "# Function arguments\n",
        "\n",
        "Functions can accept zero or more values as *inputs* (also knows as *arguments* or *parameters*). Arguments help us write flexible functions that can perform the same operations on different values. Further, functions can return a result that can be stored in a variable or used in other expressions.\n",
        "\n",
        "Here's a function that filters out the even numbers from a list and returns a new list using the `return` keyword."
      ]
    },
    {
      "cell_type": "code",
      "metadata": {
        "colab": {
          "base_uri": "https://localhost:8080/"
        },
        "id": "8jQveyGWuChg",
        "outputId": "b95244f4-2a49-43d9-c212-59c7931490ab"
      },
      "source": [
        "def filter_even(number_list):\n",
        "    result_list = []\n",
        "    for number in number_list:\n",
        "        if number % 2 == 0:\n",
        "            result_list.append(number)\n",
        "    return result_list\n",
        "\n",
        "\n",
        "even_list = filter_even([1, 2, 3, 4, 5, 6, 7])\n",
        "print(even_list)\n",
        "\n",
        "#Can you understand what the function does by looking at the code? If not, try executing each line of the function's body separately \n",
        "#within a code cell with an actual list of numbers in place of `number_list`."
      ],
      "execution_count": 2,
      "outputs": [
        {
          "output_type": "stream",
          "text": [
            "[2, 4, 6]\n"
          ],
          "name": "stdout"
        }
      ]
    },
    {
      "cell_type": "markdown",
      "metadata": {
        "id": "9B8JdaGPuT7b"
      },
      "source": [
        "# Writing great functions in Python\n",
        "\n",
        "As a programmer, you will spend most of your time writing and using functions. Python offers many features to make your functions powerful and flexible. Let's explore some of these by solving a problem:\n",
        "\n",
        "> Radha is planning to buy a house that costs `$1,260,000`. She considering two options to finance her purchase:\n",
        ">\n",
        "> * Option 1: Make an immediate down payment of `$300,000`, and take loan 8-year loan with an interest rate of 10% (compounded monthly) for the remaining amount.\n",
        "> * Option 2: Take a 10-year loan with an interest rate of 8% (compounded monthly) for the entire amount.\n",
        ">\n",
        "> Both these loans have to be paid back in equal monthly installments (EMIs). Which loan has a lower EMI among the two?\n",
        "\n",
        "\n",
        "Since we need to compare the EMIs for two loan options, defining a function to calculate the EMI for a loan would be a great idea.  The inputs to the function would be cost of the house, the down payment, duration of the loan, rate of interest etc. We'll build this function step by step.\n",
        "\n",
        "First, let's write a simple function that calculates the EMI on the entire cost of the house, assuming that the loan must be paid back in one year, and there is no interest or down payment."
      ]
    },
    {
      "cell_type": "code",
      "metadata": {
        "colab": {
          "base_uri": "https://localhost:8080/"
        },
        "id": "1l6DqdIWuRw1",
        "outputId": "2b26270a-9ea1-4afc-ddd7-51d9d5c04342"
      },
      "source": [
        "def loan_emi(amount):\n",
        "    emi = amount / 12\n",
        "    print('The EMI is ${}'.format(emi))\n",
        "\n",
        "loan_emi(1260000) #1.26e6"
      ],
      "execution_count": 3,
      "outputs": [
        {
          "output_type": "stream",
          "text": [
            "The EMI is $105000.0\n"
          ],
          "name": "stdout"
        }
      ]
    },
    {
      "cell_type": "markdown",
      "metadata": {
        "id": "zFcAWERXudsI"
      },
      "source": [
        "# Local variables and scope\n",
        "\n",
        "Let's add a second argument to account for the duration of the loan in months."
      ]
    },
    {
      "cell_type": "code",
      "metadata": {
        "colab": {
          "base_uri": "https://localhost:8080/"
        },
        "id": "qTHDnJLHu3TT",
        "outputId": "fe102cbd-2848-4cfc-d9fe-4108c3f8a0da"
      },
      "source": [
        "def loan_emi(amount, duration):\n",
        "    emi = amount / duration\n",
        "    print('The EMI for {} years is ${}'.format((duration//12),emi))\n",
        "\n",
        "#We can now compare a 6-year loan vs. a 10-year loan (assuming no down payment or interest).\n",
        "loan_emi(1260000, 6*12)\n",
        "loan_emi(1260000, 10*12)"
      ],
      "execution_count": 4,
      "outputs": [
        {
          "output_type": "stream",
          "text": [
            "The EMI for 6 years is $17500.0\n",
            "The EMI for 10 years is $10500.0\n"
          ],
          "name": "stdout"
        }
      ]
    },
    {
      "cell_type": "markdown",
      "metadata": {
        "id": "EddU8_GBvyFH"
      },
      "source": [
        "Note that the variable `emi` defined inside the function is not accessible outside. The same is true for the parameters `amount` and `duration`. These are all *local variables* that lie within the *scope* of the function.\n",
        "\n",
        "> **Scope**: Scope refers to the region within the code where a particular variable is visible. Every function (or class definition) defines a scope within Python. Variables defined in this scope are called *local variables*. Variables that are available everywhere are called *global variables*. Scope rules allow you to use the same variable names in different functions without sharing values from one to the other. "
      ]
    },
    {
      "cell_type": "code",
      "metadata": {
        "colab": {
          "base_uri": "https://localhost:8080/",
          "height": 198
        },
        "id": "XWmT49H0u8sC",
        "outputId": "0042b90b-ec40-4eaa-d7e2-8ea73e75fd83"
      },
      "source": [
        "emi \n",
        "#or amount or duration  \n",
        "#because these are local variables within the function."
      ],
      "execution_count": 5,
      "outputs": [
        {
          "output_type": "error",
          "ename": "NameError",
          "evalue": "ignored",
          "traceback": [
            "\u001b[0;31m---------------------------------------------------------------------------\u001b[0m",
            "\u001b[0;31mNameError\u001b[0m                                 Traceback (most recent call last)",
            "\u001b[0;32m<ipython-input-5-a9e3c56125b6>\u001b[0m in \u001b[0;36m<module>\u001b[0;34m()\u001b[0m\n\u001b[0;32m----> 1\u001b[0;31m \u001b[0memi\u001b[0m\u001b[0;34m\u001b[0m\u001b[0;34m\u001b[0m\u001b[0m\n\u001b[0m\u001b[1;32m      2\u001b[0m \u001b[0;31m#or amount or duration\u001b[0m\u001b[0;34m\u001b[0m\u001b[0;34m\u001b[0m\u001b[0;34m\u001b[0m\u001b[0m\n\u001b[1;32m      3\u001b[0m \u001b[0;31m#because these are local variables within the function.\u001b[0m\u001b[0;34m\u001b[0m\u001b[0;34m\u001b[0m\u001b[0;34m\u001b[0m\u001b[0m\n",
            "\u001b[0;31mNameError\u001b[0m: name 'emi' is not defined"
          ]
        }
      ]
    },
    {
      "cell_type": "markdown",
      "metadata": {
        "id": "i53-5MbOv33a"
      },
      "source": [
        "# Return values\n",
        "\n",
        "As you might expect, the EMI for the 6-year loan is higher compared to the 10-year loan. Right now, we're printing out the result. It would be better to return it and store the results in variables for easier comparison. We can do this using the `return` statement"
      ]
    },
    {
      "cell_type": "code",
      "metadata": {
        "colab": {
          "base_uri": "https://localhost:8080/"
        },
        "id": "Ch4aSc8fv5nO",
        "outputId": "bb64b1b5-e70f-44a1-c5b0-a8333369bf1b"
      },
      "source": [
        "def loan_emi(amount, duration):\n",
        "    emi = amount / duration\n",
        "    return emi\n",
        "\n",
        "emi1 = loan_emi(1260000, 8*12)\n",
        "emi2 = loan_emi(1260000, 10*12)  \n",
        "\n",
        "print(\"The EMI for 8 years is $\",emi1)\n",
        "print(\"The EMI for 10 years is $\",emi2)"
      ],
      "execution_count": 6,
      "outputs": [
        {
          "output_type": "stream",
          "text": [
            "The EMI for 8 years is $ 13125.0\n",
            "The EMI for 10 years is $ 10500.0\n"
          ],
          "name": "stdout"
        }
      ]
    },
    {
      "cell_type": "markdown",
      "metadata": {
        "id": "yXexvh8f7Q4F"
      },
      "source": [
        "# Optional arguments\n",
        "\n",
        "Next, let's add another argument to account for the immediate down payment. We'll make this an *optional argument* with a default value of 0."
      ]
    },
    {
      "cell_type": "code",
      "metadata": {
        "colab": {
          "base_uri": "https://localhost:8080/"
        },
        "id": "yrHHrKNgv5qK",
        "outputId": "ffb5c91c-9f32-458d-83c6-ba53d5f16217"
      },
      "source": [
        "def loan_emi(amount, duration, down_payment=0):\n",
        "    loan_amount = amount - down_payment\n",
        "    emi = loan_amount / duration\n",
        "    return emi\n",
        "\n",
        "emi1 = loan_emi(1260000, 8*12, 3e5)  \n",
        "\n",
        "print(\"The EMI for 8 years is $\",emi1)\n",
        "\n",
        "emi2 = loan_emi(1260000, 10*12)\n",
        "\n",
        "print(\"The EMI for 10 years is $\",emi2)"
      ],
      "execution_count": 7,
      "outputs": [
        {
          "output_type": "stream",
          "text": [
            "The EMI for 8 years is $ 10000.0\n",
            "The EMI for 10 years is $ 10500.0\n"
          ],
          "name": "stdout"
        }
      ]
    },
    {
      "cell_type": "markdown",
      "metadata": {
        "id": "qJxcFRjn8Rgk"
      },
      "source": [
        "Next, let's add the interest calculation into the function. Here's the formula used to calculate the EMI for a loan:\n",
        "\n",
        "<img src=\"https://i.imgur.com/iKujHGK.png\" style=\"width:240px\">\n",
        "\n",
        "where:\n",
        "\n",
        "* `P` is the loan amount (principal)\n",
        "* `n` is the no. of months\n",
        "* `r` is the rate of interest per month\n",
        "\n",
        "The derivation of this formula is beyond the scope of this tutorial. See this video for an explanation: https://youtu.be/Coxza9ugW4E ."
      ]
    },
    {
      "cell_type": "code",
      "metadata": {
        "colab": {
          "base_uri": "https://localhost:8080/"
        },
        "id": "VjYWFUYJ8YjF",
        "outputId": "9ef680b7-9818-41b9-bea9-a42de2eaf695"
      },
      "source": [
        "def loan_emi(amount, duration, rate, down_payment=0):\n",
        "    loan_amount = amount - down_payment\n",
        "    emi = loan_amount * rate * ((1+rate)**duration) / (((1+rate)**duration)-1)\n",
        "    return emi\n",
        "\n",
        "\n",
        "#Note: while defining the function, required arguments like `cost`, `duration` and `rate` must appear before optional arguments like `down_payment`.\n",
        "\n",
        "#Let's calculate the EMI for Option 1   \n",
        "emi1 = loan_emi(1260000, 8*12, 0.1/12, 3e5)\n",
        "print(\"The EMI for 8 years is $\",emi1)\n",
        "#While calculating the EMI for Option 2, we need not include the down_payment argument.\n",
        "emi2 = loan_emi(1260000, 10*12, 0.08/12)\n",
        "print(\"The EMI for 10 years is $\",emi2)"
      ],
      "execution_count": 8,
      "outputs": [
        {
          "output_type": "stream",
          "text": [
            "The EMI for 8 years is $ 14567.19753389219\n",
            "The EMI for 10 years is $ 15287.276888775077\n"
          ],
          "name": "stdout"
        }
      ]
    },
    {
      "cell_type": "markdown",
      "metadata": {
        "id": "V60PJWIT9LAw"
      },
      "source": [
        "# Named arguments\n",
        "\n",
        "Invoking a function with many arguments can often get confusing and is prone to human errors. Python provides the option of invoking functions with *named* arguments for better clarity. You can also split function invocation into multiple lines."
      ]
    },
    {
      "cell_type": "code",
      "metadata": {
        "colab": {
          "base_uri": "https://localhost:8080/"
        },
        "id": "tdarui8l9Mpv",
        "outputId": "809e2729-d78c-4e83-e666-54c72d0fb760"
      },
      "source": [
        "emi1 = loan_emi(amount=1260000, duration=8*12, rate=0.1/12, down_payment=3e5)\n",
        "print(\"The EMI for 8 years is $\",emi1)\n",
        "\n",
        "\n",
        "emi2 = loan_emi(amount=1260000, duration=10*12, rate=0.08/12)\n",
        "print(\"The EMI for 10 years is $\",emi2)"
      ],
      "execution_count": 9,
      "outputs": [
        {
          "output_type": "stream",
          "text": [
            "The EMI for 8 years is $ 14567.19753389219\n",
            "The EMI for 10 years is $ 15287.276888775077\n"
          ],
          "name": "stdout"
        }
      ]
    },
    {
      "cell_type": "code",
      "metadata": {
        "colab": {
          "base_uri": "https://localhost:8080/"
        },
        "id": "Dcdd_fAc6V3T",
        "outputId": "4140694f-8d89-4de7-e33e-659bd0d6ce31"
      },
      "source": [
        "#Call function from another function\n",
        "def round_up(x):\n",
        "    return (round(x))\n",
        "def loan_emi(amount, duration, rate, down_payment=0):\n",
        "    loan_amount = amount - down_payment\n",
        "    emi = loan_amount * rate * ((1+rate)**duration) / (((1+rate)**duration)-1)\n",
        "    emi = round_up(emi)\n",
        "    return emi\n",
        "\n",
        "emi1 = loan_emi(amount=1260000, duration=10*12, rate=0.08/12, down_payment=0) \n",
        "print(\"The EMI for 10 years is $\",emi1)"
      ],
      "execution_count": 10,
      "outputs": [
        {
          "output_type": "stream",
          "text": [
            "The EMI for 10 years is $ 15287\n"
          ],
          "name": "stdout"
        }
      ]
    },
    {
      "cell_type": "markdown",
      "metadata": {
        "id": "3r2Qf5wk90fq"
      },
      "source": [
        "# Modules and library functions\n",
        "\n",
        "We can already see that the EMI for Option 1 is lower than the EMI for Option 2. However, it would be nice to round up the amount to full dollars, rather than showing digits after the decimal. To achieve this, we might want to write a function that can take a number and round it up to the next integer (e.g., 1.2 is rounded up to 2). That would be a great exercise to try out!\n",
        "\n",
        "However, since rounding numbers is a fairly common operation, Python provides a function for it (along with thousands of other functions) as part of the [Python Standard Library](https://docs.python.org/3/library/). Functions are organized into *modules* that need to be imported to use the functions they contain. \n",
        "\n",
        "> **Modules**: Modules are files containing Python code (variables, functions, classes, etc.). They provide a way of organizing the code for large Python projects into files and folders. The key benefit of using modules is _namespaces_: you must import the module to use its functions within a Python script or notebook. Namespaces provide encapsulation and avoid naming conflicts between your code and a module or across modules.\n",
        "\n",
        "We can use the `ceil` function (short for *ceiling*) from the `math` module to round up numbers. Let's import the module and use it to round up the number `1.2`. "
      ]
    },
    {
      "cell_type": "code",
      "metadata": {
        "id": "SKDhjkKP94dc"
      },
      "source": [
        "import math"
      ],
      "execution_count": 11,
      "outputs": []
    },
    {
      "cell_type": "code",
      "metadata": {
        "colab": {
          "base_uri": "https://localhost:8080/"
        },
        "id": "wz64NAhz-u82",
        "outputId": "38bfb947-0a54-494d-ab6e-4df468843304"
      },
      "source": [
        "help(math.ceil)"
      ],
      "execution_count": 12,
      "outputs": [
        {
          "output_type": "stream",
          "text": [
            "Help on built-in function ceil in module math:\n",
            "\n",
            "ceil(x, /)\n",
            "    Return the ceiling of x as an Integral.\n",
            "    \n",
            "    This is the smallest integer >= x.\n",
            "\n"
          ],
          "name": "stdout"
        }
      ]
    },
    {
      "cell_type": "code",
      "metadata": {
        "colab": {
          "base_uri": "https://localhost:8080/"
        },
        "id": "r-D-sOdWADou",
        "outputId": "3374c628-a31d-4d22-9dd8-ab7dddcae35f"
      },
      "source": [
        "help(math.floor)"
      ],
      "execution_count": 13,
      "outputs": [
        {
          "output_type": "stream",
          "text": [
            "Help on built-in function floor in module math:\n",
            "\n",
            "floor(x, /)\n",
            "    Return the floor of x as an Integral.\n",
            "    \n",
            "    This is the largest integer <= x.\n",
            "\n"
          ],
          "name": "stdout"
        }
      ]
    },
    {
      "cell_type": "code",
      "metadata": {
        "colab": {
          "base_uri": "https://localhost:8080/"
        },
        "id": "gC7XmzEP-ylj",
        "outputId": "abd33767-c1bd-476a-f753-ce6542e5d81f"
      },
      "source": [
        "print(math.ceil(1.2))\n",
        "\n",
        "print(math.floor(1.2))"
      ],
      "execution_count": 14,
      "outputs": [
        {
          "output_type": "stream",
          "text": [
            "2\n",
            "1\n"
          ],
          "name": "stdout"
        }
      ]
    },
    {
      "cell_type": "markdown",
      "metadata": {
        "id": "bsI-Zwnp_QFm"
      },
      "source": [
        "Let's now use the `math.ceil` function within the `home_loan_emi` function to round up the EMI amount. \n",
        "\n",
        "> Using functions to build other functions is a great way to reuse code and implement complex business logic while still keeping the code small, understandable, and manageable. Ideally, a function should do one thing and one thing only. If you find yourself writing a function that does too many things, consider splitting it into multiple smaller, independent functions. As a rule of thumb, try to limit your functions to 10 lines of code or less. Good programmers always write short, simple, and readable functions.\n"
      ]
    },
    {
      "cell_type": "code",
      "metadata": {
        "colab": {
          "base_uri": "https://localhost:8080/"
        },
        "id": "hvCFWP_O_RJH",
        "outputId": "3288a266-c002-4448-fd2d-92888f4bd7b3"
      },
      "source": [
        "def loan_emi(amount, duration, rate, down_payment=0):\n",
        "    loan_amount = amount - down_payment\n",
        "    emi = loan_amount * rate * ((1+rate)**duration) / (((1+rate)**duration)-1)\n",
        "    emi = math.ceil(emi)\n",
        "    return emi\n",
        "\n",
        "emi1 = loan_emi(amount=1260000, duration=8*12, rate=0.1/12, down_payment=3e5) \n",
        "print(\"The EMI for 8 years is $\",emi1)\n",
        "\n",
        "emi2 = loan_emi(amount=1260000, duration=10*12, rate=0.08/12)\n",
        "print(\"The EMI for 10 years is $\",emi2)\n",
        "\n",
        "print(\"-\"*50)\n",
        "#Let's compare the EMIs and display a message for the option with the lower EMI.\n",
        "\n",
        "if emi1 < emi2:\n",
        "    print(\"Option 1 has the lower EMI: ${}\".format(emi1))\n",
        "else:\n",
        "    print(\"Option 2 has the lower EMI: ${}\".format(emi2))"
      ],
      "execution_count": 15,
      "outputs": [
        {
          "output_type": "stream",
          "text": [
            "The EMI for 8 years is $ 14568\n",
            "The EMI for 10 years is $ 15288\n",
            "--------------------------------------------------\n",
            "Option 1 has the lower EMI: $14568\n"
          ],
          "name": "stdout"
        }
      ]
    },
    {
      "cell_type": "markdown",
      "metadata": {
        "id": "EPTCc19uBgbZ"
      },
      "source": [
        "# Reusing and improving functions \n",
        "\n",
        "Now we know for sure that \"Option 1\" has the lower EMI among the two options. But what's even better is that we now have a handy function `loan_emi` that we can use to solve many other similar problems with just a few lines of code. Let's try it with a couple more questions."
      ]
    },
    {
      "cell_type": "markdown",
      "metadata": {
        "id": "8I34jiC48MZD"
      },
      "source": [
        "> **Q**: Shaun is currently paying back a home loan for a house he bought a few years ago. The cost of the house was `$800,000`. Shaun made a down payment of `25%` of the price. He financed the remaining amount using a 6-year loan with an interest rate of `7%` per annum (compounded monthly). Shaun is now buying a car worth `$60,000`, which he is planning to finance using a 1-year loan with an interest rate of `12%` per annum. Both loans are paid back in EMIs. What is the total monthly payment Shaun makes towards loan repayment?\n",
        "\n",
        "This question is now straightforward to solve, using the `loan_emi` function we've already defined."
      ]
    },
    {
      "cell_type": "code",
      "metadata": {
        "colab": {
          "base_uri": "https://localhost:8080/"
        },
        "id": "-bTohvUb_RNI",
        "outputId": "44de15d2-8692-4d0d-e4d1-2e63222c461d"
      },
      "source": [
        "def loan_emi(amount, duration, rate, down_payment=0):\n",
        "    loan_amount = amount - down_payment\n",
        "    emi = loan_amount * rate * ((1+rate)**duration) / (((1+rate)**duration)-1)\n",
        "    emi = math.ceil(emi)\n",
        "    return emi\n",
        "\n",
        "    \n",
        "cost_of_house = 800000\n",
        "home_loan_duration = 6*12 # months\n",
        "home_loan_rate = 0.07/12 # monthly\n",
        "home_down_payment = .25 * 800000\n",
        "\n",
        "emi_house = loan_emi(amount=cost_of_house,duration=home_loan_duration,rate=home_loan_rate, down_payment=home_down_payment)\n",
        "print(\"House EMI:\",emi_house)\n",
        "\n",
        "\n",
        "cost_of_car = 60000\n",
        "car_loan_duration = 1*12 # months\n",
        "car_loan_rate = .12/12 # monthly\n",
        "\n",
        "emi_car = loan_emi(amount=cost_of_car, duration=car_loan_duration, rate=car_loan_rate)\n",
        "\n",
        "print(\"Car EMI:\",emi_car)\n",
        "\n",
        "print(\"Shaun makes a total monthly payment of ${} towards loan repayments.\".format(emi_house+emi_car))"
      ],
      "execution_count": 16,
      "outputs": [
        {
          "output_type": "stream",
          "text": [
            "House EMI: 10230\n",
            "Car EMI: 5331\n",
            "Shaun makes a total monthly payment of $15561 towards loan repayments.\n"
          ],
          "name": "stdout"
        }
      ]
    },
    {
      "cell_type": "markdown",
      "metadata": {
        "id": "IgsjbQdVCL6u"
      },
      "source": [
        "# Exceptions and `try`-`except`\n",
        "\n",
        "> Q: If you borrow `$100,000` using a 10-year loan with an interest rate of 9% per annum, what is the total amount you end up paying as interest?\n",
        "\n",
        "One way to solve this problem is to compare the EMIs for two loans: one with the given rate of interest and another with a 0% rate of interest. The total interest paid is then simply the sum of monthly differences over the duration of the loan."
      ]
    },
    {
      "cell_type": "code",
      "metadata": {
        "colab": {
          "base_uri": "https://localhost:8080/"
        },
        "id": "WG81w91bCN2T",
        "outputId": "8becaf4f-93c7-46f9-f840-daefdc8dc355"
      },
      "source": [
        "emi_with_interest = loan_emi(amount=100000, duration=10*12, rate=0.09/12)\n",
        "emi_with_interest"
      ],
      "execution_count": 17,
      "outputs": [
        {
          "output_type": "execute_result",
          "data": {
            "text/plain": [
              "1267"
            ]
          },
          "metadata": {
            "tags": []
          },
          "execution_count": 17
        }
      ]
    },
    {
      "cell_type": "code",
      "metadata": {
        "colab": {
          "base_uri": "https://localhost:8080/",
          "height": 300
        },
        "id": "KTsvhicOCN5e",
        "outputId": "0f8434a0-1ba2-443c-c610-4786ff69b37e"
      },
      "source": [
        "emi_without_interest = loan_emi(amount=100000, duration=10*12, rate=0./12)\n",
        "emi_without_interest"
      ],
      "execution_count": 18,
      "outputs": [
        {
          "output_type": "error",
          "ename": "ZeroDivisionError",
          "evalue": "ignored",
          "traceback": [
            "\u001b[0;31m---------------------------------------------------------------------------\u001b[0m",
            "\u001b[0;31mZeroDivisionError\u001b[0m                         Traceback (most recent call last)",
            "\u001b[0;32m<ipython-input-18-b684ffbee02d>\u001b[0m in \u001b[0;36m<module>\u001b[0;34m()\u001b[0m\n\u001b[0;32m----> 1\u001b[0;31m \u001b[0memi_without_interest\u001b[0m \u001b[0;34m=\u001b[0m \u001b[0mloan_emi\u001b[0m\u001b[0;34m(\u001b[0m\u001b[0mamount\u001b[0m\u001b[0;34m=\u001b[0m\u001b[0;36m100000\u001b[0m\u001b[0;34m,\u001b[0m \u001b[0mduration\u001b[0m\u001b[0;34m=\u001b[0m\u001b[0;36m10\u001b[0m\u001b[0;34m*\u001b[0m\u001b[0;36m12\u001b[0m\u001b[0;34m,\u001b[0m \u001b[0mrate\u001b[0m\u001b[0;34m=\u001b[0m\u001b[0;36m0.\u001b[0m\u001b[0;34m/\u001b[0m\u001b[0;36m12\u001b[0m\u001b[0;34m)\u001b[0m\u001b[0;34m\u001b[0m\u001b[0;34m\u001b[0m\u001b[0m\n\u001b[0m\u001b[1;32m      2\u001b[0m \u001b[0memi_without_interest\u001b[0m\u001b[0;34m\u001b[0m\u001b[0;34m\u001b[0m\u001b[0m\n",
            "\u001b[0;32m<ipython-input-16-ad5d6cf93088>\u001b[0m in \u001b[0;36mloan_emi\u001b[0;34m(amount, duration, rate, down_payment)\u001b[0m\n\u001b[1;32m      1\u001b[0m \u001b[0;32mdef\u001b[0m \u001b[0mloan_emi\u001b[0m\u001b[0;34m(\u001b[0m\u001b[0mamount\u001b[0m\u001b[0;34m,\u001b[0m \u001b[0mduration\u001b[0m\u001b[0;34m,\u001b[0m \u001b[0mrate\u001b[0m\u001b[0;34m,\u001b[0m \u001b[0mdown_payment\u001b[0m\u001b[0;34m=\u001b[0m\u001b[0;36m0\u001b[0m\u001b[0;34m)\u001b[0m\u001b[0;34m:\u001b[0m\u001b[0;34m\u001b[0m\u001b[0;34m\u001b[0m\u001b[0m\n\u001b[1;32m      2\u001b[0m     \u001b[0mloan_amount\u001b[0m \u001b[0;34m=\u001b[0m \u001b[0mamount\u001b[0m \u001b[0;34m-\u001b[0m \u001b[0mdown_payment\u001b[0m\u001b[0;34m\u001b[0m\u001b[0;34m\u001b[0m\u001b[0m\n\u001b[0;32m----> 3\u001b[0;31m     \u001b[0memi\u001b[0m \u001b[0;34m=\u001b[0m \u001b[0mloan_amount\u001b[0m \u001b[0;34m*\u001b[0m \u001b[0mrate\u001b[0m \u001b[0;34m*\u001b[0m \u001b[0;34m(\u001b[0m\u001b[0;34m(\u001b[0m\u001b[0;36m1\u001b[0m\u001b[0;34m+\u001b[0m\u001b[0mrate\u001b[0m\u001b[0;34m)\u001b[0m\u001b[0;34m**\u001b[0m\u001b[0mduration\u001b[0m\u001b[0;34m)\u001b[0m \u001b[0;34m/\u001b[0m \u001b[0;34m(\u001b[0m\u001b[0;34m(\u001b[0m\u001b[0;34m(\u001b[0m\u001b[0;36m1\u001b[0m\u001b[0;34m+\u001b[0m\u001b[0mrate\u001b[0m\u001b[0;34m)\u001b[0m\u001b[0;34m**\u001b[0m\u001b[0mduration\u001b[0m\u001b[0;34m)\u001b[0m\u001b[0;34m-\u001b[0m\u001b[0;36m1\u001b[0m\u001b[0;34m)\u001b[0m\u001b[0;34m\u001b[0m\u001b[0;34m\u001b[0m\u001b[0m\n\u001b[0m\u001b[1;32m      4\u001b[0m     \u001b[0memi\u001b[0m \u001b[0;34m=\u001b[0m \u001b[0mmath\u001b[0m\u001b[0;34m.\u001b[0m\u001b[0mceil\u001b[0m\u001b[0;34m(\u001b[0m\u001b[0memi\u001b[0m\u001b[0;34m)\u001b[0m\u001b[0;34m\u001b[0m\u001b[0;34m\u001b[0m\u001b[0m\n\u001b[1;32m      5\u001b[0m     \u001b[0;32mreturn\u001b[0m \u001b[0memi\u001b[0m\u001b[0;34m\u001b[0m\u001b[0;34m\u001b[0m\u001b[0m\n",
            "\u001b[0;31mZeroDivisionError\u001b[0m: float division by zero"
          ]
        }
      ]
    },
    {
      "cell_type": "markdown",
      "metadata": {
        "id": "TFiRU1vfCuMu"
      },
      "source": [
        "Something seems to have gone wrong! If you look at the error message above carefully, Python tells us precisely what is wrong. Python *throws* a `ZeroDivisionError` with a message indicating that we're trying to divide a number by zero. `ZeroDivisonError` is an *exception* that stops further execution of the program.\n",
        "\n",
        "> **Exception**: Even if a statement or expression is syntactically correct, it may cause an error when the Python interpreter tries to execute it. Errors detected during execution are called exceptions. Exceptions typically stop further execution of the program unless handled within the program using `try`-`except` statements.\n",
        "\n",
        "Python provides many built-in exceptions *thrown* when built-in operators, functions, or methods are used incorrectly: https://docs.python.org/3/library/exceptions.html#built-in-exceptions. You can also define your custom exception by extending the `Exception` class (more on that later).\n",
        "\n",
        "You can use the `try` and `except` statements to *handle* an exception. Here's an example:"
      ]
    },
    {
      "cell_type": "code",
      "metadata": {
        "colab": {
          "base_uri": "https://localhost:8080/"
        },
        "id": "qc9-ss0ZCyhd",
        "outputId": "83310985-4f7b-4479-9d27-3c896b7b491e"
      },
      "source": [
        "try:\n",
        "    print(\"Now computing the result..\")\n",
        "    result = 5 / 0 \n",
        "    print(\"Computation was completed successfully\")\n",
        "except ZeroDivisionError:\n",
        "    print(\"Failed to compute result because you were trying to divide by zero\")\n",
        "    result = None\n",
        "\n",
        "print(result)\n",
        "\n",
        "print('-'*50)\n",
        "try:\n",
        "    print(\"Now computing the result..\")\n",
        "    result = 5 // 5 \n",
        "    print(\"Computation was completed successfully\")\n",
        "except ZeroDivisionError:\n",
        "    print(\"Failed to compute result because you were trying to divide by zero\")\n",
        "    result = None\n",
        "\n",
        "print(result)"
      ],
      "execution_count": 19,
      "outputs": [
        {
          "output_type": "stream",
          "text": [
            "Now computing the result..\n",
            "Failed to compute result because you were trying to divide by zero\n",
            "None\n",
            "--------------------------------------------------\n",
            "Now computing the result..\n",
            "Computation was completed successfully\n",
            "1\n"
          ],
          "name": "stdout"
        }
      ]
    },
    {
      "cell_type": "markdown",
      "metadata": {
        "id": "Z5Z6n63VHk3l"
      },
      "source": [
        "When an exception occurs inside a `try` block, the block's remaining statements are skipped. The `except` block is executed if the type of exception thrown matches that of the exception being handled. After executing the `except` block, the program execution returns to the normal flow.\n",
        "\n",
        "You can also handle more than one type of exception using multiple `except` statements. Learn more about exceptions here: https://www.w3schools.com/python/python_try_except.asp .\n",
        "\n",
        "Let's enhance the `loan_emi` function to use `try`-`except` to handle the scenario where the interest rate is 0%. It's common practice to make changes/enhancements to functions over time as new scenarios and use cases come up. It makes functions more robust & versatile."
      ]
    },
    {
      "cell_type": "code",
      "metadata": {
        "id": "aI_z_ie-Hl6V"
      },
      "source": [
        "def loan_emi(amount, duration, rate, down_payment=0):\n",
        "    loan_amount = amount - down_payment\n",
        "    try:\n",
        "        emi = loan_amount * rate * ((1+rate)**duration) / (((1+rate)**duration)-1)\n",
        "    except ZeroDivisionError:\n",
        "        emi = loan_amount / duration\n",
        "    emi = math.ceil(emi)\n",
        "    return emi"
      ],
      "execution_count": 20,
      "outputs": []
    },
    {
      "cell_type": "markdown",
      "metadata": {
        "id": "oC640Fd1H5JQ"
      },
      "source": [
        "We can use the updated `loan_emi` function to solve our problem.\n",
        "\n",
        "> **Q**: If you borrow `$100,000` using a 10-year loan with an interest rate of 9% per annum, what is the total amount you end up paying as interest?\n"
      ]
    },
    {
      "cell_type": "code",
      "metadata": {
        "colab": {
          "base_uri": "https://localhost:8080/"
        },
        "id": "NHb5iJpVHl9A",
        "outputId": "7ce0758b-eee4-4443-a2a9-2b30b03ca1c2"
      },
      "source": [
        "emi_with_interest = loan_emi(amount=100000, duration=10*12, rate=0.09/12)\n",
        "emi_with_interest\n",
        "\n",
        "emi_without_interest = loan_emi(amount=100000, duration=10*12, rate=0)\n",
        "emi_without_interest\n",
        "\n",
        "total_interest = (emi_with_interest - emi_without_interest) * 10*12\n",
        "\n",
        "print(\"The total interest paid is ${}.\".format(total_interest))"
      ],
      "execution_count": 21,
      "outputs": [
        {
          "output_type": "stream",
          "text": [
            "The total interest paid is $51960.\n"
          ],
          "name": "stdout"
        }
      ]
    },
    {
      "cell_type": "markdown",
      "metadata": {
        "id": "HIX9xtweIDNa"
      },
      "source": [
        "### Documenting functions using Docstrings\n",
        "\n",
        "We can add some documentation within our function using a *docstring*. A docstring is simply a string that appears as the first statement within the function body, and is used by the `help` function. A good docstring describes what the function does, and provides some explanation about the arguments."
      ]
    },
    {
      "cell_type": "code",
      "metadata": {
        "id": "uKKL43Q0IS04"
      },
      "source": [
        "def loan_emi(amount, duration, rate, down_payment=0):\n",
        "    \"\"\"Calculates the equal montly installment (EMI) for a loan.\n",
        "    \n",
        "    Arguments:\n",
        "        amount - Total amount to be spent (loan + down payment)\n",
        "        duration - Duration of the loan (in months)\n",
        "        rate - Rate of interest (monthly)\n",
        "        down_payment (optional) - Optional intial payment (deducted from amount)\n",
        "    \"\"\"\n",
        "    loan_amount = amount - down_payment\n",
        "    try:\n",
        "        emi = loan_amount * rate * ((1+rate)**duration) / (((1+rate)**duration)-1)\n",
        "    except ZeroDivisionError:\n",
        "        emi = loan_amount / duration\n",
        "    emi = math.ceil(emi)\n",
        "    return emi"
      ],
      "execution_count": 22,
      "outputs": []
    },
    {
      "cell_type": "markdown",
      "metadata": {
        "id": "pP34sWgPIXbF"
      },
      "source": [
        "In the docstring above, we've provided some additional information that the `duration` and `rate` are measured in months. You might even consider naming the arguments `duration_months` and `rate_monthly`, to avoid any confusion whatsoever. Can you think of some other ways to improve the function?"
      ]
    },
    {
      "cell_type": "code",
      "metadata": {
        "colab": {
          "base_uri": "https://localhost:8080/"
        },
        "id": "BotIKAYrIS3o",
        "outputId": "85cd2a0f-7f18-4bfc-91c9-884055aa714b"
      },
      "source": [
        "help(loan_emi)"
      ],
      "execution_count": 23,
      "outputs": [
        {
          "output_type": "stream",
          "text": [
            "Help on function loan_emi in module __main__:\n",
            "\n",
            "loan_emi(amount, duration, rate, down_payment=0)\n",
            "    Calculates the equal montly installment (EMI) for a loan.\n",
            "    \n",
            "    Arguments:\n",
            "        amount - Total amount to be spent (loan + down payment)\n",
            "        duration - Duration of the loan (in months)\n",
            "        rate - Rate of interest (monthly)\n",
            "        down_payment (optional) - Optional intial payment (deducted from amount)\n",
            "\n"
          ],
          "name": "stdout"
        }
      ]
    },
    {
      "cell_type": "markdown",
      "metadata": {
        "id": "Gcs5bTGcIjqB"
      },
      "source": [
        "\n",
        "\n",
        "* Functions with an arbitrary number of arguments using (`*args` and `**kwargs`)\n",
        "* Defining functions inside functions (and closures)\n",
        "* A function that invokes itself (recursion)\n",
        "* Functions that accept other functions as arguments or return other functions\n",
        "* Functions that enhance other functions (decorators)\n",
        "\n"
      ]
    },
    {
      "cell_type": "code",
      "metadata": {
        "colab": {
          "base_uri": "https://localhost:8080/"
        },
        "id": "UZ3fG4esQgwd",
        "outputId": "c2837753-724c-4ff7-a945-8e4cb161cf09"
      },
      "source": [
        "#*args and **kwargs\n",
        "#*args - It is used to pass a non-key worded, variable\n",
        "def myFun(*argv):\n",
        "    for arg in argv:\n",
        "        print (arg)\n",
        "   \n",
        "myFun('Hello', 'Welcome', 'to', 'GeeksforGeeks')\n",
        "\n",
        "\n",
        "print(\"-\"*50)\n",
        "#**kwargs - used to pass a keyworded, variable\n",
        "\n",
        "def myFun(**kwargs):\n",
        "    for key, value in kwargs.items():\n",
        "        print (\"%s == %s\" %(key, value))\n",
        " \n",
        "# Driver code\n",
        "myFun(first ='Geeks', mid ='for', last='Geeks') \n",
        "\n",
        "\n",
        "print(\"-\"*50)\n",
        "def myFun(arg1, arg2, arg3):\n",
        "    print(\"arg1:\", arg1)\n",
        "    print(\"arg2:\", arg2)\n",
        "    print(\"arg3:\", arg3)\n",
        "     \n",
        "# Now we can use *args or **kwargs to\n",
        "# pass arguments to this function :\n",
        "args = (\"Geeks\", \"for\", \"Geeks\")\n",
        "myFun(*args)\n",
        " \n",
        "kwargs = {\"arg1\" : \"Geeks\", \"arg2\" : \"for\", \"arg3\" : \"Geeks\"}\n",
        "myFun(**kwargs)\n",
        "\n",
        "print(\"-\"*50)\n",
        "def myFun(*args,**kwargs):\n",
        "    print(\"args: \", args)\n",
        "    print(\"kwargs: \", kwargs)\n",
        " \n",
        " \n",
        "# Now we can use both *args ,**kwargs\n",
        "# to pass arguments to this function :\n",
        "myFun('geeks','for','geeks',first=\"Geeks\",mid=\"for\",last=\"Geeks\")"
      ],
      "execution_count": 24,
      "outputs": [
        {
          "output_type": "stream",
          "text": [
            "Hello\n",
            "Welcome\n",
            "to\n",
            "GeeksforGeeks\n",
            "--------------------------------------------------\n",
            "first == Geeks\n",
            "mid == for\n",
            "last == Geeks\n",
            "--------------------------------------------------\n",
            "arg1: Geeks\n",
            "arg2: for\n",
            "arg3: Geeks\n",
            "arg1: Geeks\n",
            "arg2: for\n",
            "arg3: Geeks\n",
            "--------------------------------------------------\n",
            "args:  ('geeks', 'for', 'geeks')\n",
            "kwargs:  {'first': 'Geeks', 'mid': 'for', 'last': 'Geeks'}\n"
          ],
          "name": "stdout"
        }
      ]
    },
    {
      "cell_type": "code",
      "metadata": {
        "colab": {
          "base_uri": "https://localhost:8080/"
        },
        "id": "4qnMpgYRVDB6",
        "outputId": "5fdcc96b-20d3-47b5-b684-151ef1ee3036"
      },
      "source": [
        "#Inner Functions\n",
        "def outerFunction(text): \n",
        "    text = text \n",
        "    \n",
        "    def innerFunction(): \n",
        "        print(text) \n",
        "    \n",
        "    innerFunction() \n",
        "\n",
        "def f1():\n",
        "    s = 'I love GeeksforGeeks'\n",
        "      \n",
        "    def f2():\n",
        "        print(s)\n",
        "          \n",
        "    f2()\n",
        "  \n",
        "# Driver's code\n",
        "f1()\n"
      ],
      "execution_count": 25,
      "outputs": [
        {
          "output_type": "stream",
          "text": [
            "I love GeeksforGeeks\n"
          ],
          "name": "stdout"
        }
      ]
    },
    {
      "cell_type": "code",
      "metadata": {
        "colab": {
          "base_uri": "https://localhost:8080/"
        },
        "id": "6egrsSsAQgzG",
        "outputId": "5be3b094-9554-450b-c44a-31abe465b898"
      },
      "source": [
        "#Recursion function\n",
        "def recursive_factorial(n):  \n",
        "   if n == 1:  \n",
        "       return n  \n",
        "   else:  \n",
        "       return n * recursive_factorial(n-1)  \n",
        "  \n",
        "# user input\n",
        "num = 6\n",
        "  \n",
        "# check if the input is valid or not\n",
        "if num < 0:  \n",
        "   print(\"Invalid input ! Please enter a positive number.\")  \n",
        "elif num == 0:  \n",
        "   print(\"Factorial of number 0 is 1\")  \n",
        "else:  \n",
        "   print(\"Factorial of number\", num, \"=\", recursive_factorial(num)) "
      ],
      "execution_count": 26,
      "outputs": [
        {
          "output_type": "stream",
          "text": [
            "Factorial of number 6 = 720\n"
          ],
          "name": "stdout"
        }
      ]
    },
    {
      "cell_type": "code",
      "metadata": {
        "colab": {
          "base_uri": "https://localhost:8080/"
        },
        "id": "J1tSNQGvQg2D",
        "outputId": "d74af519-0dfa-4e5c-bc4e-3a3e9489a04c"
      },
      "source": [
        "#Passing function as an argument\n",
        "def shout(text): \n",
        "    return text.upper() \n",
        "  \n",
        "def whisper(text): \n",
        "    return text.lower() \n",
        "  \n",
        "def greet(func): \n",
        "    # storing the function in a variable \n",
        "    greeting = func(\"Hi, I am created by a function passed as an argument.\") \n",
        "    print(greeting)\n",
        "  \n",
        "greet(shout) \n",
        "greet(whisper) "
      ],
      "execution_count": 27,
      "outputs": [
        {
          "output_type": "stream",
          "text": [
            "HI, I AM CREATED BY A FUNCTION PASSED AS AN ARGUMENT.\n",
            "hi, i am created by a function passed as an argument.\n"
          ],
          "name": "stdout"
        }
      ]
    },
    {
      "cell_type": "code",
      "metadata": {
        "colab": {
          "base_uri": "https://localhost:8080/"
        },
        "id": "-t56I5a5Qg4X",
        "outputId": "867c6f32-9003-4beb-b1b8-e2ca685d7f59"
      },
      "source": [
        "#Decorators\n",
        "def shout(text): \n",
        "    return text.upper() \n",
        "  \n",
        "def whisper(text): \n",
        "    return text.lower() \n",
        "  \n",
        "def greet(func): \n",
        "    # storing the function in a variable \n",
        "    greeting = func(\"\"\"Hi, I am created by a function passed as an argument.\"\"\") \n",
        "    print (greeting) \n",
        "  \n",
        "greet(shout) \n",
        "greet(whisper) "
      ],
      "execution_count": 28,
      "outputs": [
        {
          "output_type": "stream",
          "text": [
            "HI, I AM CREATED BY A FUNCTION PASSED AS AN ARGUMENT.\n",
            "hi, i am created by a function passed as an argument.\n"
          ],
          "name": "stdout"
        }
      ]
    }
  ]
}
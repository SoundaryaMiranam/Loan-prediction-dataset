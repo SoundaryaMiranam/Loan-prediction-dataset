{
  "nbformat": 4,
  "nbformat_minor": 0,
  "metadata": {
    "colab": {
      "name": "Lesson-6.ipynb",
      "provenance": [],
      "collapsed_sections": []
    },
    "kernelspec": {
      "name": "python3",
      "display_name": "Python 3"
    },
    "language_info": {
      "name": "python"
    }
  },
  "cells": [
    {
      "cell_type": "markdown",
      "metadata": {
        "id": "Ys80UDP3L_4v"
      },
      "source": [
        "# Numerical Computing with Python and Numpy\n",
        "\n",
        "![](https://i.imgur.com/mg8O3kd.png)\n",
        "\n"
      ]
    },
    {
      "cell_type": "markdown",
      "metadata": {
        "id": "lM1bG3wcMH10"
      },
      "source": [
        "## Working with numerical data\n",
        "\n",
        "The \"data\" in *Data Analysis* typically refers to numerical data, e.g., stock prices, sales figures, sensor measurements, sports scores, database tables, etc. The [Numpy](https://numpy.org) library provides specialized data structures, functions, and other tools for numerical computing in Python. Let's work through an example to see why & how to use Numpy for working with numerical data.\n",
        "\n",
        "\n",
        "> Suppose we want to use climate data like the temperature, rainfall, and humidity to determine if a region is well suited for growing apples. A simple approach for doing this would be to formulate the relationship between the annual yield of apples (tons per hectare) and the climatic conditions like the average temperature (in degrees Fahrenheit), rainfall (in  millimeters) & average relative humidity (in percentage) as a linear equation.\n",
        ">\n",
        "> `yield_of_apples = w1 * temperature + w2 * rainfall + w3 * humidity`\n",
        "\n",
        "We're expressing the yield of apples as a weighted sum of the temperature, rainfall, and humidity. This equation is an approximation since the actual relationship may not necessarily be linear, and there may be other factors involved. But a simple linear model like this often works well in practice.\n",
        "\n",
        "Based on some statical analysis of historical data, we might come up with reasonable values for the weights `w1`, `w2`, and `w3`. Here's an example set of values:"
      ]
    },
    {
      "cell_type": "markdown",
      "metadata": {
        "id": "cARyKdubp_5D"
      },
      "source": [
        "Given some climate data for a region, we can now predict the yield of apples. Here's some sample data:\n",
        "\n",
        "<img src=\"https://i.imgur.com/TXPBiqv.png\" style=\"width:360px;\">\n",
        "\n",
        "To begin, we can define some variables to record climate data for a region."
      ]
    },
    {
      "cell_type": "code",
      "metadata": {
        "id": "vhhKK1qqsqUx",
        "colab": {
          "base_uri": "https://localhost:8080/"
        },
        "outputId": "deb340b7-3248-44e5-a0e2-922b159ec35c"
      },
      "source": [
        "w1, w2, w3 = 0.3, 0.2, 0.5\n",
        "kanto_temp = 73\n",
        "kanto_rainfall = 67\n",
        "kanto_humidity = 43\n",
        "\n",
        "#We can now substitute these variables into the linear equation to predict the yield of apples.\n",
        "kanto_yield_apples = kanto_temp * w1 + kanto_rainfall * w2 + kanto_humidity * w3\n",
        "print(\"The expected yield of apples in Kanto region is {} tons per hectare.\".format(kanto_yield_apples))"
      ],
      "execution_count": 1,
      "outputs": [
        {
          "output_type": "stream",
          "text": [
            "The expected yield of apples in Kanto region is 56.8 tons per hectare.\n"
          ],
          "name": "stdout"
        }
      ]
    },
    {
      "cell_type": "markdown",
      "metadata": {
        "id": "4NrnOUWwqQc8"
      },
      "source": [
        "To make it slightly easier to perform the above computation for multiple regions, we can represent the climate data for each region as a vector, i.e., a list of numbers."
      ]
    },
    {
      "cell_type": "code",
      "metadata": {
        "colab": {
          "base_uri": "https://localhost:8080/"
        },
        "id": "4PE3zpkbqRVw",
        "outputId": "9e15d973-616a-410d-c057-fa706f018c58"
      },
      "source": [
        "kanto = [73, 67, 43]\n",
        "johto = [91, 88, 64]\n",
        "hoenn = [87, 134, 58]\n",
        "sinnoh = [102, 43, 37]\n",
        "unova = [69, 96, 70]\n",
        "\n",
        "#The three numbers in each vector represent the temperature, rainfall, and humidity data, respectively. \n",
        "#We can also represent the set of weights used in the formula as a vector.\n",
        "weights = [w1, w2, w3]\n",
        "\n",
        "#We can now write a function `crop_yield` to calcuate the yield of apples (or any other crop) given the climate data and the respective weights.\n",
        "def crop_yield(region, weights):\n",
        "    result = 0\n",
        "    for x, w in zip(region, weights):\n",
        "        result += x * w\n",
        "    return result\n",
        "\n",
        "print(\"crop_yield for kanto : \",crop_yield(kanto, weights))\n",
        "print(\"crop_yield for johto : \",crop_yield(johto, weights))\n",
        "print(\"crop_yield for unova : \",crop_yield(unova, weights))    \n"
      ],
      "execution_count": 2,
      "outputs": [
        {
          "output_type": "stream",
          "text": [
            "crop_yield for kanto :  56.8\n",
            "crop_yield for johto :  76.9\n",
            "crop_yield for unova :  74.9\n"
          ],
          "name": "stdout"
        }
      ]
    },
    {
      "cell_type": "markdown",
      "metadata": {
        "id": "FsSld3WzrCso"
      },
      "source": [
        "## Going from Python lists to Numpy arrays\n",
        "\n",
        "\n",
        "The calculation performed by the `crop_yield` (element-wise multiplication of two vectors and taking a sum of the results) is also called the *dot product*. Learn more about dot product here: https://www.khanacademy.org/math/linear-algebra/vectors-and-spaces/dot-cross-products/v/vector-dot-product-and-vector-length . \n",
        "\n",
        "The Numpy library provides a built-in function to compute the dot product of two vectors. However, we must first convert the lists into Numpy arrays.\n",
        "\n",
        "Let's install the Numpy library using the `pip` package manager."
      ]
    },
    {
      "cell_type": "code",
      "metadata": {
        "id": "Dt7H5VMIqRck"
      },
      "source": [
        "#!pip install numpy\n",
        "import numpy as np"
      ],
      "execution_count": 3,
      "outputs": []
    },
    {
      "cell_type": "code",
      "metadata": {
        "colab": {
          "base_uri": "https://localhost:8080/"
        },
        "id": "GpyP1TSNrFpB",
        "outputId": "08502ef7-bf1b-4df2-f1e9-44d13903248b"
      },
      "source": [
        "#use the np.array function to create Numpy arrays\n",
        "#Numpy arrays have the type ndarray\n",
        "kanto = np.array([73, 67, 43])\n",
        "print(type(kanto))\n",
        "print(kanto)\n",
        "\n",
        "#similarly for weights\n",
        "weights = np.array([w1, w2, w3])\n",
        "print(type(weights))\n",
        "print(weights)\n",
        "\n",
        "\n",
        "print(\"-\"*50)\n",
        "#Just like lists, Numpy arrays support the indexing notation []\n",
        "print(weights[0])\n",
        "kanto[2]"
      ],
      "execution_count": 4,
      "outputs": [
        {
          "output_type": "stream",
          "text": [
            "<class 'numpy.ndarray'>\n",
            "[73 67 43]\n",
            "<class 'numpy.ndarray'>\n",
            "[0.3 0.2 0.5]\n",
            "--------------------------------------------------\n",
            "0.3\n"
          ],
          "name": "stdout"
        },
        {
          "output_type": "execute_result",
          "data": {
            "text/plain": [
              "43"
            ]
          },
          "metadata": {
            "tags": []
          },
          "execution_count": 4
        }
      ]
    },
    {
      "cell_type": "markdown",
      "metadata": {
        "id": "qf3f1DkUr9aI"
      },
      "source": [
        "## Operating on Numpy arrays\n",
        "\n",
        "We can now compute the dot product of the two vectors using the `np.dot` function."
      ]
    },
    {
      "cell_type": "code",
      "metadata": {
        "colab": {
          "base_uri": "https://localhost:8080/"
        },
        "id": "j0VM1SjJr9zs",
        "outputId": "6a7ac444-3cfb-4e21-925e-6b8580d3443f"
      },
      "source": [
        "print(np.dot(kanto, weights))\n",
        "\n",
        "#We can achieve the same result with low-level operations supported by Numpy arrays: performing an element-wise multiplication \n",
        "#and calculating the resulting numbers' sum.\n",
        "print((kanto * weights).sum())\n",
        "#The * operator performs an element-wise multiplication of two arrays if they have the same size.\n",
        "# The sum method calculates the sum of numbers in an array.\n",
        "\n",
        "arr1 = np.array([1, 2, 3])\n",
        "arr2 = np.array([4, 5, 6])\n",
        "print(arr1 * arr2)\n",
        "print(arr2.sum())"
      ],
      "execution_count": 5,
      "outputs": [
        {
          "output_type": "stream",
          "text": [
            "56.8\n",
            "56.8\n",
            "[ 4 10 18]\n",
            "15\n"
          ],
          "name": "stdout"
        }
      ]
    },
    {
      "cell_type": "markdown",
      "metadata": {
        "id": "kkwfmEatsdZE"
      },
      "source": [
        "## Benefits of using Numpy arrays\n",
        "\n",
        "Numpy arrays offer the following benefits over Python lists for operating on numerical data:\n",
        "\n",
        "- **Ease of use**: You can write small, concise, and intuitive mathematical expressions like `(kanto * weights).sum()` rather than using loops & custom functions like `crop_yield`.\n",
        "- **Performance**: Numpy operations and functions are implemented internally in C++, which makes them much faster than using Python statements & loops that are interpreted at runtime\n",
        "\n",
        "Here's a comparison of dot products performed using Python loops vs. Numpy arrays on two vectors with a million elements each."
      ]
    },
    {
      "cell_type": "code",
      "metadata": {
        "id": "64q80a_Osdzu"
      },
      "source": [
        "# Python lists\n",
        "arr1 = list(range(1000000))\n",
        "arr2 = list(range(1000000, 2000000))\n",
        "\n",
        "# Numpy arrays\n",
        "arr1_np = np.array(arr1)\n",
        "arr2_np = np.array(arr2)"
      ],
      "execution_count": 6,
      "outputs": []
    },
    {
      "cell_type": "code",
      "metadata": {
        "colab": {
          "base_uri": "https://localhost:8080/"
        },
        "id": "LBfrTinysiqI",
        "outputId": "26f40634-dd38-4ea8-c817-f12200a73c34"
      },
      "source": [
        "%%time\n",
        "result = 0\n",
        "for x1, x2 in zip(arr1, arr2):\n",
        "    result += x1*x2\n",
        "print(result)"
      ],
      "execution_count": 7,
      "outputs": [
        {
          "output_type": "stream",
          "text": [
            "833332333333500000\n",
            "CPU times: user 203 ms, sys: 701 µs, total: 204 ms\n",
            "Wall time: 218 ms\n"
          ],
          "name": "stdout"
        }
      ]
    },
    {
      "cell_type": "code",
      "metadata": {
        "colab": {
          "base_uri": "https://localhost:8080/"
        },
        "id": "n27Mwb7lsky1",
        "outputId": "8df90c51-48b4-4341-963e-55cac11d07fa"
      },
      "source": [
        "%%time\n",
        "np.dot(arr1_np, arr2_np)"
      ],
      "execution_count": 8,
      "outputs": [
        {
          "output_type": "stream",
          "text": [
            "CPU times: user 2.24 ms, sys: 0 ns, total: 2.24 ms\n",
            "Wall time: 2.36 ms\n"
          ],
          "name": "stdout"
        },
        {
          "output_type": "execute_result",
          "data": {
            "text/plain": [
              "833332333333500000"
            ]
          },
          "metadata": {
            "tags": []
          },
          "execution_count": 8
        }
      ]
    },
    {
      "cell_type": "markdown",
      "metadata": {
        "id": "x8l6J4ybs1lr"
      },
      "source": [
        "Conclusion: using `np.dot` is 100 times faster than using a `for` loop. This makes Numpy especially useful while working with really large datasets with tens of thousands or millions of data points."
      ]
    },
    {
      "cell_type": "markdown",
      "metadata": {
        "id": "ZqDnqx04s800"
      },
      "source": [
        "## Multi-dimensional Numpy arrays \n",
        "\n",
        "2-d array as a matrix with five rows and three columns. Each row represents one region, and the columns represent temperature, rainfall, and humidity, respectively.\n",
        "\n",
        "Numpy arrays can have any number of dimensions and different lengths along each dimension. We can inspect the length along each dimension using the `.shape` property of an array.\n",
        "\n",
        "<img src=\"https://fgnt.github.io/python_crashkurs_doc/_images/numpy_array_t.png\" width=\"420\">\n",
        "\n",
        "We can now go one step further and represent the climate data for all the regions using a single 2-dimensional Numpy array."
      ]
    },
    {
      "cell_type": "code",
      "metadata": {
        "colab": {
          "base_uri": "https://localhost:8080/"
        },
        "id": "qDC86h6Cs7IH",
        "outputId": "7aab2fb0-659f-483e-84e0-32a0d50cf610"
      },
      "source": [
        "#2-D array\n",
        "climate_data = np.array([[73, 67, 43],\n",
        "                         [91, 88, 64],\n",
        "                         [87, 134, 58],\n",
        "                         [102, 43, 37],\n",
        "                         [69, 96, 70]])\n",
        "print(climate_data)\n",
        "print(type(climate_data))\n",
        "print(climate_data.shape) # 2D array (matrix)\n",
        "\n",
        "#1-D array\n",
        "print(weights)\n",
        "print(type(weights))\n",
        "print(weights.shape) # 1D array (vector)\n",
        "\n",
        "# 3D array \n",
        "arr3 = np.array([\n",
        "    [[11, 12, 13], \n",
        "     [13, 14, 15]], \n",
        "    [[15, 16, 17], \n",
        "     [17, 18, 19.5]]])\n",
        "print(arr3)\n",
        "print(type(arr3))\n",
        "print(arr3.shape) # 3D array (matrix)\n",
        "\n",
        "#All the elements in a numpy array have the same data type. You can check the data type of an array using the `.dtype` property.\n",
        "print(weights.dtype)\n",
        "print(climate_data.dtype)\n",
        "\n",
        "#If an array contains even a single floating point number, all the other elements are also converted to floats.\n",
        "print(arr3.dtype)"
      ],
      "execution_count": 9,
      "outputs": [
        {
          "output_type": "stream",
          "text": [
            "[[ 73  67  43]\n",
            " [ 91  88  64]\n",
            " [ 87 134  58]\n",
            " [102  43  37]\n",
            " [ 69  96  70]]\n",
            "<class 'numpy.ndarray'>\n",
            "(5, 3)\n",
            "[0.3 0.2 0.5]\n",
            "<class 'numpy.ndarray'>\n",
            "(3,)\n",
            "[[[11.  12.  13. ]\n",
            "  [13.  14.  15. ]]\n",
            "\n",
            " [[15.  16.  17. ]\n",
            "  [17.  18.  19.5]]]\n",
            "<class 'numpy.ndarray'>\n",
            "(2, 2, 3)\n",
            "float64\n",
            "int64\n",
            "float64\n"
          ],
          "name": "stdout"
        }
      ]
    },
    {
      "cell_type": "markdown",
      "metadata": {
        "id": "4dFHWuzGx2eN"
      },
      "source": [
        "compute the predicted yields of apples in all the regions, using a single matrix multiplication between `climate_data` (a 5x3 matrix) and `weights` (a vector of length 3). Here's what it looks like visually:\n",
        "\n",
        "<img src=\"https://i.imgur.com/LJ2WKSI.png\" width=\"240\">\n",
        "\n",
        "You can learn about matrices and matrix multiplication by watching the first 3-4 videos of this playlist: https://www.youtube.com/watch?v=xyAuNHPsq-g&list=PLFD0EB975BA0CC1E0&index=1 .\n",
        "\n",
        "We can use the `np.matmul` function or the `@` operator to perform matrix multiplication."
      ]
    },
    {
      "cell_type": "code",
      "metadata": {
        "colab": {
          "base_uri": "https://localhost:8080/"
        },
        "id": "wTLUnmQ2x6uT",
        "outputId": "14978de2-f735-4c74-8f8a-d9ad37a9c8ff"
      },
      "source": [
        "print(np.matmul(climate_data, weights))\n",
        "print(climate_data @ weights)"
      ],
      "execution_count": 10,
      "outputs": [
        {
          "output_type": "stream",
          "text": [
            "[56.8 76.9 81.9 57.7 74.9]\n",
            "[56.8 76.9 81.9 57.7 74.9]\n"
          ],
          "name": "stdout"
        }
      ]
    },
    {
      "cell_type": "markdown",
      "metadata": {
        "id": "4Ny0dErnyKSJ"
      },
      "source": [
        "## Working with CSV data files\n",
        "\n",
        "Numpy also provides helper functions reading from & writing to files. Let's download a file `climate.txt`, which contains 10,000 climate measurements (temperature, rainfall & humidity) in the following format:\n",
        "\n",
        "\n",
        "```\n",
        "temperature,rainfall,humidity\n",
        "25.00,76.00,99.00\n",
        "39.00,65.00,70.00\n",
        "59.00,45.00,77.00\n",
        "84.00,63.00,38.00\n",
        "66.00,50.00,52.00\n",
        "41.00,94.00,77.00\n",
        "91.00,57.00,96.00\n",
        "49.00,96.00,99.00\n",
        "67.00,20.00,28.00\n",
        "...\n",
        "```\n",
        "\n",
        "This format of storing data is known as *comma-separated values* or CSV. \n",
        "\n",
        "> **CSVs**: A comma-separated values (CSV) file is a delimited text file that uses a comma to separate values. Each line of the file is a data record. Each record consists of one or more fields, separated by commas. A CSV file typically stores tabular data (numbers and text) in plain text, in which case each line will have the same number of fields. (Wikipedia)\n",
        "\n",
        "\n",
        "To read this file into a numpy array, we can use the `genfromtxt` function."
      ]
    },
    {
      "cell_type": "code",
      "metadata": {
        "colab": {
          "base_uri": "https://localhost:8080/"
        },
        "id": "Rd9zIox4yLWd",
        "outputId": "b4208097-baaa-4424-9f30-d94dae6ed243"
      },
      "source": [
        "import urllib.request\n",
        "\n",
        "urllib.request.urlretrieve('https://hub.jovian.ml/wp-content/uploads/2020/08/climate.csv', 'climate.txt')\n",
        "climate_data = np.genfromtxt('climate.txt', delimiter=',', skip_header=1)\n",
        "print(climate_data.shape)\n",
        "print(climate_data)\n",
        "#Note: For pandas ,a_dataframe = pd.read_csv(\"sample_data.txt\")\n",
        "\n",
        "#We can now perform a matrix multiplication using the `@` operator to predict the yield of apples for the entire dataset using a given set of weights.\n",
        "weights = np.array([0.3, 0.2, 0.5])\n",
        "yields = climate_data @ weights\n",
        "print(yields.shape)\n",
        "print(yields)\n",
        "#print(yields.reshape(10000, 1))"
      ],
      "execution_count": 11,
      "outputs": [
        {
          "output_type": "stream",
          "text": [
            "(10000, 3)\n",
            "[[25. 76. 99.]\n",
            " [39. 65. 70.]\n",
            " [59. 45. 77.]\n",
            " ...\n",
            " [99. 62. 58.]\n",
            " [70. 71. 91.]\n",
            " [92. 39. 76.]]\n",
            "(10000,)\n",
            "[72.2 59.7 65.2 ... 71.1 80.7 73.4]\n"
          ],
          "name": "stdout"
        }
      ]
    },
    {
      "cell_type": "code",
      "metadata": {
        "colab": {
          "base_uri": "https://localhost:8080/"
        },
        "id": "aW82_JfszzCU",
        "outputId": "6d22f9ea-a3d4-488f-ba77-d0e68775e39a"
      },
      "source": [
        "#Let's add the `yields` to `climate_data` as a fourth column using the [`np.concatenate`]\n",
        "#(https://numpy.org/doc/stable/reference/generated/numpy.concatenate.html) function.\n",
        "climate_results = np.concatenate((climate_data, yields.reshape(10000, 1)), axis=1)\n",
        "print(climate_results.shape)\n",
        "print(climate_results)"
      ],
      "execution_count": 12,
      "outputs": [
        {
          "output_type": "stream",
          "text": [
            "(10000, 4)\n",
            "[[25.  76.  99.  72.2]\n",
            " [39.  65.  70.  59.7]\n",
            " [59.  45.  77.  65.2]\n",
            " ...\n",
            " [99.  62.  58.  71.1]\n",
            " [70.  71.  91.  80.7]\n",
            " [92.  39.  76.  73.4]]\n"
          ],
          "name": "stdout"
        }
      ]
    },
    {
      "cell_type": "markdown",
      "metadata": {
        "id": "-kJKSv1l0b-J"
      },
      "source": [
        "There are a couple of subtleties here:\n",
        "\n",
        "* Since we wish to add new columns, we pass the argument `axis=1` to `np.concatenate`. The `axis` argument specifies the dimension for concatenation.\n",
        "\n",
        "*  The arrays should have the same number of dimensions, and the same length along each except the dimension used for concatenation. We use the [`np.reshape`](https://numpy.org/doc/stable/reference/generated/numpy.reshape.html) function to change the shape of `yields` from `(10000,)` to `(10000,1)`.\n",
        "\n",
        "Here's a visual explanation of `np.concatenate` along `axis=1` (can you guess what `axis=0` results in?):\n",
        "\n",
        "<img src=\"https://www.w3resource.com/w3r_images/python-numpy-image-exercise-58.png\" width=\"300\">\n",
        "\n",
        "The best way to understand what a Numpy function does is to experiment with it and read the documentation to learn about its arguments & return values. Use the cells below to experiment with `np.concatenate` and `np.reshape`."
      ]
    },
    {
      "cell_type": "code",
      "metadata": {
        "colab": {
          "base_uri": "https://localhost:8080/"
        },
        "id": "ytSMw0If0bhw",
        "outputId": "45ca4091-3795-4a48-8972-830a6cb6e9ca"
      },
      "source": [
        "#write the final results from our computation above back to a file using the np.savetxt function.\n",
        "np.savetxt('climate_results.txt', \n",
        "           climate_results, \n",
        "           fmt='%.2f', \n",
        "           delimiter=',',\n",
        "           header='temperature,rainfall,humidity,yeild_apples', \n",
        "           comments='')\n",
        "\n",
        "results = np.genfromtxt('climate_results.txt', delimiter=',')\n",
        "print(results)"
      ],
      "execution_count": 13,
      "outputs": [
        {
          "output_type": "stream",
          "text": [
            "[[ nan  nan  nan  nan]\n",
            " [25.  76.  99.  72.2]\n",
            " [39.  65.  70.  59.7]\n",
            " ...\n",
            " [99.  62.  58.  71.1]\n",
            " [70.  71.  91.  80.7]\n",
            " [92.  39.  76.  73.4]]\n"
          ],
          "name": "stdout"
        }
      ]
    },
    {
      "cell_type": "markdown",
      "metadata": {
        "id": "RpHDgJRO3iOn"
      },
      "source": [
        "Numpy provides hundreds of functions for performing operations on arrays. Here are some commonly used functions:\n",
        "\n",
        "\n",
        "* Mathematics: `np.sum`, `np.exp`, `np.round`, arithemtic operators \n",
        "* Array manipulation: `np.reshape`, `np.stack`, `np.concatenate`, `np.split`\n",
        "* Linear Algebra: `np.matmul`, `np.dot`, `np.transpose`, `np.eigvals`\n",
        "* Statistics: `np.mean`, `np.median`, `np.std`, `np.max`\n",
        "\n",
        "> **How to find the function you need?** The easiest way to find the right function for a specific operation or use-case is to do a web search. For instance, searching for \"How to join numpy arrays\" leads to [this tutorial on array concatenation](https://cmdlinetips.com/2018/04/how-to-concatenate-arrays-in-numpy/). \n",
        "\n",
        "You can find a full list of array functions here: https://numpy.org/doc/stable/reference/routines.html"
      ]
    },
    {
      "cell_type": "markdown",
      "metadata": {
        "id": "BFI4ZN943lhv"
      },
      "source": [
        "## Arithmetic operations, broadcasting and comparison\n",
        "\n",
        "Numpy arrays support arithmetic operators like `+`, `-`, `*`, etc. You can perform an arithmetic operation with a single number (also called scalar) or with another array of the same shape. Operators make it easy to write mathematical expressions with multi-dimensional arrays."
      ]
    },
    {
      "cell_type": "code",
      "metadata": {
        "colab": {
          "base_uri": "https://localhost:8080/"
        },
        "id": "tDA1n-ei3THg",
        "outputId": "83af38f1-c687-4a62-9e86-9d75ce035d35"
      },
      "source": [
        "arr2 = np.array([[1, 2, 3, 4], \n",
        "                 [5, 6, 7, 8], \n",
        "                 [9, 1, 2, 3]])\n",
        "\n",
        "arr3 = np.array([[11, 12, 13, 14], \n",
        "                 [15, 16, 17, 18], \n",
        "                 [19, 11, 12, 13]])\n",
        "\n",
        "# Adding a scalar\n",
        "print(\"Adding a scalar:\\n\",(arr2 + 3))\n",
        "\n",
        "# Element-wise subtraction\n",
        "print(\"Element-wise subtraction:\\n\",(arr3 - arr2))\n",
        "\n",
        "# Division by scalar\n",
        "print(\"Division by scalar:\\n\",(arr2 / 2))\n",
        "\n",
        "# Element-wise multiplication\n",
        "print(\"Element-wise multiplication:\\n\",(arr2 * arr3))\n",
        "\n",
        "# Modulus with scalar\n",
        "print(\"Modulus with scalar:\\n\",(arr2 % 4))"
      ],
      "execution_count": 14,
      "outputs": [
        {
          "output_type": "stream",
          "text": [
            "Adding a scalar:\n",
            " [[ 4  5  6  7]\n",
            " [ 8  9 10 11]\n",
            " [12  4  5  6]]\n",
            "Element-wise subtraction:\n",
            " [[10 10 10 10]\n",
            " [10 10 10 10]\n",
            " [10 10 10 10]]\n",
            "Division by scalar:\n",
            " [[0.5 1.  1.5 2. ]\n",
            " [2.5 3.  3.5 4. ]\n",
            " [4.5 0.5 1.  1.5]]\n",
            "Element-wise multiplication:\n",
            " [[ 11  24  39  56]\n",
            " [ 75  96 119 144]\n",
            " [171  11  24  39]]\n",
            "Modulus with scalar:\n",
            " [[1 2 3 0]\n",
            " [1 2 3 0]\n",
            " [1 1 2 3]]\n"
          ],
          "name": "stdout"
        }
      ]
    },
    {
      "cell_type": "markdown",
      "metadata": {
        "id": "oGju2LNO4rPx"
      },
      "source": [
        "### Array Broadcasting\n",
        "\n",
        "Numpy arrays also support *broadcasting*, allowing arithmetic operations between two arrays with different numbers of dimensions but compatible shapes. Let's look at an example to see how it works."
      ]
    },
    {
      "cell_type": "markdown",
      "metadata": {
        "id": "eBj0ShON5FEZ"
      },
      "source": [
        "When the expression `arr2 + arr4` is evaluated, `arr4` (which has the shape `(4,)`) is replicated three times to match the shape `(3, 4)` of `arr2`. Numpy performs the replication without actually creating three copies of the smaller dimension array, thus improving performance and using lower memory.\n",
        "\n",
        "<img src=\"https://jakevdp.github.io/PythonDataScienceHandbook/figures/02.05-broadcasting.png\" width=\"360\">\n"
      ]
    },
    {
      "cell_type": "code",
      "metadata": {
        "colab": {
          "base_uri": "https://localhost:8080/"
        },
        "id": "cAgufRky4r0p",
        "outputId": "9392ec1c-7050-4bc4-d225-9b27124886c0"
      },
      "source": [
        "arr2 = np.array([[1, 2, 3, 4], \n",
        "                 [5, 6, 7, 8], \n",
        "                 [9, 1, 2, 3]])\n",
        "\n",
        "arr4 = np.array([4, 5, 6, 7])\n",
        "\n",
        "print(arr2)\n",
        "print(arr2.shape)\n",
        "\n",
        "print(arr4)\n",
        "print(arr4.shape)\n",
        "\n",
        "\n",
        "print(arr2 + arr4)"
      ],
      "execution_count": 15,
      "outputs": [
        {
          "output_type": "stream",
          "text": [
            "[[1 2 3 4]\n",
            " [5 6 7 8]\n",
            " [9 1 2 3]]\n",
            "(3, 4)\n",
            "[4 5 6 7]\n",
            "(4,)\n",
            "[[ 5  7  9 11]\n",
            " [ 9 11 13 15]\n",
            " [13  6  8 10]]\n"
          ],
          "name": "stdout"
        }
      ]
    },
    {
      "cell_type": "code",
      "metadata": {
        "colab": {
          "base_uri": "https://localhost:8080/"
        },
        "id": "Krqv-MH95PxU",
        "outputId": "e772c930-422a-4563-e718-ff778aca8f1b"
      },
      "source": [
        "#Broadcasting only works if one of the arrays can be replicated to match the other array's shape.\n",
        "print(arr2.shape)\n",
        "print(arr2)\n",
        "\n",
        "arr5 = np.array([7, 8])\n",
        "print(arr5)\n",
        "print(arr5.shape)"
      ],
      "execution_count": 16,
      "outputs": [
        {
          "output_type": "stream",
          "text": [
            "(3, 4)\n",
            "[[1 2 3 4]\n",
            " [5 6 7 8]\n",
            " [9 1 2 3]]\n",
            "[7 8]\n",
            "(2,)\n"
          ],
          "name": "stdout"
        }
      ]
    },
    {
      "cell_type": "code",
      "metadata": {
        "colab": {
          "base_uri": "https://localhost:8080/",
          "height": 164
        },
        "id": "D7ITvpFE5iCI",
        "outputId": "0dcf3b0f-60fb-4957-f38a-013854b6a86b"
      },
      "source": [
        "arr2 + arr5"
      ],
      "execution_count": 17,
      "outputs": [
        {
          "output_type": "error",
          "ename": "ValueError",
          "evalue": "ignored",
          "traceback": [
            "\u001b[0;31m---------------------------------------------------------------------------\u001b[0m",
            "\u001b[0;31mValueError\u001b[0m                                Traceback (most recent call last)",
            "\u001b[0;32m<ipython-input-17-c22e92053c39>\u001b[0m in \u001b[0;36m<module>\u001b[0;34m()\u001b[0m\n\u001b[0;32m----> 1\u001b[0;31m \u001b[0marr2\u001b[0m \u001b[0;34m+\u001b[0m \u001b[0marr5\u001b[0m\u001b[0;34m\u001b[0m\u001b[0;34m\u001b[0m\u001b[0m\n\u001b[0m",
            "\u001b[0;31mValueError\u001b[0m: operands could not be broadcast together with shapes (3,4) (2,) "
          ]
        }
      ]
    },
    {
      "cell_type": "markdown",
      "metadata": {
        "id": "qRKybEXE5mp-"
      },
      "source": [
        "### Array Comparison\n",
        "\n",
        "Numpy arrays also support comparison operations like `==`, `!=`, `>` etc. The result is an array of booleans."
      ]
    },
    {
      "cell_type": "code",
      "metadata": {
        "colab": {
          "base_uri": "https://localhost:8080/"
        },
        "id": "8BKizQUT5oh0",
        "outputId": "9bf206a9-04e7-4eed-b5d7-5b9a6bef2ecc"
      },
      "source": [
        "arr1 = np.array([[1, 2, 3], [3, 4, 5]])\n",
        "arr2 = np.array([[2, 2, 3], [1, 2, 5]])\n",
        "\n",
        "print(arr1 == arr2)\n",
        "\n",
        "print(\"-\"*60)\n",
        "print(arr1 != arr2)\n",
        "\n",
        "print(\"-\"*60)\n",
        "print(arr1 >= arr2)\n",
        "\n",
        "print(\"-\"*60)\n",
        "print(arr1 < arr2)\n",
        "\n",
        "\n",
        "#Array comparison is frequently used to count the number of equal elements in two arrays using the `sum` method. \n",
        "#Remember that `True` evaluates to `1` and `False` evaluates to `0` when booleans are used in arithmetic operations.\n",
        "\n",
        "print(\"-\"*60)\n",
        "print((arr1 == arr2).sum())"
      ],
      "execution_count": 18,
      "outputs": [
        {
          "output_type": "stream",
          "text": [
            "[[False  True  True]\n",
            " [False False  True]]\n",
            "------------------------------------------------------------\n",
            "[[ True False False]\n",
            " [ True  True False]]\n",
            "------------------------------------------------------------\n",
            "[[False  True  True]\n",
            " [ True  True  True]]\n",
            "------------------------------------------------------------\n",
            "[[ True False False]\n",
            " [False False False]]\n",
            "------------------------------------------------------------\n",
            "3\n"
          ],
          "name": "stdout"
        }
      ]
    },
    {
      "cell_type": "markdown",
      "metadata": {
        "id": "LuIJd_IZ6Pt7"
      },
      "source": [
        "## Array indexing and slicing\n",
        "\n",
        "Numpy extends Python's list indexing notation using `[]` to multiple dimensions in an intuitive fashion. You can provide a comma-separated list of indices or ranges to select a specific element or a subarray (also called a slice) from a Numpy array."
      ]
    },
    {
      "cell_type": "code",
      "metadata": {
        "colab": {
          "base_uri": "https://localhost:8080/"
        },
        "id": "qKxkSMq_6QX2",
        "outputId": "acdb7aef-7d00-4fd9-b60f-fb514c534fa4"
      },
      "source": [
        "arr3 = np.array([\n",
        "    [[11, 12, 13, 14], \n",
        "     [13, 14, 15, 19]], \n",
        "    \n",
        "    [[15, 16, 17, 21], \n",
        "     [63, 92, 36, 18]], \n",
        "    \n",
        "    [[98, 32, 81, 23],      \n",
        "     [17, 18, 19.5, 43]]])\n",
        "\n",
        "print(arr3)\n",
        "print(\"shape:\",arr3.shape)\n",
        "\n",
        "# Single element\n",
        "print(\"Single element:\\n\",arr3[1, 1, 2])\n",
        "\n",
        "\n",
        "# Subarray using ranges\n",
        "print(\"Subarray using ranges:\\n\",arr3[1:, 0:1, :2])\n",
        "\n",
        "# Mixing indices and ranges\n",
        "print(\"Mixing indices and ranges:\\n\",arr3[1:, 1, 3])\n",
        "\n",
        "# Mixing indices and ranges\n",
        "print(\"Mixing indices and ranges:\\n\",arr3[1:, 1, :3])\n",
        "\n",
        "# Using fewer indices\n",
        "print(\"Using fewer indices:\\n\",arr3[1])\n",
        "\n",
        "# Using fewer indices\n",
        "print(\"Using fewer indices:\\n\",arr3[:2, 1])"
      ],
      "execution_count": 19,
      "outputs": [
        {
          "output_type": "stream",
          "text": [
            "[[[11.  12.  13.  14. ]\n",
            "  [13.  14.  15.  19. ]]\n",
            "\n",
            " [[15.  16.  17.  21. ]\n",
            "  [63.  92.  36.  18. ]]\n",
            "\n",
            " [[98.  32.  81.  23. ]\n",
            "  [17.  18.  19.5 43. ]]]\n",
            "shape: (3, 2, 4)\n",
            "Single element:\n",
            " 36.0\n",
            "Subarray using ranges:\n",
            " [[[15. 16.]]\n",
            "\n",
            " [[98. 32.]]]\n",
            "Mixing indices and ranges:\n",
            " [18. 43.]\n",
            "Mixing indices and ranges:\n",
            " [[63.  92.  36. ]\n",
            " [17.  18.  19.5]]\n",
            "Using fewer indices:\n",
            " [[15. 16. 17. 21.]\n",
            " [63. 92. 36. 18.]]\n",
            "Using fewer indices:\n",
            " [[13. 14. 15. 19.]\n",
            " [63. 92. 36. 18.]]\n"
          ],
          "name": "stdout"
        }
      ]
    },
    {
      "cell_type": "code",
      "metadata": {
        "colab": {
          "base_uri": "https://localhost:8080/",
          "height": 181
        },
        "id": "p0AQu1Cq6Qaz",
        "outputId": "3179800a-1b94-4ab3-95e2-de07d90a83cf"
      },
      "source": [
        "# Using too many indices\n",
        "arr3[1,3,2,1]"
      ],
      "execution_count": 20,
      "outputs": [
        {
          "output_type": "error",
          "ename": "IndexError",
          "evalue": "ignored",
          "traceback": [
            "\u001b[0;31m---------------------------------------------------------------------------\u001b[0m",
            "\u001b[0;31mIndexError\u001b[0m                                Traceback (most recent call last)",
            "\u001b[0;32m<ipython-input-20-fbde713646b3>\u001b[0m in \u001b[0;36m<module>\u001b[0;34m()\u001b[0m\n\u001b[1;32m      1\u001b[0m \u001b[0;31m# Using too many indices\u001b[0m\u001b[0;34m\u001b[0m\u001b[0;34m\u001b[0m\u001b[0;34m\u001b[0m\u001b[0m\n\u001b[0;32m----> 2\u001b[0;31m \u001b[0marr3\u001b[0m\u001b[0;34m[\u001b[0m\u001b[0;36m1\u001b[0m\u001b[0;34m,\u001b[0m\u001b[0;36m3\u001b[0m\u001b[0;34m,\u001b[0m\u001b[0;36m2\u001b[0m\u001b[0;34m,\u001b[0m\u001b[0;36m1\u001b[0m\u001b[0;34m]\u001b[0m\u001b[0;34m\u001b[0m\u001b[0;34m\u001b[0m\u001b[0m\n\u001b[0m",
            "\u001b[0;31mIndexError\u001b[0m: too many indices for array: array is 3-dimensional, but 4 were indexed"
          ]
        }
      ]
    },
    {
      "cell_type": "markdown",
      "metadata": {
        "id": "NgHqaQPtYYm2"
      },
      "source": [
        "Try out some examples of array indexing and slicing, with different combinations of indices and ranges. Here are some more examples demonstrated visually:\n",
        "\n",
        "<img src=\"https://scipy-lectures.org/_images/numpy_indexing.png\" width=\"360\">"
      ]
    },
    {
      "cell_type": "markdown",
      "metadata": {
        "id": "emWGEz-OYoLm"
      },
      "source": [
        "## Other ways of creating Numpy arrays\n",
        "\n",
        "Numpy also provides some handy functions to create arrays of desired shapes with fixed or random values. Check out the [official documentation](https://numpy.org/doc/stable/reference/routines.array-creation.html) or use the `help` function to learn more."
      ]
    },
    {
      "cell_type": "code",
      "metadata": {
        "colab": {
          "base_uri": "https://localhost:8080/"
        },
        "id": "zB_s8pvNYpXD",
        "outputId": "94fa2976-1a23-4605-bdd9-4bf12042dcca"
      },
      "source": [
        "# All zeros\n",
        "print(\"array of all zeros:\\n\",np.zeros((3, 2)))\n",
        "\n",
        "# All ones\n",
        "print(\"array of all ones:\\n\",np.ones([2, 2, 3]))\n",
        "\n",
        "# Identity matrix\n",
        "print(\"array with identity matrix:\\n\",np.eye(3))\n",
        "\n",
        "# Random vector\n",
        "print(\"random matrix with .rand:\\n\",np.random.rand(5))\n",
        "\n",
        "# Random matrix\n",
        "print(\"random matrix with .randn\",np.random.randn(2, 3))\n",
        "\n",
        "# rand vs. randn - what's the difference?\n",
        "\n",
        "\n",
        "# Fixed value\n",
        "print(\"fixed value array\",np.full([2, 3], 42))"
      ],
      "execution_count": 21,
      "outputs": [
        {
          "output_type": "stream",
          "text": [
            "array of all zeros:\n",
            " [[0. 0.]\n",
            " [0. 0.]\n",
            " [0. 0.]]\n",
            "array of all ones:\n",
            " [[[1. 1. 1.]\n",
            "  [1. 1. 1.]]\n",
            "\n",
            " [[1. 1. 1.]\n",
            "  [1. 1. 1.]]]\n",
            "array with identity matrix:\n",
            " [[1. 0. 0.]\n",
            " [0. 1. 0.]\n",
            " [0. 0. 1.]]\n",
            "random matrix with .rand:\n",
            " [0.23667767 0.15825189 0.66473692 0.7635083  0.61906562]\n",
            "random matrix with .randn [[-0.70094131  0.59724584  0.3340355 ]\n",
            " [ 0.53454368 -0.12256209  0.81033652]]\n",
            "fixed value array [[42 42 42]\n",
            " [42 42 42]]\n"
          ],
          "name": "stdout"
        }
      ]
    },
    {
      "cell_type": "code",
      "metadata": {
        "colab": {
          "base_uri": "https://localhost:8080/"
        },
        "id": "TmUpMMCVYpZv",
        "outputId": "df92910b-992e-4035-a155-551e667a3a0e"
      },
      "source": [
        "# Range with start, end and step\n",
        "print(\"range with steps:\\n\",np.arange(10, 90, 3))\n",
        "\n",
        "# Equally spaced numbers in a range\n",
        "print(\"range with equal intervals:\\n\",np.linspace(3, 27, 9))"
      ],
      "execution_count": 23,
      "outputs": [
        {
          "output_type": "stream",
          "text": [
            "range with steps:\n",
            " [10 13 16 19 22 25 28 31 34 37 40 43 46 49 52 55 58 61 64 67 70 73 76 79\n",
            " 82 85 88]\n",
            "range with equal intervals:\n",
            " [ 3.  6.  9. 12. 15. 18. 21. 24. 27.]\n"
          ],
          "name": "stdout"
        }
      ]
    }
  ]
}